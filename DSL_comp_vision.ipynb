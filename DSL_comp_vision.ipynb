{
  "nbformat": 4,
  "nbformat_minor": 0,
  "metadata": {
    "colab": {
      "name": "DSL comp vision.ipynb",
      "provenance": []
    },
    "kernelspec": {
      "name": "python3",
      "display_name": "Python 3"
    },
    "accelerator": "GPU",
    "widgets": {
      "application/vnd.jupyter.widget-state+json": {
        "8a84659c9a0d429fa2b056b6abe2a50f": {
          "model_module": "@jupyter-widgets/controls",
          "model_name": "HBoxModel",
          "state": {
            "_view_name": "HBoxView",
            "_dom_classes": [],
            "_model_name": "HBoxModel",
            "_view_module": "@jupyter-widgets/controls",
            "_model_module_version": "1.5.0",
            "_view_count": null,
            "_view_module_version": "1.5.0",
            "box_style": "",
            "layout": "IPY_MODEL_90d4685810714ecb81611d725113e45b",
            "_model_module": "@jupyter-widgets/controls",
            "children": [
              "IPY_MODEL_de7addf828724b51b179150e541a23ff",
              "IPY_MODEL_ddcfafd40d844c5cbbf30d0d8f85a59b"
            ]
          }
        },
        "90d4685810714ecb81611d725113e45b": {
          "model_module": "@jupyter-widgets/base",
          "model_name": "LayoutModel",
          "state": {
            "_view_name": "LayoutView",
            "grid_template_rows": null,
            "right": null,
            "justify_content": null,
            "_view_module": "@jupyter-widgets/base",
            "overflow": null,
            "_model_module_version": "1.2.0",
            "_view_count": null,
            "flex_flow": null,
            "width": null,
            "min_width": null,
            "border": null,
            "align_items": null,
            "bottom": null,
            "_model_module": "@jupyter-widgets/base",
            "top": null,
            "grid_column": null,
            "overflow_y": null,
            "overflow_x": null,
            "grid_auto_flow": null,
            "grid_area": null,
            "grid_template_columns": null,
            "flex": null,
            "_model_name": "LayoutModel",
            "justify_items": null,
            "grid_row": null,
            "max_height": null,
            "align_content": null,
            "visibility": null,
            "align_self": null,
            "height": null,
            "min_height": null,
            "padding": null,
            "grid_auto_rows": null,
            "grid_gap": null,
            "max_width": null,
            "order": null,
            "_view_module_version": "1.2.0",
            "grid_template_areas": null,
            "object_position": null,
            "object_fit": null,
            "grid_auto_columns": null,
            "margin": null,
            "display": null,
            "left": null
          }
        },
        "de7addf828724b51b179150e541a23ff": {
          "model_module": "@jupyter-widgets/controls",
          "model_name": "FloatProgressModel",
          "state": {
            "_view_name": "ProgressView",
            "style": "IPY_MODEL_a17fc46614394cbc9bc75f22b712815d",
            "_dom_classes": [],
            "description": "100%",
            "_model_name": "FloatProgressModel",
            "bar_style": "success",
            "max": 100441675,
            "_view_module": "@jupyter-widgets/controls",
            "_model_module_version": "1.5.0",
            "value": 100441675,
            "_view_count": null,
            "_view_module_version": "1.5.0",
            "orientation": "horizontal",
            "min": 0,
            "description_tooltip": null,
            "_model_module": "@jupyter-widgets/controls",
            "layout": "IPY_MODEL_44ee0a8d7ea24bd1b4d01db8cb50700a"
          }
        },
        "ddcfafd40d844c5cbbf30d0d8f85a59b": {
          "model_module": "@jupyter-widgets/controls",
          "model_name": "HTMLModel",
          "state": {
            "_view_name": "HTMLView",
            "style": "IPY_MODEL_1cfae42a619747fdacf0394c7a2f6e7c",
            "_dom_classes": [],
            "description": "",
            "_model_name": "HTMLModel",
            "placeholder": "​",
            "_view_module": "@jupyter-widgets/controls",
            "_model_module_version": "1.5.0",
            "value": " 95.8M/95.8M [00:00&lt;00:00, 115MB/s]",
            "_view_count": null,
            "_view_module_version": "1.5.0",
            "description_tooltip": null,
            "_model_module": "@jupyter-widgets/controls",
            "layout": "IPY_MODEL_e373ed7a084f42f8b6900bc83a227299"
          }
        },
        "a17fc46614394cbc9bc75f22b712815d": {
          "model_module": "@jupyter-widgets/controls",
          "model_name": "ProgressStyleModel",
          "state": {
            "_view_name": "StyleView",
            "_model_name": "ProgressStyleModel",
            "description_width": "initial",
            "_view_module": "@jupyter-widgets/base",
            "_model_module_version": "1.5.0",
            "_view_count": null,
            "_view_module_version": "1.2.0",
            "bar_color": null,
            "_model_module": "@jupyter-widgets/controls"
          }
        },
        "44ee0a8d7ea24bd1b4d01db8cb50700a": {
          "model_module": "@jupyter-widgets/base",
          "model_name": "LayoutModel",
          "state": {
            "_view_name": "LayoutView",
            "grid_template_rows": null,
            "right": null,
            "justify_content": null,
            "_view_module": "@jupyter-widgets/base",
            "overflow": null,
            "_model_module_version": "1.2.0",
            "_view_count": null,
            "flex_flow": null,
            "width": null,
            "min_width": null,
            "border": null,
            "align_items": null,
            "bottom": null,
            "_model_module": "@jupyter-widgets/base",
            "top": null,
            "grid_column": null,
            "overflow_y": null,
            "overflow_x": null,
            "grid_auto_flow": null,
            "grid_area": null,
            "grid_template_columns": null,
            "flex": null,
            "_model_name": "LayoutModel",
            "justify_items": null,
            "grid_row": null,
            "max_height": null,
            "align_content": null,
            "visibility": null,
            "align_self": null,
            "height": null,
            "min_height": null,
            "padding": null,
            "grid_auto_rows": null,
            "grid_gap": null,
            "max_width": null,
            "order": null,
            "_view_module_version": "1.2.0",
            "grid_template_areas": null,
            "object_position": null,
            "object_fit": null,
            "grid_auto_columns": null,
            "margin": null,
            "display": null,
            "left": null
          }
        },
        "1cfae42a619747fdacf0394c7a2f6e7c": {
          "model_module": "@jupyter-widgets/controls",
          "model_name": "DescriptionStyleModel",
          "state": {
            "_view_name": "StyleView",
            "_model_name": "DescriptionStyleModel",
            "description_width": "",
            "_view_module": "@jupyter-widgets/base",
            "_model_module_version": "1.5.0",
            "_view_count": null,
            "_view_module_version": "1.2.0",
            "_model_module": "@jupyter-widgets/controls"
          }
        },
        "e373ed7a084f42f8b6900bc83a227299": {
          "model_module": "@jupyter-widgets/base",
          "model_name": "LayoutModel",
          "state": {
            "_view_name": "LayoutView",
            "grid_template_rows": null,
            "right": null,
            "justify_content": null,
            "_view_module": "@jupyter-widgets/base",
            "overflow": null,
            "_model_module_version": "1.2.0",
            "_view_count": null,
            "flex_flow": null,
            "width": null,
            "min_width": null,
            "border": null,
            "align_items": null,
            "bottom": null,
            "_model_module": "@jupyter-widgets/base",
            "top": null,
            "grid_column": null,
            "overflow_y": null,
            "overflow_x": null,
            "grid_auto_flow": null,
            "grid_area": null,
            "grid_template_columns": null,
            "flex": null,
            "_model_name": "LayoutModel",
            "justify_items": null,
            "grid_row": null,
            "max_height": null,
            "align_content": null,
            "visibility": null,
            "align_self": null,
            "height": null,
            "min_height": null,
            "padding": null,
            "grid_auto_rows": null,
            "grid_gap": null,
            "max_width": null,
            "order": null,
            "_view_module_version": "1.2.0",
            "grid_template_areas": null,
            "object_position": null,
            "object_fit": null,
            "grid_auto_columns": null,
            "margin": null,
            "display": null,
            "left": null
          }
        },
        "7dfd40d6269d47189c47a01af5370c84": {
          "model_module": "@jupyter-widgets/controls",
          "model_name": "HBoxModel",
          "state": {
            "_view_name": "HBoxView",
            "_dom_classes": [],
            "_model_name": "HBoxModel",
            "_view_module": "@jupyter-widgets/controls",
            "_model_module_version": "1.5.0",
            "_view_count": null,
            "_view_module_version": "1.5.0",
            "box_style": "",
            "layout": "IPY_MODEL_ce041d19dc034fe28d276b00dbfb1093",
            "_model_module": "@jupyter-widgets/controls",
            "children": [
              "IPY_MODEL_a152d27cc1734015b4f01248058edacd",
              "IPY_MODEL_7b7369d6df784cfd9e13957a3ed48f6d"
            ]
          }
        },
        "ce041d19dc034fe28d276b00dbfb1093": {
          "model_module": "@jupyter-widgets/base",
          "model_name": "LayoutModel",
          "state": {
            "_view_name": "LayoutView",
            "grid_template_rows": null,
            "right": null,
            "justify_content": null,
            "_view_module": "@jupyter-widgets/base",
            "overflow": null,
            "_model_module_version": "1.2.0",
            "_view_count": null,
            "flex_flow": null,
            "width": null,
            "min_width": null,
            "border": null,
            "align_items": null,
            "bottom": null,
            "_model_module": "@jupyter-widgets/base",
            "top": null,
            "grid_column": null,
            "overflow_y": null,
            "overflow_x": null,
            "grid_auto_flow": null,
            "grid_area": null,
            "grid_template_columns": null,
            "flex": null,
            "_model_name": "LayoutModel",
            "justify_items": null,
            "grid_row": null,
            "max_height": null,
            "align_content": null,
            "visibility": null,
            "align_self": null,
            "height": null,
            "min_height": null,
            "padding": null,
            "grid_auto_rows": null,
            "grid_gap": null,
            "max_width": null,
            "order": null,
            "_view_module_version": "1.2.0",
            "grid_template_areas": null,
            "object_position": null,
            "object_fit": null,
            "grid_auto_columns": null,
            "margin": null,
            "display": null,
            "left": null
          }
        },
        "a152d27cc1734015b4f01248058edacd": {
          "model_module": "@jupyter-widgets/controls",
          "model_name": "FloatProgressModel",
          "state": {
            "_view_name": "ProgressView",
            "style": "IPY_MODEL_1592a3da06b7440a9c82dc845f1a38a1",
            "_dom_classes": [],
            "description": "100%",
            "_model_name": "FloatProgressModel",
            "bar_style": "success",
            "max": 100441675,
            "_view_module": "@jupyter-widgets/controls",
            "_model_module_version": "1.5.0",
            "value": 100441675,
            "_view_count": null,
            "_view_module_version": "1.5.0",
            "orientation": "horizontal",
            "min": 0,
            "description_tooltip": null,
            "_model_module": "@jupyter-widgets/controls",
            "layout": "IPY_MODEL_dfab200b345c49758a881c50847c9f4c"
          }
        },
        "7b7369d6df784cfd9e13957a3ed48f6d": {
          "model_module": "@jupyter-widgets/controls",
          "model_name": "HTMLModel",
          "state": {
            "_view_name": "HTMLView",
            "style": "IPY_MODEL_eba150daa49040b596a386aa95bebff4",
            "_dom_classes": [],
            "description": "",
            "_model_name": "HTMLModel",
            "placeholder": "​",
            "_view_module": "@jupyter-widgets/controls",
            "_model_module_version": "1.5.0",
            "value": " 95.8M/95.8M [01:41&lt;00:00, 993kB/s]",
            "_view_count": null,
            "_view_module_version": "1.5.0",
            "description_tooltip": null,
            "_model_module": "@jupyter-widgets/controls",
            "layout": "IPY_MODEL_f07a9a3a7b89427594dfa833ea9e45e1"
          }
        },
        "1592a3da06b7440a9c82dc845f1a38a1": {
          "model_module": "@jupyter-widgets/controls",
          "model_name": "ProgressStyleModel",
          "state": {
            "_view_name": "StyleView",
            "_model_name": "ProgressStyleModel",
            "description_width": "initial",
            "_view_module": "@jupyter-widgets/base",
            "_model_module_version": "1.5.0",
            "_view_count": null,
            "_view_module_version": "1.2.0",
            "bar_color": null,
            "_model_module": "@jupyter-widgets/controls"
          }
        },
        "dfab200b345c49758a881c50847c9f4c": {
          "model_module": "@jupyter-widgets/base",
          "model_name": "LayoutModel",
          "state": {
            "_view_name": "LayoutView",
            "grid_template_rows": null,
            "right": null,
            "justify_content": null,
            "_view_module": "@jupyter-widgets/base",
            "overflow": null,
            "_model_module_version": "1.2.0",
            "_view_count": null,
            "flex_flow": null,
            "width": null,
            "min_width": null,
            "border": null,
            "align_items": null,
            "bottom": null,
            "_model_module": "@jupyter-widgets/base",
            "top": null,
            "grid_column": null,
            "overflow_y": null,
            "overflow_x": null,
            "grid_auto_flow": null,
            "grid_area": null,
            "grid_template_columns": null,
            "flex": null,
            "_model_name": "LayoutModel",
            "justify_items": null,
            "grid_row": null,
            "max_height": null,
            "align_content": null,
            "visibility": null,
            "align_self": null,
            "height": null,
            "min_height": null,
            "padding": null,
            "grid_auto_rows": null,
            "grid_gap": null,
            "max_width": null,
            "order": null,
            "_view_module_version": "1.2.0",
            "grid_template_areas": null,
            "object_position": null,
            "object_fit": null,
            "grid_auto_columns": null,
            "margin": null,
            "display": null,
            "left": null
          }
        },
        "eba150daa49040b596a386aa95bebff4": {
          "model_module": "@jupyter-widgets/controls",
          "model_name": "DescriptionStyleModel",
          "state": {
            "_view_name": "StyleView",
            "_model_name": "DescriptionStyleModel",
            "description_width": "",
            "_view_module": "@jupyter-widgets/base",
            "_model_module_version": "1.5.0",
            "_view_count": null,
            "_view_module_version": "1.2.0",
            "_model_module": "@jupyter-widgets/controls"
          }
        },
        "f07a9a3a7b89427594dfa833ea9e45e1": {
          "model_module": "@jupyter-widgets/base",
          "model_name": "LayoutModel",
          "state": {
            "_view_name": "LayoutView",
            "grid_template_rows": null,
            "right": null,
            "justify_content": null,
            "_view_module": "@jupyter-widgets/base",
            "overflow": null,
            "_model_module_version": "1.2.0",
            "_view_count": null,
            "flex_flow": null,
            "width": null,
            "min_width": null,
            "border": null,
            "align_items": null,
            "bottom": null,
            "_model_module": "@jupyter-widgets/base",
            "top": null,
            "grid_column": null,
            "overflow_y": null,
            "overflow_x": null,
            "grid_auto_flow": null,
            "grid_area": null,
            "grid_template_columns": null,
            "flex": null,
            "_model_name": "LayoutModel",
            "justify_items": null,
            "grid_row": null,
            "max_height": null,
            "align_content": null,
            "visibility": null,
            "align_self": null,
            "height": null,
            "min_height": null,
            "padding": null,
            "grid_auto_rows": null,
            "grid_gap": null,
            "max_width": null,
            "order": null,
            "_view_module_version": "1.2.0",
            "grid_template_areas": null,
            "object_position": null,
            "object_fit": null,
            "grid_auto_columns": null,
            "margin": null,
            "display": null,
            "left": null
          }
        },
        "1a546f50ff614969b4fe7b33919eb174": {
          "model_module": "@jupyter-widgets/controls",
          "model_name": "HBoxModel",
          "state": {
            "_view_name": "HBoxView",
            "_dom_classes": [],
            "_model_name": "HBoxModel",
            "_view_module": "@jupyter-widgets/controls",
            "_model_module_version": "1.5.0",
            "_view_count": null,
            "_view_module_version": "1.5.0",
            "box_style": "",
            "layout": "IPY_MODEL_80c25c4600e64d72b02f1769004e5230",
            "_model_module": "@jupyter-widgets/controls",
            "children": [
              "IPY_MODEL_e8081f8e05e2475da9e00f0b8094b9de",
              "IPY_MODEL_ea8a9dfcf72b4d97a5662d6ac7ab8db2"
            ]
          }
        },
        "80c25c4600e64d72b02f1769004e5230": {
          "model_module": "@jupyter-widgets/base",
          "model_name": "LayoutModel",
          "state": {
            "_view_name": "LayoutView",
            "grid_template_rows": null,
            "right": null,
            "justify_content": null,
            "_view_module": "@jupyter-widgets/base",
            "overflow": null,
            "_model_module_version": "1.2.0",
            "_view_count": null,
            "flex_flow": null,
            "width": null,
            "min_width": null,
            "border": null,
            "align_items": null,
            "bottom": null,
            "_model_module": "@jupyter-widgets/base",
            "top": null,
            "grid_column": null,
            "overflow_y": null,
            "overflow_x": null,
            "grid_auto_flow": null,
            "grid_area": null,
            "grid_template_columns": null,
            "flex": null,
            "_model_name": "LayoutModel",
            "justify_items": null,
            "grid_row": null,
            "max_height": null,
            "align_content": null,
            "visibility": null,
            "align_self": null,
            "height": null,
            "min_height": null,
            "padding": null,
            "grid_auto_rows": null,
            "grid_gap": null,
            "max_width": null,
            "order": null,
            "_view_module_version": "1.2.0",
            "grid_template_areas": null,
            "object_position": null,
            "object_fit": null,
            "grid_auto_columns": null,
            "margin": null,
            "display": null,
            "left": null
          }
        },
        "e8081f8e05e2475da9e00f0b8094b9de": {
          "model_module": "@jupyter-widgets/controls",
          "model_name": "FloatProgressModel",
          "state": {
            "_view_name": "ProgressView",
            "style": "IPY_MODEL_d3578cd9a16040a582872d8d81fa59a7",
            "_dom_classes": [],
            "description": "100%",
            "_model_name": "FloatProgressModel",
            "bar_style": "success",
            "max": 178728960,
            "_view_module": "@jupyter-widgets/controls",
            "_model_module_version": "1.5.0",
            "value": 178728960,
            "_view_count": null,
            "_view_module_version": "1.5.0",
            "orientation": "horizontal",
            "min": 0,
            "description_tooltip": null,
            "_model_module": "@jupyter-widgets/controls",
            "layout": "IPY_MODEL_c494a26a60444e8db4e8192ed418a751"
          }
        },
        "ea8a9dfcf72b4d97a5662d6ac7ab8db2": {
          "model_module": "@jupyter-widgets/controls",
          "model_name": "HTMLModel",
          "state": {
            "_view_name": "HTMLView",
            "style": "IPY_MODEL_c6aa9d620cda4179a3f967d072f8d60c",
            "_dom_classes": [],
            "description": "",
            "_model_name": "HTMLModel",
            "placeholder": "​",
            "_view_module": "@jupyter-widgets/controls",
            "_model_module_version": "1.5.0",
            "value": " 170M/170M [42:48&lt;00:00, 69.6kB/s]",
            "_view_count": null,
            "_view_module_version": "1.5.0",
            "description_tooltip": null,
            "_model_module": "@jupyter-widgets/controls",
            "layout": "IPY_MODEL_710694c8a9bc4069be31f10d36b3c484"
          }
        },
        "d3578cd9a16040a582872d8d81fa59a7": {
          "model_module": "@jupyter-widgets/controls",
          "model_name": "ProgressStyleModel",
          "state": {
            "_view_name": "StyleView",
            "_model_name": "ProgressStyleModel",
            "description_width": "initial",
            "_view_module": "@jupyter-widgets/base",
            "_model_module_version": "1.5.0",
            "_view_count": null,
            "_view_module_version": "1.2.0",
            "bar_color": null,
            "_model_module": "@jupyter-widgets/controls"
          }
        },
        "c494a26a60444e8db4e8192ed418a751": {
          "model_module": "@jupyter-widgets/base",
          "model_name": "LayoutModel",
          "state": {
            "_view_name": "LayoutView",
            "grid_template_rows": null,
            "right": null,
            "justify_content": null,
            "_view_module": "@jupyter-widgets/base",
            "overflow": null,
            "_model_module_version": "1.2.0",
            "_view_count": null,
            "flex_flow": null,
            "width": null,
            "min_width": null,
            "border": null,
            "align_items": null,
            "bottom": null,
            "_model_module": "@jupyter-widgets/base",
            "top": null,
            "grid_column": null,
            "overflow_y": null,
            "overflow_x": null,
            "grid_auto_flow": null,
            "grid_area": null,
            "grid_template_columns": null,
            "flex": null,
            "_model_name": "LayoutModel",
            "justify_items": null,
            "grid_row": null,
            "max_height": null,
            "align_content": null,
            "visibility": null,
            "align_self": null,
            "height": null,
            "min_height": null,
            "padding": null,
            "grid_auto_rows": null,
            "grid_gap": null,
            "max_width": null,
            "order": null,
            "_view_module_version": "1.2.0",
            "grid_template_areas": null,
            "object_position": null,
            "object_fit": null,
            "grid_auto_columns": null,
            "margin": null,
            "display": null,
            "left": null
          }
        },
        "c6aa9d620cda4179a3f967d072f8d60c": {
          "model_module": "@jupyter-widgets/controls",
          "model_name": "DescriptionStyleModel",
          "state": {
            "_view_name": "StyleView",
            "_model_name": "DescriptionStyleModel",
            "description_width": "",
            "_view_module": "@jupyter-widgets/base",
            "_model_module_version": "1.5.0",
            "_view_count": null,
            "_view_module_version": "1.2.0",
            "_model_module": "@jupyter-widgets/controls"
          }
        },
        "710694c8a9bc4069be31f10d36b3c484": {
          "model_module": "@jupyter-widgets/base",
          "model_name": "LayoutModel",
          "state": {
            "_view_name": "LayoutView",
            "grid_template_rows": null,
            "right": null,
            "justify_content": null,
            "_view_module": "@jupyter-widgets/base",
            "overflow": null,
            "_model_module_version": "1.2.0",
            "_view_count": null,
            "flex_flow": null,
            "width": null,
            "min_width": null,
            "border": null,
            "align_items": null,
            "bottom": null,
            "_model_module": "@jupyter-widgets/base",
            "top": null,
            "grid_column": null,
            "overflow_y": null,
            "overflow_x": null,
            "grid_auto_flow": null,
            "grid_area": null,
            "grid_template_columns": null,
            "flex": null,
            "_model_name": "LayoutModel",
            "justify_items": null,
            "grid_row": null,
            "max_height": null,
            "align_content": null,
            "visibility": null,
            "align_self": null,
            "height": null,
            "min_height": null,
            "padding": null,
            "grid_auto_rows": null,
            "grid_gap": null,
            "max_width": null,
            "order": null,
            "_view_module_version": "1.2.0",
            "grid_template_areas": null,
            "object_position": null,
            "object_fit": null,
            "grid_auto_columns": null,
            "margin": null,
            "display": null,
            "left": null
          }
        }
      }
    }
  },
  "cells": [
    {
      "cell_type": "code",
      "metadata": {
        "id": "RLt0mvTZjC53",
        "colab_type": "code",
        "colab": {}
      },
      "source": [
        "import numpy as np\n",
        "import pandas as pd"
      ],
      "execution_count": 0,
      "outputs": []
    },
    {
      "cell_type": "code",
      "metadata": {
        "id": "aTq_JDSfoWLU",
        "colab_type": "code",
        "colab": {}
      },
      "source": [
        "\n",
        "import torchvision\n",
        "from fastai import *\n",
        "from fastai.vision import *"
      ],
      "execution_count": 0,
      "outputs": []
    },
    {
      "cell_type": "code",
      "metadata": {
        "id": "ECUB2_P-qXGW",
        "colab_type": "code",
        "colab": {}
      },
      "source": [
        "def set_seed(seed=42):\n",
        "    # python RNG\n",
        "    import random\n",
        "    random.seed(seed)\n",
        "\n",
        "    # pytorch RNGs\n",
        "    import torch\n",
        "    torch.manual_seed(seed)\n",
        "    torch.backends.cudnn.deterministic = True\n",
        "    if torch.cuda.is_available(): torch.cuda.manual_seed_all(seed)\n",
        "\n",
        "    # numpy RNG\n",
        "    np.random.seed(seed)\n",
        "    \n",
        "set_seed()"
      ],
      "execution_count": 0,
      "outputs": []
    },
    {
      "cell_type": "code",
      "metadata": {
        "id": "xa7UYaoaquTz",
        "colab_type": "code",
        "colab": {}
      },
      "source": [
        "class FocalLoss(nn.Module):\n",
        "    def __init__(self, alpha=1., gamma=2.):\n",
        "        super().__init__()\n",
        "        self.alpha = alpha\n",
        "        self.gamma = gamma\n",
        "\n",
        "    def forward(self, inputs, targets, **kwargs):\n",
        "        CE_loss = nn.CrossEntropyLoss(reduction='none')(inputs, targets)\n",
        "        pt = torch.exp(-CE_loss)\n",
        "        F_loss = self.alpha * ((1-pt)**self.gamma) * CE_loss\n",
        "        return F_loss.mean()"
      ],
      "execution_count": 0,
      "outputs": []
    },
    {
      "cell_type": "code",
      "metadata": {
        "id": "j2qnqUiTq1mB",
        "colab_type": "code",
        "colab": {}
      },
      "source": [
        "\n",
        "def resnext50_32x4d(pretrained=False):\n",
        "    pretrained = 'imagenet' if pretrained else None\n",
        "    model = torchvision.models.resnext50_32x4d(pretrained=pretrained)\n",
        "    return nn.Sequential(*list(model.children()))"
      ],
      "execution_count": 0,
      "outputs": []
    },
    {
      "cell_type": "code",
      "metadata": {
        "id": "7TH6hO_7rAkH",
        "colab_type": "code",
        "colab": {}
      },
      "source": [
        "f_score = FBeta(average='weighted', beta=1)"
      ],
      "execution_count": 0,
      "outputs": []
    },
    {
      "cell_type": "code",
      "metadata": {
        "id": "NELIzxt0rCtv",
        "colab_type": "code",
        "colab": {}
      },
      "source": [
        "#tfms = get_transforms(do_flip=False,flip_vert=False ,max_rotate=10.0, max_zoom=1.22, max_lighting=0.22, max_warp=0.0, p_affine=0.75, p_lighting=0.75,xtra_tfms=[rand_crop(), rand_zoom(1, 1.5),\n",
        "                                 #symmetric_warp(magnitude=(-0.2, 0.2))])"
      ],
      "execution_count": 0,
      "outputs": []
    },
    {
      "cell_type": "code",
      "metadata": {
        "id": "Dko6eGfHp8R6",
        "colab_type": "code",
        "colab": {}
      },
      "source": [
        "tfms = get_transforms(do_flip=False,flip_vert=False ,max_rotate=10.0, max_zoom=1.22, max_lighting=0.22, max_warp=0.0, p_affine=0.75,\n",
        "                      p_lighting=0.75)"
      ],
      "execution_count": 0,
      "outputs": []
    },
    {
      "cell_type": "code",
      "metadata": {
        "id": "SFEDjsuJrIWL",
        "colab_type": "code",
        "colab": {}
      },
      "source": [
        "np.random.seed(42)\n",
        "src = (ImageList.from_csv('/content/drive/My Drive/DSL', 'train_dsl.csv', folder='images')\n",
        "       .split_by_rand_pct(0.2, seed=42)\n",
        "       .label_from_df(cols='category')\n",
        "       .add_test(ImageList.from_csv('/content/drive/My Drive/DSL', csv_name='test_ApKoW4T.csv', folder='images'))\n",
        "      )"
      ],
      "execution_count": 0,
      "outputs": []
    },
    {
      "cell_type": "code",
      "metadata": {
        "id": "q1GjWj7rs5-6",
        "colab_type": "code",
        "colab": {}
      },
      "source": [
        "def get_data(SZ, BS):\n",
        "    data = (src.transform(tfms, size=SZ,padding_mode='reflection', resize_method=ResizeMethod.SQUISH)\n",
        "        .databunch(bs=BS).normalize(imagenet_stats))\n",
        "    return data\n",
        "\n",
        "def get_learner(data):\n",
        "    learn = cnn_learner(data, resnext50_32x4d, pretrained=True, cut=-2,\n",
        "                        split_on=lambda m: (m[0][3], m[1]), \n",
        "                        metrics=[error_rate, f_score])\n",
        "    return learn"
      ],
      "execution_count": 0,
      "outputs": []
    },
    {
      "cell_type": "code",
      "metadata": {
        "id": "6qp5CT7stTcO",
        "colab_type": "code",
        "outputId": "40c42c65-3080-4358-8242-6460043a3981",
        "colab": {
          "base_uri": "https://localhost:8080/",
          "height": 82,
          "referenced_widgets": [
            "8a84659c9a0d429fa2b056b6abe2a50f",
            "90d4685810714ecb81611d725113e45b",
            "de7addf828724b51b179150e541a23ff",
            "ddcfafd40d844c5cbbf30d0d8f85a59b",
            "a17fc46614394cbc9bc75f22b712815d",
            "44ee0a8d7ea24bd1b4d01db8cb50700a",
            "1cfae42a619747fdacf0394c7a2f6e7c",
            "e373ed7a084f42f8b6900bc83a227299"
          ]
        }
      },
      "source": [
        "\n",
        "data = get_data(128, 96)\n",
        "learn = get_learner(data)"
      ],
      "execution_count": 0,
      "outputs": [
        {
          "output_type": "stream",
          "text": [
            "Downloading: \"https://download.pytorch.org/models/resnext50_32x4d-7cdf4587.pth\" to /root/.cache/torch/checkpoints/resnext50_32x4d-7cdf4587.pth\n"
          ],
          "name": "stderr"
        },
        {
          "output_type": "display_data",
          "data": {
            "application/vnd.jupyter.widget-view+json": {
              "model_id": "8a84659c9a0d429fa2b056b6abe2a50f",
              "version_minor": 0,
              "version_major": 2
            },
            "text/plain": [
              "HBox(children=(FloatProgress(value=0.0, max=100441675.0), HTML(value='')))"
            ]
          },
          "metadata": {
            "tags": []
          }
        },
        {
          "output_type": "stream",
          "text": [
            "\n"
          ],
          "name": "stdout"
        }
      ]
    },
    {
      "cell_type": "code",
      "metadata": {
        "id": "BDRkrclbyR2Y",
        "colab_type": "code",
        "colab": {}
      },
      "source": [
        "learn.mixup();"
      ],
      "execution_count": 0,
      "outputs": []
    },
    {
      "cell_type": "markdown",
      "metadata": {
        "id": "3AKABOcg1tdF",
        "colab_type": "text"
      },
      "source": [
        ""
      ]
    },
    {
      "cell_type": "code",
      "metadata": {
        "id": "L3aPA1K4yID3",
        "colab_type": "code",
        "colab": {}
      },
      "source": [
        "#learn.lr_find()\n",
        "#learn.recorder.plot(suggestion=True)"
      ],
      "execution_count": 0,
      "outputs": []
    },
    {
      "cell_type": "code",
      "metadata": {
        "id": "CpepjlSpzC-7",
        "colab_type": "code",
        "outputId": "d0386bd1-d6bb-48c2-a9e5-71383086a84c",
        "colab": {
          "base_uri": "https://localhost:8080/",
          "height": 580
        }
      },
      "source": [
        "learn.fit_one_cycle(18, max_lr=slice(1e-2))"
      ],
      "execution_count": 0,
      "outputs": [
        {
          "output_type": "display_data",
          "data": {
            "text/html": [
              "<table border=\"1\" class=\"dataframe\">\n",
              "  <thead>\n",
              "    <tr style=\"text-align: left;\">\n",
              "      <th>epoch</th>\n",
              "      <th>train_loss</th>\n",
              "      <th>valid_loss</th>\n",
              "      <th>error_rate</th>\n",
              "      <th>f_beta</th>\n",
              "      <th>time</th>\n",
              "    </tr>\n",
              "  </thead>\n",
              "  <tbody>\n",
              "    <tr>\n",
              "      <td>0</td>\n",
              "      <td>1.909259</td>\n",
              "      <td>0.906360</td>\n",
              "      <td>0.314400</td>\n",
              "      <td>0.681154</td>\n",
              "      <td>54:19</td>\n",
              "    </tr>\n",
              "    <tr>\n",
              "      <td>1</td>\n",
              "      <td>1.506369</td>\n",
              "      <td>0.735292</td>\n",
              "      <td>0.265600</td>\n",
              "      <td>0.731967</td>\n",
              "      <td>00:48</td>\n",
              "    </tr>\n",
              "    <tr>\n",
              "      <td>2</td>\n",
              "      <td>1.208679</td>\n",
              "      <td>0.612683</td>\n",
              "      <td>0.227200</td>\n",
              "      <td>0.771176</td>\n",
              "      <td>00:45</td>\n",
              "    </tr>\n",
              "    <tr>\n",
              "      <td>3</td>\n",
              "      <td>1.052664</td>\n",
              "      <td>0.528361</td>\n",
              "      <td>0.217600</td>\n",
              "      <td>0.777836</td>\n",
              "      <td>00:45</td>\n",
              "    </tr>\n",
              "    <tr>\n",
              "      <td>4</td>\n",
              "      <td>0.979300</td>\n",
              "      <td>0.513334</td>\n",
              "      <td>0.200000</td>\n",
              "      <td>0.791484</td>\n",
              "      <td>00:46</td>\n",
              "    </tr>\n",
              "    <tr>\n",
              "      <td>5</td>\n",
              "      <td>0.902125</td>\n",
              "      <td>0.417530</td>\n",
              "      <td>0.147200</td>\n",
              "      <td>0.853086</td>\n",
              "      <td>00:46</td>\n",
              "    </tr>\n",
              "    <tr>\n",
              "      <td>6</td>\n",
              "      <td>0.838815</td>\n",
              "      <td>0.370745</td>\n",
              "      <td>0.132000</td>\n",
              "      <td>0.867133</td>\n",
              "      <td>00:46</td>\n",
              "    </tr>\n",
              "    <tr>\n",
              "      <td>7</td>\n",
              "      <td>0.798761</td>\n",
              "      <td>0.348715</td>\n",
              "      <td>0.118400</td>\n",
              "      <td>0.879643</td>\n",
              "      <td>00:45</td>\n",
              "    </tr>\n",
              "    <tr>\n",
              "      <td>8</td>\n",
              "      <td>0.744727</td>\n",
              "      <td>0.360623</td>\n",
              "      <td>0.123200</td>\n",
              "      <td>0.874964</td>\n",
              "      <td>00:45</td>\n",
              "    </tr>\n",
              "    <tr>\n",
              "      <td>9</td>\n",
              "      <td>0.709682</td>\n",
              "      <td>0.310521</td>\n",
              "      <td>0.103200</td>\n",
              "      <td>0.896400</td>\n",
              "      <td>00:46</td>\n",
              "    </tr>\n",
              "    <tr>\n",
              "      <td>10</td>\n",
              "      <td>0.681736</td>\n",
              "      <td>0.297088</td>\n",
              "      <td>0.096800</td>\n",
              "      <td>0.903052</td>\n",
              "      <td>00:46</td>\n",
              "    </tr>\n",
              "    <tr>\n",
              "      <td>11</td>\n",
              "      <td>0.663166</td>\n",
              "      <td>0.304307</td>\n",
              "      <td>0.094400</td>\n",
              "      <td>0.905863</td>\n",
              "      <td>00:45</td>\n",
              "    </tr>\n",
              "    <tr>\n",
              "      <td>12</td>\n",
              "      <td>0.631139</td>\n",
              "      <td>0.288062</td>\n",
              "      <td>0.080800</td>\n",
              "      <td>0.919685</td>\n",
              "      <td>00:46</td>\n",
              "    </tr>\n",
              "    <tr>\n",
              "      <td>13</td>\n",
              "      <td>0.627992</td>\n",
              "      <td>0.293430</td>\n",
              "      <td>0.084800</td>\n",
              "      <td>0.914997</td>\n",
              "      <td>00:46</td>\n",
              "    </tr>\n",
              "    <tr>\n",
              "      <td>14</td>\n",
              "      <td>0.617950</td>\n",
              "      <td>0.294598</td>\n",
              "      <td>0.092000</td>\n",
              "      <td>0.907368</td>\n",
              "      <td>00:46</td>\n",
              "    </tr>\n",
              "    <tr>\n",
              "      <td>15</td>\n",
              "      <td>0.607531</td>\n",
              "      <td>0.292203</td>\n",
              "      <td>0.088000</td>\n",
              "      <td>0.911730</td>\n",
              "      <td>00:46</td>\n",
              "    </tr>\n",
              "    <tr>\n",
              "      <td>16</td>\n",
              "      <td>0.598034</td>\n",
              "      <td>0.286105</td>\n",
              "      <td>0.089600</td>\n",
              "      <td>0.910387</td>\n",
              "      <td>00:46</td>\n",
              "    </tr>\n",
              "    <tr>\n",
              "      <td>17</td>\n",
              "      <td>0.586394</td>\n",
              "      <td>0.286243</td>\n",
              "      <td>0.089600</td>\n",
              "      <td>0.910233</td>\n",
              "      <td>00:45</td>\n",
              "    </tr>\n",
              "  </tbody>\n",
              "</table>"
            ],
            "text/plain": [
              "<IPython.core.display.HTML object>"
            ]
          },
          "metadata": {
            "tags": []
          }
        }
      ]
    },
    {
      "cell_type": "code",
      "metadata": {
        "id": "d3hFeWV1-RZQ",
        "colab_type": "code",
        "colab": {}
      },
      "source": [
        "learn.save('ResNext50_aug_mixup_128_920192')"
      ],
      "execution_count": 0,
      "outputs": []
    },
    {
      "cell_type": "code",
      "metadata": {
        "id": "jrHfH65d0SSN",
        "colab_type": "code",
        "outputId": "431f7fbc-33af-4d2a-c1fc-d37336446f70",
        "colab": {
          "base_uri": "https://localhost:8080/",
          "height": 437
        }
      },
      "source": [
        "\n",
        "learn.unfreeze()\n",
        "learn.clip_grad()\n",
        "learn.lr_find()\n",
        "learn.recorder.plot(suggestion=True)"
      ],
      "execution_count": 0,
      "outputs": [
        {
          "output_type": "display_data",
          "data": {
            "text/html": [
              "\n",
              "    <div>\n",
              "        <style>\n",
              "            /* Turns off some styling */\n",
              "            progress {\n",
              "                /* gets rid of default border in Firefox and Opera. */\n",
              "                border: none;\n",
              "                /* Needs to be in here for Safari polyfill so background images work as expected. */\n",
              "                background-size: auto;\n",
              "            }\n",
              "            .progress-bar-interrupted, .progress-bar-interrupted::-webkit-progress-bar {\n",
              "                background: #F44336;\n",
              "            }\n",
              "        </style>\n",
              "      <progress value='1' class='' max='2' style='width:300px; height:20px; vertical-align: middle;'></progress>\n",
              "      50.00% [1/2 00:56<00:56]\n",
              "    </div>\n",
              "    \n",
              "<table border=\"1\" class=\"dataframe\">\n",
              "  <thead>\n",
              "    <tr style=\"text-align: left;\">\n",
              "      <th>epoch</th>\n",
              "      <th>train_loss</th>\n",
              "      <th>valid_loss</th>\n",
              "      <th>error_rate</th>\n",
              "      <th>f_beta</th>\n",
              "      <th>time</th>\n",
              "    </tr>\n",
              "  </thead>\n",
              "  <tbody>\n",
              "    <tr>\n",
              "      <td>0</td>\n",
              "      <td>0.612797</td>\n",
              "      <td>#na#</td>\n",
              "      <td>00:56</td>\n",
              "    </tr>\n",
              "  </tbody>\n",
              "</table><p>\n",
              "\n",
              "    <div>\n",
              "        <style>\n",
              "            /* Turns off some styling */\n",
              "            progress {\n",
              "                /* gets rid of default border in Firefox and Opera. */\n",
              "                border: none;\n",
              "                /* Needs to be in here for Safari polyfill so background images work as expected. */\n",
              "                background-size: auto;\n",
              "            }\n",
              "            .progress-bar-interrupted, .progress-bar-interrupted::-webkit-progress-bar {\n",
              "                background: #F44336;\n",
              "            }\n",
              "        </style>\n",
              "      <progress value='32' class='' max='52' style='width:300px; height:20px; vertical-align: middle;'></progress>\n",
              "      61.54% [32/52 00:33<00:21 2.1805]\n",
              "    </div>\n",
              "    "
            ],
            "text/plain": [
              "<IPython.core.display.HTML object>"
            ]
          },
          "metadata": {
            "tags": []
          }
        },
        {
          "output_type": "stream",
          "text": [
            "LR Finder is complete, type {learner_name}.recorder.plot() to see the graph.\n",
            "Min numerical gradient: 4.79E-06\n",
            "Min loss divided by 10: 2.29E-05\n"
          ],
          "name": "stdout"
        },
        {
          "output_type": "display_data",
          "data": {
            "image/png": "[encoded data removed]",
            "text/plain": [
              "<Figure size 432x288 with 1 Axes>"
            ]
          },
          "metadata": {
            "tags": [],
            "needs_background": "light"
          }
        }
      ]
    },
    {
      "cell_type": "code",
      "metadata": {
        "id": "VtHkJPc8Iy4N",
        "colab_type": "code",
        "colab": {}
      },
      "source": [
        "\n",
        "learn.load('ResNext50_aug_mixup_128_920192');\n",
        "learn.unfreeze();\n",
        "learn.clip_grad();"
      ],
      "execution_count": 0,
      "outputs": []
    },
    {
      "cell_type": "code",
      "metadata": {
        "id": "hCHIKCRVJBkN",
        "colab_type": "code",
        "colab": {}
      },
      "source": [
        "lr = [3e-3/100, 3e-3/20, 3e-3/10]"
      ],
      "execution_count": 0,
      "outputs": []
    },
    {
      "cell_type": "code",
      "metadata": {
        "id": "uuSDuNHbJGFO",
        "colab_type": "code",
        "outputId": "026f168d-973e-4f2a-bf90-5c7d0d366176",
        "colab": {
          "base_uri": "https://localhost:8080/",
          "height": 1000
        }
      },
      "source": [
        "learn.fit_one_cycle(36, lr)\n"
      ],
      "execution_count": 0,
      "outputs": [
        {
          "output_type": "display_data",
          "data": {
            "text/html": [
              "<table border=\"1\" class=\"dataframe\">\n",
              "  <thead>\n",
              "    <tr style=\"text-align: left;\">\n",
              "      <th>epoch</th>\n",
              "      <th>train_loss</th>\n",
              "      <th>valid_loss</th>\n",
              "      <th>error_rate</th>\n",
              "      <th>f_beta</th>\n",
              "      <th>time</th>\n",
              "    </tr>\n",
              "  </thead>\n",
              "  <tbody>\n",
              "    <tr>\n",
              "      <td>0</td>\n",
              "      <td>0.601274</td>\n",
              "      <td>0.276432</td>\n",
              "      <td>0.092000</td>\n",
              "      <td>0.907727</td>\n",
              "      <td>01:00</td>\n",
              "    </tr>\n",
              "    <tr>\n",
              "      <td>1</td>\n",
              "      <td>0.583736</td>\n",
              "      <td>0.270491</td>\n",
              "      <td>0.080000</td>\n",
              "      <td>0.920090</td>\n",
              "      <td>01:01</td>\n",
              "    </tr>\n",
              "    <tr>\n",
              "      <td>2</td>\n",
              "      <td>0.577389</td>\n",
              "      <td>0.270150</td>\n",
              "      <td>0.081600</td>\n",
              "      <td>0.918331</td>\n",
              "      <td>01:01</td>\n",
              "    </tr>\n",
              "    <tr>\n",
              "      <td>3</td>\n",
              "      <td>0.575857</td>\n",
              "      <td>0.270562</td>\n",
              "      <td>0.083200</td>\n",
              "      <td>0.916025</td>\n",
              "      <td>01:00</td>\n",
              "    </tr>\n",
              "    <tr>\n",
              "      <td>4</td>\n",
              "      <td>0.569142</td>\n",
              "      <td>0.248507</td>\n",
              "      <td>0.078400</td>\n",
              "      <td>0.921630</td>\n",
              "      <td>01:00</td>\n",
              "    </tr>\n",
              "    <tr>\n",
              "      <td>5</td>\n",
              "      <td>0.545523</td>\n",
              "      <td>0.267148</td>\n",
              "      <td>0.079200</td>\n",
              "      <td>0.920235</td>\n",
              "      <td>01:00</td>\n",
              "    </tr>\n",
              "    <tr>\n",
              "      <td>6</td>\n",
              "      <td>0.547545</td>\n",
              "      <td>0.246909</td>\n",
              "      <td>0.076000</td>\n",
              "      <td>0.924079</td>\n",
              "      <td>01:00</td>\n",
              "    </tr>\n",
              "    <tr>\n",
              "      <td>7</td>\n",
              "      <td>0.545298</td>\n",
              "      <td>0.264941</td>\n",
              "      <td>0.078400</td>\n",
              "      <td>0.920977</td>\n",
              "      <td>01:00</td>\n",
              "    </tr>\n",
              "    <tr>\n",
              "      <td>8</td>\n",
              "      <td>0.540591</td>\n",
              "      <td>0.232631</td>\n",
              "      <td>0.073600</td>\n",
              "      <td>0.926707</td>\n",
              "      <td>01:01</td>\n",
              "    </tr>\n",
              "    <tr>\n",
              "      <td>9</td>\n",
              "      <td>0.536161</td>\n",
              "      <td>0.316308</td>\n",
              "      <td>0.097600</td>\n",
              "      <td>0.900454</td>\n",
              "      <td>01:01</td>\n",
              "    </tr>\n",
              "    <tr>\n",
              "      <td>10</td>\n",
              "      <td>0.528887</td>\n",
              "      <td>0.263684</td>\n",
              "      <td>0.073600</td>\n",
              "      <td>0.926657</td>\n",
              "      <td>01:01</td>\n",
              "    </tr>\n",
              "    <tr>\n",
              "      <td>11</td>\n",
              "      <td>0.515606</td>\n",
              "      <td>0.236869</td>\n",
              "      <td>0.075200</td>\n",
              "      <td>0.924561</td>\n",
              "      <td>01:00</td>\n",
              "    </tr>\n",
              "    <tr>\n",
              "      <td>12</td>\n",
              "      <td>0.502754</td>\n",
              "      <td>0.207402</td>\n",
              "      <td>0.055200</td>\n",
              "      <td>0.944962</td>\n",
              "      <td>01:01</td>\n",
              "    </tr>\n",
              "    <tr>\n",
              "      <td>13</td>\n",
              "      <td>0.494267</td>\n",
              "      <td>0.188338</td>\n",
              "      <td>0.060000</td>\n",
              "      <td>0.940135</td>\n",
              "      <td>01:01</td>\n",
              "    </tr>\n",
              "    <tr>\n",
              "      <td>14</td>\n",
              "      <td>0.498801</td>\n",
              "      <td>0.241844</td>\n",
              "      <td>0.069600</td>\n",
              "      <td>0.929361</td>\n",
              "      <td>01:01</td>\n",
              "    </tr>\n",
              "    <tr>\n",
              "      <td>15</td>\n",
              "      <td>0.487866</td>\n",
              "      <td>0.215390</td>\n",
              "      <td>0.064000</td>\n",
              "      <td>0.935952</td>\n",
              "      <td>01:01</td>\n",
              "    </tr>\n",
              "    <tr>\n",
              "      <td>16</td>\n",
              "      <td>0.483999</td>\n",
              "      <td>0.205695</td>\n",
              "      <td>0.059200</td>\n",
              "      <td>0.940741</td>\n",
              "      <td>01:01</td>\n",
              "    </tr>\n",
              "    <tr>\n",
              "      <td>17</td>\n",
              "      <td>0.478018</td>\n",
              "      <td>0.285852</td>\n",
              "      <td>0.084000</td>\n",
              "      <td>0.914405</td>\n",
              "      <td>01:01</td>\n",
              "    </tr>\n",
              "    <tr>\n",
              "      <td>18</td>\n",
              "      <td>0.472884</td>\n",
              "      <td>0.187642</td>\n",
              "      <td>0.052000</td>\n",
              "      <td>0.948054</td>\n",
              "      <td>01:01</td>\n",
              "    </tr>\n",
              "    <tr>\n",
              "      <td>19</td>\n",
              "      <td>0.467982</td>\n",
              "      <td>0.226554</td>\n",
              "      <td>0.068800</td>\n",
              "      <td>0.930408</td>\n",
              "      <td>01:00</td>\n",
              "    </tr>\n",
              "    <tr>\n",
              "      <td>20</td>\n",
              "      <td>0.457775</td>\n",
              "      <td>0.195685</td>\n",
              "      <td>0.048800</td>\n",
              "      <td>0.950986</td>\n",
              "      <td>01:00</td>\n",
              "    </tr>\n",
              "    <tr>\n",
              "      <td>21</td>\n",
              "      <td>0.447500</td>\n",
              "      <td>0.177897</td>\n",
              "      <td>0.049600</td>\n",
              "      <td>0.950619</td>\n",
              "      <td>01:00</td>\n",
              "    </tr>\n",
              "    <tr>\n",
              "      <td>22</td>\n",
              "      <td>0.436795</td>\n",
              "      <td>0.198838</td>\n",
              "      <td>0.051200</td>\n",
              "      <td>0.948549</td>\n",
              "      <td>01:00</td>\n",
              "    </tr>\n",
              "    <tr>\n",
              "      <td>23</td>\n",
              "      <td>0.435148</td>\n",
              "      <td>0.187510</td>\n",
              "      <td>0.048000</td>\n",
              "      <td>0.951973</td>\n",
              "      <td>01:00</td>\n",
              "    </tr>\n",
              "    <tr>\n",
              "      <td>24</td>\n",
              "      <td>0.436884</td>\n",
              "      <td>0.193518</td>\n",
              "      <td>0.050400</td>\n",
              "      <td>0.949671</td>\n",
              "      <td>01:01</td>\n",
              "    </tr>\n",
              "    <tr>\n",
              "      <td>25</td>\n",
              "      <td>0.437851</td>\n",
              "      <td>0.185564</td>\n",
              "      <td>0.048800</td>\n",
              "      <td>0.951057</td>\n",
              "      <td>01:01</td>\n",
              "    </tr>\n",
              "    <tr>\n",
              "      <td>26</td>\n",
              "      <td>0.431183</td>\n",
              "      <td>0.180070</td>\n",
              "      <td>0.046400</td>\n",
              "      <td>0.953440</td>\n",
              "      <td>01:01</td>\n",
              "    </tr>\n",
              "    <tr>\n",
              "      <td>27</td>\n",
              "      <td>0.423701</td>\n",
              "      <td>0.177584</td>\n",
              "      <td>0.048000</td>\n",
              "      <td>0.951745</td>\n",
              "      <td>01:01</td>\n",
              "    </tr>\n",
              "    <tr>\n",
              "      <td>28</td>\n",
              "      <td>0.417649</td>\n",
              "      <td>0.167569</td>\n",
              "      <td>0.047200</td>\n",
              "      <td>0.952667</td>\n",
              "      <td>01:01</td>\n",
              "    </tr>\n",
              "    <tr>\n",
              "      <td>29</td>\n",
              "      <td>0.422828</td>\n",
              "      <td>0.167772</td>\n",
              "      <td>0.047200</td>\n",
              "      <td>0.952736</td>\n",
              "      <td>01:01</td>\n",
              "    </tr>\n",
              "    <tr>\n",
              "      <td>30</td>\n",
              "      <td>0.422568</td>\n",
              "      <td>0.170745</td>\n",
              "      <td>0.049600</td>\n",
              "      <td>0.950303</td>\n",
              "      <td>01:01</td>\n",
              "    </tr>\n",
              "    <tr>\n",
              "      <td>31</td>\n",
              "      <td>0.411264</td>\n",
              "      <td>0.169692</td>\n",
              "      <td>0.048000</td>\n",
              "      <td>0.951869</td>\n",
              "      <td>01:01</td>\n",
              "    </tr>\n",
              "    <tr>\n",
              "      <td>32</td>\n",
              "      <td>0.405342</td>\n",
              "      <td>0.169670</td>\n",
              "      <td>0.049600</td>\n",
              "      <td>0.950315</td>\n",
              "      <td>01:02</td>\n",
              "    </tr>\n",
              "    <tr>\n",
              "      <td>33</td>\n",
              "      <td>0.410878</td>\n",
              "      <td>0.168247</td>\n",
              "      <td>0.048000</td>\n",
              "      <td>0.951885</td>\n",
              "      <td>01:02</td>\n",
              "    </tr>\n",
              "    <tr>\n",
              "      <td>34</td>\n",
              "      <td>0.410150</td>\n",
              "      <td>0.166362</td>\n",
              "      <td>0.045600</td>\n",
              "      <td>0.954324</td>\n",
              "      <td>01:01</td>\n",
              "    </tr>\n",
              "    <tr>\n",
              "      <td>35</td>\n",
              "      <td>0.409186</td>\n",
              "      <td>0.168732</td>\n",
              "      <td>0.048800</td>\n",
              "      <td>0.951094</td>\n",
              "      <td>01:01</td>\n",
              "    </tr>\n",
              "  </tbody>\n",
              "</table>"
            ],
            "text/plain": [
              "<IPython.core.display.HTML object>"
            ]
          },
          "metadata": {
            "tags": []
          }
        }
      ]
    },
    {
      "cell_type": "code",
      "metadata": {
        "id": "y-aqa-DgRrSR",
        "colab_type": "code",
        "colab": {}
      },
      "source": [
        "learn.save('s2_ResNext50_aug_128_944603')"
      ],
      "execution_count": 0,
      "outputs": []
    },
    {
      "cell_type": "code",
      "metadata": {
        "id": "nPIWdVMvSBUH",
        "colab_type": "code",
        "colab": {}
      },
      "source": [
        "data = get_data(256, 72)\n",
        "learn = get_learner(data)"
      ],
      "execution_count": 0,
      "outputs": []
    },
    {
      "cell_type": "code",
      "metadata": {
        "id": "uPwaVA3xSEzH",
        "colab_type": "code",
        "colab": {}
      },
      "source": [
        "\n",
        "learn.load('s2_ResNext50_aug_128_944603');"
      ],
      "execution_count": 0,
      "outputs": []
    },
    {
      "cell_type": "code",
      "metadata": {
        "id": "VAzToxSNSIH0",
        "colab_type": "code",
        "colab": {}
      },
      "source": [
        "\n",
        "learn.freeze();\n",
        "learn.clip_grad();"
      ],
      "execution_count": 0,
      "outputs": []
    },
    {
      "cell_type": "code",
      "metadata": {
        "id": "4yp3FRr9SOSc",
        "colab_type": "code",
        "colab": {}
      },
      "source": [
        "learn.loss_func = FocalLoss()"
      ],
      "execution_count": 0,
      "outputs": []
    },
    {
      "cell_type": "code",
      "metadata": {
        "id": "xDMFoaU1SWc7",
        "colab_type": "code",
        "outputId": "88e6e5ee-9050-41c7-8dba-43dac25c6cd4",
        "colab": {
          "base_uri": "https://localhost:8080/",
          "height": 435
        }
      },
      "source": [
        "\n",
        "learn.lr_find()\n",
        "learn.recorder.plot(suggestion=True)"
      ],
      "execution_count": 0,
      "outputs": [
        {
          "output_type": "display_data",
          "data": {
            "text/html": [
              "\n",
              "    <div>\n",
              "        <style>\n",
              "            /* Turns off some styling */\n",
              "            progress {\n",
              "                /* gets rid of default border in Firefox and Opera. */\n",
              "                border: none;\n",
              "                /* Needs to be in here for Safari polyfill so background images work as expected. */\n",
              "                background-size: auto;\n",
              "            }\n",
              "            .progress-bar-interrupted, .progress-bar-interrupted::-webkit-progress-bar {\n",
              "                background: #F44336;\n",
              "            }\n",
              "        </style>\n",
              "      <progress value='1' class='' max='2' style='width:300px; height:20px; vertical-align: middle;'></progress>\n",
              "      50.00% [1/2 02:16<02:16]\n",
              "    </div>\n",
              "    \n",
              "<table border=\"1\" class=\"dataframe\">\n",
              "  <thead>\n",
              "    <tr style=\"text-align: left;\">\n",
              "      <th>epoch</th>\n",
              "      <th>train_loss</th>\n",
              "      <th>valid_loss</th>\n",
              "      <th>error_rate</th>\n",
              "      <th>f_beta</th>\n",
              "      <th>time</th>\n",
              "    </tr>\n",
              "  </thead>\n",
              "  <tbody>\n",
              "    <tr>\n",
              "      <td>0</td>\n",
              "      <td>1.494985</td>\n",
              "      <td>#na#</td>\n",
              "      <td>02:16</td>\n",
              "    </tr>\n",
              "  </tbody>\n",
              "</table><p>\n",
              "\n",
              "    <div>\n",
              "        <style>\n",
              "            /* Turns off some styling */\n",
              "            progress {\n",
              "                /* gets rid of default border in Firefox and Opera. */\n",
              "                border: none;\n",
              "                /* Needs to be in here for Safari polyfill so background images work as expected. */\n",
              "                background-size: auto;\n",
              "            }\n",
              "            .progress-bar-interrupted, .progress-bar-interrupted::-webkit-progress-bar {\n",
              "                background: #F44336;\n",
              "            }\n",
              "        </style>\n",
              "      <progress value='19' class='' max='69' style='width:300px; height:20px; vertical-align: middle;'></progress>\n",
              "      27.54% [19/69 00:37<01:38 4.6353]\n",
              "    </div>\n",
              "    "
            ],
            "text/plain": [
              "<IPython.core.display.HTML object>"
            ]
          },
          "metadata": {
            "tags": []
          }
        },
        {
          "output_type": "stream",
          "text": [
            "LR Finder is complete, type {learner_name}.recorder.plot() to see the graph.\n",
            "Min numerical gradient: 1.00E-03\n",
            "Min loss divided by 10: 1.00E-02\n"
          ],
          "name": "stdout"
        },
        {
          "output_type": "display_data",
          "data": {
            "image/png": "[encoded data removed]",
            "text/plain": [
              "<Figure size 432x288 with 1 Axes>"
            ]
          },
          "metadata": {
            "tags": [],
            "needs_background": "light"
          }
        }
      ]
    },
    {
      "cell_type": "code",
      "metadata": {
        "id": "BxyTwHd_TnhW",
        "colab_type": "code",
        "outputId": "9c2a6a07-ecc6-4686-8ac5-85dc32bcd614",
        "colab": {
          "base_uri": "https://localhost:8080/",
          "height": 758
        }
      },
      "source": [
        "learn.fit_one_cycle(24, slice(3e-3))"
      ],
      "execution_count": 0,
      "outputs": [
        {
          "output_type": "display_data",
          "data": {
            "text/html": [
              "<table border=\"1\" class=\"dataframe\">\n",
              "  <thead>\n",
              "    <tr style=\"text-align: left;\">\n",
              "      <th>epoch</th>\n",
              "      <th>train_loss</th>\n",
              "      <th>valid_loss</th>\n",
              "      <th>error_rate</th>\n",
              "      <th>f_beta</th>\n",
              "      <th>time</th>\n",
              "    </tr>\n",
              "  </thead>\n",
              "  <tbody>\n",
              "    <tr>\n",
              "      <td>0</td>\n",
              "      <td>0.902625</td>\n",
              "      <td>0.459033</td>\n",
              "      <td>0.209600</td>\n",
              "      <td>0.786635</td>\n",
              "      <td>02:28</td>\n",
              "    </tr>\n",
              "    <tr>\n",
              "      <td>1</td>\n",
              "      <td>0.611762</td>\n",
              "      <td>0.347636</td>\n",
              "      <td>0.168000</td>\n",
              "      <td>0.831019</td>\n",
              "      <td>02:26</td>\n",
              "    </tr>\n",
              "    <tr>\n",
              "      <td>2</td>\n",
              "      <td>0.501663</td>\n",
              "      <td>0.310563</td>\n",
              "      <td>0.174400</td>\n",
              "      <td>0.825018</td>\n",
              "      <td>02:26</td>\n",
              "    </tr>\n",
              "    <tr>\n",
              "      <td>3</td>\n",
              "      <td>0.386222</td>\n",
              "      <td>0.257353</td>\n",
              "      <td>0.148800</td>\n",
              "      <td>0.850157</td>\n",
              "      <td>02:26</td>\n",
              "    </tr>\n",
              "    <tr>\n",
              "      <td>4</td>\n",
              "      <td>0.258213</td>\n",
              "      <td>0.186908</td>\n",
              "      <td>0.130400</td>\n",
              "      <td>0.868029</td>\n",
              "      <td>02:26</td>\n",
              "    </tr>\n",
              "    <tr>\n",
              "      <td>5</td>\n",
              "      <td>0.199952</td>\n",
              "      <td>0.149384</td>\n",
              "      <td>0.115200</td>\n",
              "      <td>0.885792</td>\n",
              "      <td>02:26</td>\n",
              "    </tr>\n",
              "    <tr>\n",
              "      <td>6</td>\n",
              "      <td>0.153744</td>\n",
              "      <td>0.147448</td>\n",
              "      <td>0.120800</td>\n",
              "      <td>0.880102</td>\n",
              "      <td>02:26</td>\n",
              "    </tr>\n",
              "    <tr>\n",
              "      <td>7</td>\n",
              "      <td>0.140906</td>\n",
              "      <td>0.138058</td>\n",
              "      <td>0.120800</td>\n",
              "      <td>0.880627</td>\n",
              "      <td>02:26</td>\n",
              "    </tr>\n",
              "    <tr>\n",
              "      <td>8</td>\n",
              "      <td>0.104841</td>\n",
              "      <td>0.120579</td>\n",
              "      <td>0.100000</td>\n",
              "      <td>0.900308</td>\n",
              "      <td>02:26</td>\n",
              "    </tr>\n",
              "    <tr>\n",
              "      <td>9</td>\n",
              "      <td>0.087498</td>\n",
              "      <td>0.122534</td>\n",
              "      <td>0.092800</td>\n",
              "      <td>0.908106</td>\n",
              "      <td>02:26</td>\n",
              "    </tr>\n",
              "    <tr>\n",
              "      <td>10</td>\n",
              "      <td>0.076573</td>\n",
              "      <td>0.125423</td>\n",
              "      <td>0.094400</td>\n",
              "      <td>0.906661</td>\n",
              "      <td>02:26</td>\n",
              "    </tr>\n",
              "    <tr>\n",
              "      <td>11</td>\n",
              "      <td>0.070234</td>\n",
              "      <td>0.125070</td>\n",
              "      <td>0.084000</td>\n",
              "      <td>0.916418</td>\n",
              "      <td>02:26</td>\n",
              "    </tr>\n",
              "    <tr>\n",
              "      <td>12</td>\n",
              "      <td>0.059853</td>\n",
              "      <td>0.120400</td>\n",
              "      <td>0.085600</td>\n",
              "      <td>0.914167</td>\n",
              "      <td>02:26</td>\n",
              "    </tr>\n",
              "    <tr>\n",
              "      <td>13</td>\n",
              "      <td>0.046868</td>\n",
              "      <td>0.116389</td>\n",
              "      <td>0.080800</td>\n",
              "      <td>0.919748</td>\n",
              "      <td>02:26</td>\n",
              "    </tr>\n",
              "    <tr>\n",
              "      <td>14</td>\n",
              "      <td>0.044074</td>\n",
              "      <td>0.106613</td>\n",
              "      <td>0.076800</td>\n",
              "      <td>0.923392</td>\n",
              "      <td>02:26</td>\n",
              "    </tr>\n",
              "    <tr>\n",
              "      <td>15</td>\n",
              "      <td>0.040028</td>\n",
              "      <td>0.107314</td>\n",
              "      <td>0.078400</td>\n",
              "      <td>0.921524</td>\n",
              "      <td>02:26</td>\n",
              "    </tr>\n",
              "    <tr>\n",
              "      <td>16</td>\n",
              "      <td>0.035761</td>\n",
              "      <td>0.098113</td>\n",
              "      <td>0.071200</td>\n",
              "      <td>0.929129</td>\n",
              "      <td>02:26</td>\n",
              "    </tr>\n",
              "    <tr>\n",
              "      <td>17</td>\n",
              "      <td>0.031140</td>\n",
              "      <td>0.096293</td>\n",
              "      <td>0.067200</td>\n",
              "      <td>0.932923</td>\n",
              "      <td>02:26</td>\n",
              "    </tr>\n",
              "    <tr>\n",
              "      <td>18</td>\n",
              "      <td>0.023664</td>\n",
              "      <td>0.095713</td>\n",
              "      <td>0.068000</td>\n",
              "      <td>0.932335</td>\n",
              "      <td>02:26</td>\n",
              "    </tr>\n",
              "    <tr>\n",
              "      <td>19</td>\n",
              "      <td>0.019164</td>\n",
              "      <td>0.104325</td>\n",
              "      <td>0.068800</td>\n",
              "      <td>0.931544</td>\n",
              "      <td>02:26</td>\n",
              "    </tr>\n",
              "    <tr>\n",
              "      <td>20</td>\n",
              "      <td>0.017505</td>\n",
              "      <td>0.094440</td>\n",
              "      <td>0.061600</td>\n",
              "      <td>0.938588</td>\n",
              "      <td>02:26</td>\n",
              "    </tr>\n",
              "    <tr>\n",
              "      <td>21</td>\n",
              "      <td>0.016804</td>\n",
              "      <td>0.096940</td>\n",
              "      <td>0.061600</td>\n",
              "      <td>0.938760</td>\n",
              "      <td>02:26</td>\n",
              "    </tr>\n",
              "    <tr>\n",
              "      <td>22</td>\n",
              "      <td>0.016245</td>\n",
              "      <td>0.098941</td>\n",
              "      <td>0.068000</td>\n",
              "      <td>0.932360</td>\n",
              "      <td>02:26</td>\n",
              "    </tr>\n",
              "    <tr>\n",
              "      <td>23</td>\n",
              "      <td>0.014205</td>\n",
              "      <td>0.099776</td>\n",
              "      <td>0.062400</td>\n",
              "      <td>0.938018</td>\n",
              "      <td>02:26</td>\n",
              "    </tr>\n",
              "  </tbody>\n",
              "</table>"
            ],
            "text/plain": [
              "<IPython.core.display.HTML object>"
            ]
          },
          "metadata": {
            "tags": []
          }
        }
      ]
    },
    {
      "cell_type": "code",
      "metadata": {
        "id": "pR55Q5ZKi6u7",
        "colab_type": "code",
        "colab": {}
      },
      "source": [
        "learn.save('ResNxt50_FL_128t256_962240')"
      ],
      "execution_count": 0,
      "outputs": []
    },
    {
      "cell_type": "code",
      "metadata": {
        "id": "_cjAgD8HjCkj",
        "colab_type": "code",
        "colab": {}
      },
      "source": [
        "learn.load('ResNxt50_FL_128t256_962240');"
      ],
      "execution_count": 0,
      "outputs": []
    },
    {
      "cell_type": "code",
      "metadata": {
        "id": "RikvDaYajFJ2",
        "colab_type": "code",
        "colab": {}
      },
      "source": [
        "\n",
        "learn.unfreeze()\n",
        "learn.clip_grad()"
      ],
      "execution_count": 0,
      "outputs": []
    },
    {
      "cell_type": "code",
      "metadata": {
        "id": "K4ckzKEEjHfU",
        "colab_type": "code",
        "outputId": "c3820877-bfdc-4f46-d04b-77675a97c404",
        "colab": {
          "base_uri": "https://localhost:8080/",
          "height": 994
        }
      },
      "source": [
        " \n",
        "lr = [1e-3/100, 1e-3/20, 1e-3/10]\n",
        "learn.fit_one_cycle(32, lr)"
      ],
      "execution_count": 0,
      "outputs": [
        {
          "output_type": "display_data",
          "data": {
            "text/html": [
              "<table border=\"1\" class=\"dataframe\">\n",
              "  <thead>\n",
              "    <tr style=\"text-align: left;\">\n",
              "      <th>epoch</th>\n",
              "      <th>train_loss</th>\n",
              "      <th>valid_loss</th>\n",
              "      <th>error_rate</th>\n",
              "      <th>f_beta</th>\n",
              "      <th>time</th>\n",
              "    </tr>\n",
              "  </thead>\n",
              "  <tbody>\n",
              "    <tr>\n",
              "      <td>0</td>\n",
              "      <td>0.015993</td>\n",
              "      <td>0.094990</td>\n",
              "      <td>0.060800</td>\n",
              "      <td>0.939371</td>\n",
              "      <td>03:26</td>\n",
              "    </tr>\n",
              "    <tr>\n",
              "      <td>1</td>\n",
              "      <td>0.013113</td>\n",
              "      <td>0.100979</td>\n",
              "      <td>0.062400</td>\n",
              "      <td>0.937898</td>\n",
              "      <td>03:23</td>\n",
              "    </tr>\n",
              "    <tr>\n",
              "      <td>2</td>\n",
              "      <td>0.012794</td>\n",
              "      <td>0.101759</td>\n",
              "      <td>0.063200</td>\n",
              "      <td>0.936992</td>\n",
              "      <td>03:23</td>\n",
              "    </tr>\n",
              "    <tr>\n",
              "      <td>3</td>\n",
              "      <td>0.011179</td>\n",
              "      <td>0.112778</td>\n",
              "      <td>0.067200</td>\n",
              "      <td>0.933382</td>\n",
              "      <td>03:23</td>\n",
              "    </tr>\n",
              "    <tr>\n",
              "      <td>4</td>\n",
              "      <td>0.012484</td>\n",
              "      <td>0.110631</td>\n",
              "      <td>0.066400</td>\n",
              "      <td>0.933917</td>\n",
              "      <td>03:23</td>\n",
              "    </tr>\n",
              "    <tr>\n",
              "      <td>5</td>\n",
              "      <td>0.015234</td>\n",
              "      <td>0.117082</td>\n",
              "      <td>0.063200</td>\n",
              "      <td>0.937021</td>\n",
              "      <td>03:23</td>\n",
              "    </tr>\n",
              "    <tr>\n",
              "      <td>6</td>\n",
              "      <td>0.016921</td>\n",
              "      <td>0.132815</td>\n",
              "      <td>0.060000</td>\n",
              "      <td>0.940198</td>\n",
              "      <td>03:23</td>\n",
              "    </tr>\n",
              "    <tr>\n",
              "      <td>7</td>\n",
              "      <td>0.013386</td>\n",
              "      <td>0.101004</td>\n",
              "      <td>0.055200</td>\n",
              "      <td>0.945044</td>\n",
              "      <td>03:23</td>\n",
              "    </tr>\n",
              "    <tr>\n",
              "      <td>8</td>\n",
              "      <td>0.017902</td>\n",
              "      <td>0.151236</td>\n",
              "      <td>0.073600</td>\n",
              "      <td>0.927177</td>\n",
              "      <td>03:23</td>\n",
              "    </tr>\n",
              "    <tr>\n",
              "      <td>9</td>\n",
              "      <td>0.019634</td>\n",
              "      <td>0.108778</td>\n",
              "      <td>0.050400</td>\n",
              "      <td>0.949896</td>\n",
              "      <td>03:23</td>\n",
              "    </tr>\n",
              "    <tr>\n",
              "      <td>10</td>\n",
              "      <td>0.014243</td>\n",
              "      <td>0.105380</td>\n",
              "      <td>0.054400</td>\n",
              "      <td>0.945498</td>\n",
              "      <td>03:23</td>\n",
              "    </tr>\n",
              "    <tr>\n",
              "      <td>11</td>\n",
              "      <td>0.012913</td>\n",
              "      <td>0.106220</td>\n",
              "      <td>0.053600</td>\n",
              "      <td>0.946477</td>\n",
              "      <td>03:24</td>\n",
              "    </tr>\n",
              "    <tr>\n",
              "      <td>12</td>\n",
              "      <td>0.008425</td>\n",
              "      <td>0.134607</td>\n",
              "      <td>0.057600</td>\n",
              "      <td>0.942543</td>\n",
              "      <td>03:24</td>\n",
              "    </tr>\n",
              "    <tr>\n",
              "      <td>13</td>\n",
              "      <td>0.009413</td>\n",
              "      <td>0.126553</td>\n",
              "      <td>0.050400</td>\n",
              "      <td>0.949895</td>\n",
              "      <td>03:24</td>\n",
              "    </tr>\n",
              "    <tr>\n",
              "      <td>14</td>\n",
              "      <td>0.009866</td>\n",
              "      <td>0.104815</td>\n",
              "      <td>0.047200</td>\n",
              "      <td>0.952742</td>\n",
              "      <td>03:24</td>\n",
              "    </tr>\n",
              "    <tr>\n",
              "      <td>15</td>\n",
              "      <td>0.008781</td>\n",
              "      <td>0.139569</td>\n",
              "      <td>0.049600</td>\n",
              "      <td>0.950305</td>\n",
              "      <td>03:24</td>\n",
              "    </tr>\n",
              "    <tr>\n",
              "      <td>16</td>\n",
              "      <td>0.005469</td>\n",
              "      <td>0.127456</td>\n",
              "      <td>0.045600</td>\n",
              "      <td>0.954207</td>\n",
              "      <td>03:24</td>\n",
              "    </tr>\n",
              "    <tr>\n",
              "      <td>17</td>\n",
              "      <td>0.004988</td>\n",
              "      <td>0.139157</td>\n",
              "      <td>0.041600</td>\n",
              "      <td>0.958568</td>\n",
              "      <td>03:24</td>\n",
              "    </tr>\n",
              "    <tr>\n",
              "      <td>18</td>\n",
              "      <td>0.005082</td>\n",
              "      <td>0.124034</td>\n",
              "      <td>0.043200</td>\n",
              "      <td>0.956864</td>\n",
              "      <td>03:24</td>\n",
              "    </tr>\n",
              "    <tr>\n",
              "      <td>19</td>\n",
              "      <td>0.002797</td>\n",
              "      <td>0.110741</td>\n",
              "      <td>0.044800</td>\n",
              "      <td>0.955225</td>\n",
              "      <td>03:24</td>\n",
              "    </tr>\n",
              "    <tr>\n",
              "      <td>20</td>\n",
              "      <td>0.001825</td>\n",
              "      <td>0.103095</td>\n",
              "      <td>0.043200</td>\n",
              "      <td>0.956770</td>\n",
              "      <td>03:24</td>\n",
              "    </tr>\n",
              "    <tr>\n",
              "      <td>21</td>\n",
              "      <td>0.001782</td>\n",
              "      <td>0.118654</td>\n",
              "      <td>0.044800</td>\n",
              "      <td>0.955258</td>\n",
              "      <td>03:24</td>\n",
              "    </tr>\n",
              "    <tr>\n",
              "      <td>22</td>\n",
              "      <td>0.001583</td>\n",
              "      <td>0.131238</td>\n",
              "      <td>0.044800</td>\n",
              "      <td>0.955248</td>\n",
              "      <td>03:24</td>\n",
              "    </tr>\n",
              "    <tr>\n",
              "      <td>23</td>\n",
              "      <td>0.000704</td>\n",
              "      <td>0.127724</td>\n",
              "      <td>0.046400</td>\n",
              "      <td>0.953676</td>\n",
              "      <td>03:24</td>\n",
              "    </tr>\n",
              "    <tr>\n",
              "      <td>24</td>\n",
              "      <td>0.001165</td>\n",
              "      <td>0.129962</td>\n",
              "      <td>0.042400</td>\n",
              "      <td>0.957691</td>\n",
              "      <td>03:24</td>\n",
              "    </tr>\n",
              "    <tr>\n",
              "      <td>25</td>\n",
              "      <td>0.000671</td>\n",
              "      <td>0.126884</td>\n",
              "      <td>0.041600</td>\n",
              "      <td>0.958456</td>\n",
              "      <td>03:24</td>\n",
              "    </tr>\n",
              "    <tr>\n",
              "      <td>26</td>\n",
              "      <td>0.000701</td>\n",
              "      <td>0.120256</td>\n",
              "      <td>0.040000</td>\n",
              "      <td>0.960082</td>\n",
              "      <td>03:24</td>\n",
              "    </tr>\n",
              "    <tr>\n",
              "      <td>27</td>\n",
              "      <td>0.000404</td>\n",
              "      <td>0.121944</td>\n",
              "      <td>0.044000</td>\n",
              "      <td>0.956144</td>\n",
              "      <td>03:24</td>\n",
              "    </tr>\n",
              "    <tr>\n",
              "      <td>28</td>\n",
              "      <td>0.000507</td>\n",
              "      <td>0.121990</td>\n",
              "      <td>0.041600</td>\n",
              "      <td>0.958538</td>\n",
              "      <td>03:24</td>\n",
              "    </tr>\n",
              "    <tr>\n",
              "      <td>29</td>\n",
              "      <td>0.000166</td>\n",
              "      <td>0.121963</td>\n",
              "      <td>0.043200</td>\n",
              "      <td>0.956896</td>\n",
              "      <td>03:24</td>\n",
              "    </tr>\n",
              "    <tr>\n",
              "      <td>30</td>\n",
              "      <td>0.000101</td>\n",
              "      <td>0.120239</td>\n",
              "      <td>0.039200</td>\n",
              "      <td>0.960923</td>\n",
              "      <td>03:24</td>\n",
              "    </tr>\n",
              "    <tr>\n",
              "      <td>31</td>\n",
              "      <td>0.000050</td>\n",
              "      <td>0.120796</td>\n",
              "      <td>0.041600</td>\n",
              "      <td>0.958512</td>\n",
              "      <td>03:24</td>\n",
              "    </tr>\n",
              "  </tbody>\n",
              "</table>"
            ],
            "text/plain": [
              "<IPython.core.display.HTML object>"
            ]
          },
          "metadata": {
            "tags": []
          }
        }
      ]
    },
    {
      "cell_type": "code",
      "metadata": {
        "id": "O2Ebb56j8N9h",
        "colab_type": "code",
        "colab": {}
      },
      "source": [
        "learn.save('ResNxt50_FL_s2128t256_963172')"
      ],
      "execution_count": 0,
      "outputs": []
    },
    {
      "cell_type": "code",
      "metadata": {
        "id": "8_A1BII2iZWq",
        "colab_type": "code",
        "outputId": "91c6d0b0-86bc-4be8-fe14-576c80b4609e",
        "colab": {
          "base_uri": "https://localhost:8080/",
          "height": 82,
          "referenced_widgets": [
            "7dfd40d6269d47189c47a01af5370c84",
            "ce041d19dc034fe28d276b00dbfb1093",
            "a152d27cc1734015b4f01248058edacd",
            "7b7369d6df784cfd9e13957a3ed48f6d",
            "1592a3da06b7440a9c82dc845f1a38a1",
            "dfab200b345c49758a881c50847c9f4c",
            "eba150daa49040b596a386aa95bebff4",
            "f07a9a3a7b89427594dfa833ea9e45e1"
          ]
        }
      },
      "source": [
        "data = get_data(299, 52)\n",
        "learn = get_learner(data)"
      ],
      "execution_count": 0,
      "outputs": [
        {
          "output_type": "stream",
          "text": [
            "Downloading: \"https://download.pytorch.org/models/resnext50_32x4d-7cdf4587.pth\" to /root/.cache/torch/checkpoints/resnext50_32x4d-7cdf4587.pth\n"
          ],
          "name": "stderr"
        },
        {
          "output_type": "display_data",
          "data": {
            "application/vnd.jupyter.widget-view+json": {
              "model_id": "7dfd40d6269d47189c47a01af5370c84",
              "version_minor": 0,
              "version_major": 2
            },
            "text/plain": [
              "HBox(children=(FloatProgress(value=0.0, max=100441675.0), HTML(value='')))"
            ]
          },
          "metadata": {
            "tags": []
          }
        },
        {
          "output_type": "stream",
          "text": [
            "\n"
          ],
          "name": "stdout"
        }
      ]
    },
    {
      "cell_type": "code",
      "metadata": {
        "id": "b_uzeTbmihIG",
        "colab_type": "code",
        "colab": {}
      },
      "source": [
        "learn.load('ResNxt50_FL_s2128t256_963172');\n",
        "learn.freeze();\n",
        "learn.clip_grad();"
      ],
      "execution_count": 0,
      "outputs": []
    },
    {
      "cell_type": "code",
      "metadata": {
        "id": "MckfEdixjZ6B",
        "colab_type": "code",
        "colab": {}
      },
      "source": [
        "learn.mixup();"
      ],
      "execution_count": 0,
      "outputs": []
    },
    {
      "cell_type": "code",
      "metadata": {
        "id": "0W6k4rQJjdcv",
        "colab_type": "code",
        "outputId": "fe995b2d-abe7-4377-e893-5a299fa7c9b2",
        "colab": {
          "base_uri": "https://localhost:8080/",
          "height": 406
        }
      },
      "source": [
        "learn.lr_find()\n",
        "learn.recorder.plot(suggestion=True)"
      ],
      "execution_count": 0,
      "outputs": [
        {
          "output_type": "display_data",
          "data": {
            "text/html": [
              "\n",
              "    <div>\n",
              "        <style>\n",
              "            /* Turns off some styling */\n",
              "            progress {\n",
              "                /* gets rid of default border in Firefox and Opera. */\n",
              "                border: none;\n",
              "                /* Needs to be in here for Safari polyfill so background images work as expected. */\n",
              "                background-size: auto;\n",
              "            }\n",
              "            .progress-bar-interrupted, .progress-bar-interrupted::-webkit-progress-bar {\n",
              "                background: #F44336;\n",
              "            }\n",
              "        </style>\n",
              "      <progress value='0' class='' max='2' style='width:300px; height:20px; vertical-align: middle;'></progress>\n",
              "      0.00% [0/2 00:00<00:00]\n",
              "    </div>\n",
              "    \n",
              "<table border=\"1\" class=\"dataframe\">\n",
              "  <thead>\n",
              "    <tr style=\"text-align: left;\">\n",
              "      <th>epoch</th>\n",
              "      <th>train_loss</th>\n",
              "      <th>valid_loss</th>\n",
              "      <th>error_rate</th>\n",
              "      <th>f_beta</th>\n",
              "      <th>time</th>\n",
              "    </tr>\n",
              "  </thead>\n",
              "  <tbody>\n",
              "  </tbody>\n",
              "</table><p>\n",
              "\n",
              "    <div>\n",
              "        <style>\n",
              "            /* Turns off some styling */\n",
              "            progress {\n",
              "                /* gets rid of default border in Firefox and Opera. */\n",
              "                border: none;\n",
              "                /* Needs to be in here for Safari polyfill so background images work as expected. */\n",
              "                background-size: auto;\n",
              "            }\n",
              "            .progress-bar-interrupted, .progress-bar-interrupted::-webkit-progress-bar {\n",
              "                background: #F44336;\n",
              "            }\n",
              "        </style>\n",
              "      <progress value='87' class='' max='96' style='width:300px; height:20px; vertical-align: middle;'></progress>\n",
              "      90.62% [87/96 34:53<03:36 3.4726]\n",
              "    </div>\n",
              "    "
            ],
            "text/plain": [
              "<IPython.core.display.HTML object>"
            ]
          },
          "metadata": {
            "tags": []
          }
        },
        {
          "output_type": "stream",
          "text": [
            "LR Finder is complete, type {learner_name}.recorder.plot() to see the graph.\n",
            "Min numerical gradient: 6.31E-07\n",
            "Min loss divided by 10: 3.98E-03\n"
          ],
          "name": "stdout"
        },
        {
          "output_type": "display_data",
          "data": {
            "image/png": "[encoded data removed]",
            "text/plain": [
              "<Figure size 432x288 with 1 Axes>"
            ]
          },
          "metadata": {
            "tags": [],
            "needs_background": "light"
          }
        }
      ]
    },
    {
      "cell_type": "code",
      "metadata": {
        "id": "q_S06cvQsKEJ",
        "colab_type": "code",
        "outputId": "161846f0-db7b-4a12-f1b7-1eacaf7475ad",
        "colab": {
          "base_uri": "https://localhost:8080/",
          "height": 994
        }
      },
      "source": [
        "learn.fit_one_cycle(32, slice(2e-3))"
      ],
      "execution_count": 0,
      "outputs": [
        {
          "output_type": "display_data",
          "data": {
            "text/html": [
              "<table border=\"1\" class=\"dataframe\">\n",
              "  <thead>\n",
              "    <tr style=\"text-align: left;\">\n",
              "      <th>epoch</th>\n",
              "      <th>train_loss</th>\n",
              "      <th>valid_loss</th>\n",
              "      <th>error_rate</th>\n",
              "      <th>f_beta</th>\n",
              "      <th>time</th>\n",
              "    </tr>\n",
              "  </thead>\n",
              "  <tbody>\n",
              "    <tr>\n",
              "      <td>0</td>\n",
              "      <td>1.034053</td>\n",
              "      <td>0.149400</td>\n",
              "      <td>0.047200</td>\n",
              "      <td>0.952632</td>\n",
              "      <td>12:56</td>\n",
              "    </tr>\n",
              "    <tr>\n",
              "      <td>1</td>\n",
              "      <td>0.708515</td>\n",
              "      <td>0.188758</td>\n",
              "      <td>0.047200</td>\n",
              "      <td>0.952904</td>\n",
              "      <td>01:52</td>\n",
              "    </tr>\n",
              "    <tr>\n",
              "      <td>2</td>\n",
              "      <td>0.563393</td>\n",
              "      <td>0.166325</td>\n",
              "      <td>0.041600</td>\n",
              "      <td>0.958416</td>\n",
              "      <td>01:51</td>\n",
              "    </tr>\n",
              "    <tr>\n",
              "      <td>3</td>\n",
              "      <td>0.532917</td>\n",
              "      <td>0.156031</td>\n",
              "      <td>0.042400</td>\n",
              "      <td>0.957533</td>\n",
              "      <td>01:51</td>\n",
              "    </tr>\n",
              "    <tr>\n",
              "      <td>4</td>\n",
              "      <td>0.502277</td>\n",
              "      <td>0.149163</td>\n",
              "      <td>0.037600</td>\n",
              "      <td>0.962281</td>\n",
              "      <td>01:51</td>\n",
              "    </tr>\n",
              "    <tr>\n",
              "      <td>5</td>\n",
              "      <td>0.507152</td>\n",
              "      <td>0.156014</td>\n",
              "      <td>0.043200</td>\n",
              "      <td>0.956722</td>\n",
              "      <td>01:51</td>\n",
              "    </tr>\n",
              "    <tr>\n",
              "      <td>6</td>\n",
              "      <td>0.501088</td>\n",
              "      <td>0.149999</td>\n",
              "      <td>0.041600</td>\n",
              "      <td>0.958233</td>\n",
              "      <td>01:51</td>\n",
              "    </tr>\n",
              "    <tr>\n",
              "      <td>7</td>\n",
              "      <td>0.500819</td>\n",
              "      <td>0.147356</td>\n",
              "      <td>0.040800</td>\n",
              "      <td>0.959199</td>\n",
              "      <td>01:51</td>\n",
              "    </tr>\n",
              "    <tr>\n",
              "      <td>8</td>\n",
              "      <td>0.486784</td>\n",
              "      <td>0.152888</td>\n",
              "      <td>0.039200</td>\n",
              "      <td>0.960856</td>\n",
              "      <td>01:50</td>\n",
              "    </tr>\n",
              "    <tr>\n",
              "      <td>9</td>\n",
              "      <td>0.487796</td>\n",
              "      <td>0.133895</td>\n",
              "      <td>0.037600</td>\n",
              "      <td>0.962319</td>\n",
              "      <td>01:51</td>\n",
              "    </tr>\n",
              "    <tr>\n",
              "      <td>10</td>\n",
              "      <td>0.492107</td>\n",
              "      <td>0.138082</td>\n",
              "      <td>0.039200</td>\n",
              "      <td>0.960572</td>\n",
              "      <td>01:50</td>\n",
              "    </tr>\n",
              "    <tr>\n",
              "      <td>11</td>\n",
              "      <td>0.471031</td>\n",
              "      <td>0.141279</td>\n",
              "      <td>0.038400</td>\n",
              "      <td>0.961445</td>\n",
              "      <td>01:50</td>\n",
              "    </tr>\n",
              "    <tr>\n",
              "      <td>12</td>\n",
              "      <td>0.481444</td>\n",
              "      <td>0.138432</td>\n",
              "      <td>0.037600</td>\n",
              "      <td>0.962324</td>\n",
              "      <td>01:51</td>\n",
              "    </tr>\n",
              "    <tr>\n",
              "      <td>13</td>\n",
              "      <td>0.481150</td>\n",
              "      <td>0.136864</td>\n",
              "      <td>0.036800</td>\n",
              "      <td>0.963168</td>\n",
              "      <td>01:51</td>\n",
              "    </tr>\n",
              "    <tr>\n",
              "      <td>14</td>\n",
              "      <td>0.478670</td>\n",
              "      <td>0.135424</td>\n",
              "      <td>0.035200</td>\n",
              "      <td>0.964752</td>\n",
              "      <td>01:50</td>\n",
              "    </tr>\n",
              "    <tr>\n",
              "      <td>15</td>\n",
              "      <td>0.455041</td>\n",
              "      <td>0.133785</td>\n",
              "      <td>0.035200</td>\n",
              "      <td>0.964694</td>\n",
              "      <td>01:51</td>\n",
              "    </tr>\n",
              "    <tr>\n",
              "      <td>16</td>\n",
              "      <td>0.464045</td>\n",
              "      <td>0.135570</td>\n",
              "      <td>0.032000</td>\n",
              "      <td>0.968022</td>\n",
              "      <td>01:51</td>\n",
              "    </tr>\n",
              "    <tr>\n",
              "      <td>17</td>\n",
              "      <td>0.451330</td>\n",
              "      <td>0.133231</td>\n",
              "      <td>0.036000</td>\n",
              "      <td>0.963934</td>\n",
              "      <td>01:51</td>\n",
              "    </tr>\n",
              "    <tr>\n",
              "      <td>18</td>\n",
              "      <td>0.441233</td>\n",
              "      <td>0.129273</td>\n",
              "      <td>0.039200</td>\n",
              "      <td>0.960726</td>\n",
              "      <td>01:50</td>\n",
              "    </tr>\n",
              "    <tr>\n",
              "      <td>19</td>\n",
              "      <td>0.450922</td>\n",
              "      <td>0.127307</td>\n",
              "      <td>0.036000</td>\n",
              "      <td>0.963936</td>\n",
              "      <td>01:50</td>\n",
              "    </tr>\n",
              "    <tr>\n",
              "      <td>20</td>\n",
              "      <td>0.459204</td>\n",
              "      <td>0.129909</td>\n",
              "      <td>0.033600</td>\n",
              "      <td>0.966348</td>\n",
              "      <td>01:50</td>\n",
              "    </tr>\n",
              "    <tr>\n",
              "      <td>21</td>\n",
              "      <td>0.446810</td>\n",
              "      <td>0.128813</td>\n",
              "      <td>0.035200</td>\n",
              "      <td>0.964703</td>\n",
              "      <td>01:50</td>\n",
              "    </tr>\n",
              "    <tr>\n",
              "      <td>22</td>\n",
              "      <td>0.454349</td>\n",
              "      <td>0.124396</td>\n",
              "      <td>0.033600</td>\n",
              "      <td>0.966336</td>\n",
              "      <td>01:52</td>\n",
              "    </tr>\n",
              "    <tr>\n",
              "      <td>23</td>\n",
              "      <td>0.438520</td>\n",
              "      <td>0.127929</td>\n",
              "      <td>0.033600</td>\n",
              "      <td>0.966297</td>\n",
              "      <td>01:51</td>\n",
              "    </tr>\n",
              "    <tr>\n",
              "      <td>24</td>\n",
              "      <td>0.446251</td>\n",
              "      <td>0.127030</td>\n",
              "      <td>0.033600</td>\n",
              "      <td>0.966336</td>\n",
              "      <td>01:51</td>\n",
              "    </tr>\n",
              "    <tr>\n",
              "      <td>25</td>\n",
              "      <td>0.437263</td>\n",
              "      <td>0.124374</td>\n",
              "      <td>0.032800</td>\n",
              "      <td>0.967139</td>\n",
              "      <td>01:51</td>\n",
              "    </tr>\n",
              "    <tr>\n",
              "      <td>26</td>\n",
              "      <td>0.434991</td>\n",
              "      <td>0.123681</td>\n",
              "      <td>0.032800</td>\n",
              "      <td>0.967114</td>\n",
              "      <td>01:51</td>\n",
              "    </tr>\n",
              "    <tr>\n",
              "      <td>27</td>\n",
              "      <td>0.435248</td>\n",
              "      <td>0.125818</td>\n",
              "      <td>0.033600</td>\n",
              "      <td>0.966317</td>\n",
              "      <td>01:51</td>\n",
              "    </tr>\n",
              "    <tr>\n",
              "      <td>28</td>\n",
              "      <td>0.453275</td>\n",
              "      <td>0.127863</td>\n",
              "      <td>0.032800</td>\n",
              "      <td>0.967083</td>\n",
              "      <td>01:50</td>\n",
              "    </tr>\n",
              "    <tr>\n",
              "      <td>29</td>\n",
              "      <td>0.443267</td>\n",
              "      <td>0.124542</td>\n",
              "      <td>0.033600</td>\n",
              "      <td>0.966309</td>\n",
              "      <td>01:49</td>\n",
              "    </tr>\n",
              "    <tr>\n",
              "      <td>30</td>\n",
              "      <td>0.439134</td>\n",
              "      <td>0.125171</td>\n",
              "      <td>0.031200</td>\n",
              "      <td>0.968726</td>\n",
              "      <td>01:50</td>\n",
              "    </tr>\n",
              "    <tr>\n",
              "      <td>31</td>\n",
              "      <td>0.442573</td>\n",
              "      <td>0.125694</td>\n",
              "      <td>0.033600</td>\n",
              "      <td>0.966287</td>\n",
              "      <td>01:51</td>\n",
              "    </tr>\n",
              "  </tbody>\n",
              "</table>"
            ],
            "text/plain": [
              "<IPython.core.display.HTML object>"
            ]
          },
          "metadata": {
            "tags": []
          }
        }
      ]
    },
    {
      "cell_type": "code",
      "metadata": {
        "id": "LHfsZE9a8ym-",
        "colab_type": "code",
        "colab": {}
      },
      "source": [
        "\n",
        "learn.save('ResNext50_FL_128t224t299_s1_965518')"
      ],
      "execution_count": 0,
      "outputs": []
    },
    {
      "cell_type": "code",
      "metadata": {
        "id": "f6lVLNnM87EQ",
        "colab_type": "code",
        "colab": {}
      },
      "source": [
        "learn.load('ResNext50_FL_128t224t299_s1_965518');"
      ],
      "execution_count": 0,
      "outputs": []
    },
    {
      "cell_type": "code",
      "metadata": {
        "id": "hAFJqkgt8-I_",
        "colab_type": "code",
        "colab": {}
      },
      "source": [
        "\n",
        "learn.unfreeze()\n",
        "learn.clip_grad();"
      ],
      "execution_count": 0,
      "outputs": []
    },
    {
      "cell_type": "code",
      "metadata": {
        "id": "XM_5ti-f9DTI",
        "colab_type": "code",
        "outputId": "0052274d-5181-4fa4-c4b0-31a8165b956a",
        "colab": {
          "base_uri": "https://localhost:8080/",
          "height": 804
        }
      },
      "source": [
        "lr = [3e-3/100, 3e-3/20, 3e-3/10]\n",
        "learn.fit_one_cycle(64, lr)"
      ],
      "execution_count": 0,
      "outputs": [
        {
          "output_type": "display_data",
          "data": {
            "text/html": [
              "\n",
              "    <div>\n",
              "        <style>\n",
              "            /* Turns off some styling */\n",
              "            progress {\n",
              "                /* gets rid of default border in Firefox and Opera. */\n",
              "                border: none;\n",
              "                /* Needs to be in here for Safari polyfill so background images work as expected. */\n",
              "                background-size: auto;\n",
              "            }\n",
              "            .progress-bar-interrupted, .progress-bar-interrupted::-webkit-progress-bar {\n",
              "                background: #F44336;\n",
              "            }\n",
              "        </style>\n",
              "      <progress value='24' class='' max='64' style='width:300px; height:20px; vertical-align: middle;'></progress>\n",
              "      37.50% [24/64 1:01:05<1:41:49]\n",
              "    </div>\n",
              "    \n",
              "<table border=\"1\" class=\"dataframe\">\n",
              "  <thead>\n",
              "    <tr style=\"text-align: left;\">\n",
              "      <th>epoch</th>\n",
              "      <th>train_loss</th>\n",
              "      <th>valid_loss</th>\n",
              "      <th>error_rate</th>\n",
              "      <th>f_beta</th>\n",
              "      <th>time</th>\n",
              "    </tr>\n",
              "  </thead>\n",
              "  <tbody>\n",
              "    <tr>\n",
              "      <td>0</td>\n",
              "      <td>0.442806</td>\n",
              "      <td>0.121806</td>\n",
              "      <td>0.030400</td>\n",
              "      <td>0.969524</td>\n",
              "      <td>02:24</td>\n",
              "    </tr>\n",
              "    <tr>\n",
              "      <td>1</td>\n",
              "      <td>0.436974</td>\n",
              "      <td>0.119794</td>\n",
              "      <td>0.029600</td>\n",
              "      <td>0.970338</td>\n",
              "      <td>02:32</td>\n",
              "    </tr>\n",
              "    <tr>\n",
              "      <td>2</td>\n",
              "      <td>0.430586</td>\n",
              "      <td>0.121030</td>\n",
              "      <td>0.027200</td>\n",
              "      <td>0.972785</td>\n",
              "      <td>02:33</td>\n",
              "    </tr>\n",
              "    <tr>\n",
              "      <td>3</td>\n",
              "      <td>0.444784</td>\n",
              "      <td>0.123571</td>\n",
              "      <td>0.032800</td>\n",
              "      <td>0.967203</td>\n",
              "      <td>02:33</td>\n",
              "    </tr>\n",
              "    <tr>\n",
              "      <td>4</td>\n",
              "      <td>0.440546</td>\n",
              "      <td>0.118896</td>\n",
              "      <td>0.032800</td>\n",
              "      <td>0.967117</td>\n",
              "      <td>02:33</td>\n",
              "    </tr>\n",
              "    <tr>\n",
              "      <td>5</td>\n",
              "      <td>0.444794</td>\n",
              "      <td>0.117019</td>\n",
              "      <td>0.032000</td>\n",
              "      <td>0.968070</td>\n",
              "      <td>02:34</td>\n",
              "    </tr>\n",
              "    <tr>\n",
              "      <td>6</td>\n",
              "      <td>0.445547</td>\n",
              "      <td>0.130154</td>\n",
              "      <td>0.035200</td>\n",
              "      <td>0.964970</td>\n",
              "      <td>02:33</td>\n",
              "    </tr>\n",
              "    <tr>\n",
              "      <td>7</td>\n",
              "      <td>0.439427</td>\n",
              "      <td>0.139230</td>\n",
              "      <td>0.040800</td>\n",
              "      <td>0.959166</td>\n",
              "      <td>02:32</td>\n",
              "    </tr>\n",
              "    <tr>\n",
              "      <td>8</td>\n",
              "      <td>0.438499</td>\n",
              "      <td>0.134147</td>\n",
              "      <td>0.038400</td>\n",
              "      <td>0.961548</td>\n",
              "      <td>02:33</td>\n",
              "    </tr>\n",
              "    <tr>\n",
              "      <td>9</td>\n",
              "      <td>0.444220</td>\n",
              "      <td>0.131262</td>\n",
              "      <td>0.033600</td>\n",
              "      <td>0.966443</td>\n",
              "      <td>02:32</td>\n",
              "    </tr>\n",
              "    <tr>\n",
              "      <td>10</td>\n",
              "      <td>0.446117</td>\n",
              "      <td>0.146148</td>\n",
              "      <td>0.043200</td>\n",
              "      <td>0.956865</td>\n",
              "      <td>02:32</td>\n",
              "    </tr>\n",
              "    <tr>\n",
              "      <td>11</td>\n",
              "      <td>0.442474</td>\n",
              "      <td>0.144523</td>\n",
              "      <td>0.043200</td>\n",
              "      <td>0.956922</td>\n",
              "      <td>02:33</td>\n",
              "    </tr>\n",
              "    <tr>\n",
              "      <td>12</td>\n",
              "      <td>0.437045</td>\n",
              "      <td>0.127649</td>\n",
              "      <td>0.036000</td>\n",
              "      <td>0.964087</td>\n",
              "      <td>02:33</td>\n",
              "    </tr>\n",
              "    <tr>\n",
              "      <td>13</td>\n",
              "      <td>0.433246</td>\n",
              "      <td>0.132839</td>\n",
              "      <td>0.033600</td>\n",
              "      <td>0.966404</td>\n",
              "      <td>02:32</td>\n",
              "    </tr>\n",
              "    <tr>\n",
              "      <td>14</td>\n",
              "      <td>0.444656</td>\n",
              "      <td>0.167514</td>\n",
              "      <td>0.052000</td>\n",
              "      <td>0.948216</td>\n",
              "      <td>02:31</td>\n",
              "    </tr>\n",
              "    <tr>\n",
              "      <td>15</td>\n",
              "      <td>0.439411</td>\n",
              "      <td>0.133666</td>\n",
              "      <td>0.043200</td>\n",
              "      <td>0.956777</td>\n",
              "      <td>02:33</td>\n",
              "    </tr>\n",
              "    <tr>\n",
              "      <td>16</td>\n",
              "      <td>0.440901</td>\n",
              "      <td>0.136153</td>\n",
              "      <td>0.040000</td>\n",
              "      <td>0.959908</td>\n",
              "      <td>02:33</td>\n",
              "    </tr>\n",
              "    <tr>\n",
              "      <td>17</td>\n",
              "      <td>0.442956</td>\n",
              "      <td>0.131069</td>\n",
              "      <td>0.041600</td>\n",
              "      <td>0.958577</td>\n",
              "      <td>02:33</td>\n",
              "    </tr>\n",
              "    <tr>\n",
              "      <td>18</td>\n",
              "      <td>0.425106</td>\n",
              "      <td>0.143316</td>\n",
              "      <td>0.048000</td>\n",
              "      <td>0.952070</td>\n",
              "      <td>02:32</td>\n",
              "    </tr>\n",
              "    <tr>\n",
              "      <td>19</td>\n",
              "      <td>0.426004</td>\n",
              "      <td>0.120438</td>\n",
              "      <td>0.036000</td>\n",
              "      <td>0.963997</td>\n",
              "      <td>02:33</td>\n",
              "    </tr>\n",
              "    <tr>\n",
              "      <td>20</td>\n",
              "      <td>0.426845</td>\n",
              "      <td>0.134378</td>\n",
              "      <td>0.036800</td>\n",
              "      <td>0.963157</td>\n",
              "      <td>02:32</td>\n",
              "    </tr>\n",
              "    <tr>\n",
              "      <td>21</td>\n",
              "      <td>0.413682</td>\n",
              "      <td>0.139170</td>\n",
              "      <td>0.040800</td>\n",
              "      <td>0.958916</td>\n",
              "      <td>02:33</td>\n",
              "    </tr>\n",
              "    <tr>\n",
              "      <td>22</td>\n",
              "      <td>0.437265</td>\n",
              "      <td>0.123291</td>\n",
              "      <td>0.039200</td>\n",
              "      <td>0.960546</td>\n",
              "      <td>02:32</td>\n",
              "    </tr>\n",
              "    <tr>\n",
              "      <td>23</td>\n",
              "      <td>0.426521</td>\n",
              "      <td>0.128997</td>\n",
              "      <td>0.035200</td>\n",
              "      <td>0.964827</td>\n",
              "      <td>02:33</td>\n",
              "    </tr>\n",
              "  </tbody>\n",
              "</table><p>\n",
              "\n",
              "    <div>\n",
              "        <style>\n",
              "            /* Turns off some styling */\n",
              "            progress {\n",
              "                /* gets rid of default border in Firefox and Opera. */\n",
              "                border: none;\n",
              "                /* Needs to be in here for Safari polyfill so background images work as expected. */\n",
              "                background-size: auto;\n",
              "            }\n",
              "            .progress-bar-interrupted, .progress-bar-interrupted::-webkit-progress-bar {\n",
              "                background: #F44336;\n",
              "            }\n",
              "        </style>\n",
              "      <progress value='86' class='' max='96' style='width:300px; height:20px; vertical-align: middle;'></progress>\n",
              "      89.58% [86/96 02:06<00:14 0.4120]\n",
              "    </div>\n",
              "    "
            ],
            "text/plain": [
              "<IPython.core.display.HTML object>"
            ]
          },
          "metadata": {
            "tags": []
          }
        }
      ]
    },
    {
      "cell_type": "code",
      "metadata": {
        "id": "VtuoQSe5s3zb",
        "colab_type": "code",
        "colab": {}
      },
      "source": [
        ""
      ],
      "execution_count": 0,
      "outputs": []
    },
    {
      "cell_type": "markdown",
      "metadata": {
        "id": "46nBDlG-s5XT",
        "colab_type": "text"
      },
      "source": [
        "Wide resnet implementation\n"
      ]
    },
    {
      "cell_type": "code",
      "metadata": {
        "id": "xXIRZKbzs8YW",
        "colab_type": "code",
        "colab": {}
      },
      "source": [
        "def wideresnet(pretrained=False):\n",
        "    pretrained = 'imagenet' if pretrained else None\n",
        "    model = torchvision.models.wide_resnet101_2(pretrained=pretrained)\n",
        "    return nn.Sequential(*list(model.children()))"
      ],
      "execution_count": 0,
      "outputs": []
    },
    {
      "cell_type": "code",
      "metadata": {
        "id": "UFwgkgiUtCfd",
        "colab_type": "code",
        "colab": {}
      },
      "source": [
        "def get_learner_wide(data):\n",
        "    learn = cnn_learner(data, wideresnet, pretrained=True, cut=-2,\n",
        "                        split_on=lambda m: (m[0][3], m[1]), \n",
        "                        metrics=[error_rate, f_score, accuracy])\n",
        "    return learn"
      ],
      "execution_count": 0,
      "outputs": []
    },
    {
      "cell_type": "code",
      "metadata": {
        "id": "dfQaU4dCtGQX",
        "colab_type": "code",
        "colab": {}
      },
      "source": [
        "data=get_data(249,32)\n",
        "learn_wide=get_learner_wide(data)"
      ],
      "execution_count": 0,
      "outputs": []
    },
    {
      "cell_type": "code",
      "metadata": {
        "id": "CcU6tG0ntKN1",
        "colab_type": "code",
        "colab": {
          "base_uri": "https://localhost:8080/",
          "height": 406
        },
        "outputId": "7a433e99-42d7-4a3f-a97e-659373a4116d"
      },
      "source": [
        "learn_wide.mixup()\n",
        "learn_wide.lr_find()\n",
        "learn_wide.recorder.plot(suggestion=True)"
      ],
      "execution_count": 12,
      "outputs": [
        {
          "output_type": "display_data",
          "data": {
            "text/html": [
              "\n",
              "    <div>\n",
              "        <style>\n",
              "            /* Turns off some styling */\n",
              "            progress {\n",
              "                /* gets rid of default border in Firefox and Opera. */\n",
              "                border: none;\n",
              "                /* Needs to be in here for Safari polyfill so background images work as expected. */\n",
              "                background-size: auto;\n",
              "            }\n",
              "            .progress-bar-interrupted, .progress-bar-interrupted::-webkit-progress-bar {\n",
              "                background: #F44336;\n",
              "            }\n",
              "        </style>\n",
              "      <progress value='0' class='' max='1' style='width:300px; height:20px; vertical-align: middle;'></progress>\n",
              "      0.00% [0/1 00:00<00:00]\n",
              "    </div>\n",
              "    \n",
              "<table border=\"1\" class=\"dataframe\">\n",
              "  <thead>\n",
              "    <tr style=\"text-align: left;\">\n",
              "      <th>epoch</th>\n",
              "      <th>train_loss</th>\n",
              "      <th>valid_loss</th>\n",
              "      <th>error_rate</th>\n",
              "      <th>f_beta</th>\n",
              "      <th>accuracy</th>\n",
              "      <th>time</th>\n",
              "    </tr>\n",
              "  </thead>\n",
              "  <tbody>\n",
              "  </tbody>\n",
              "</table><p>\n",
              "\n",
              "    <div>\n",
              "        <style>\n",
              "            /* Turns off some styling */\n",
              "            progress {\n",
              "                /* gets rid of default border in Firefox and Opera. */\n",
              "                border: none;\n",
              "                /* Needs to be in here for Safari polyfill so background images work as expected. */\n",
              "                background-size: auto;\n",
              "            }\n",
              "            .progress-bar-interrupted, .progress-bar-interrupted::-webkit-progress-bar {\n",
              "                background: #F44336;\n",
              "            }\n",
              "        </style>\n",
              "      <progress value='88' class='' max='156' style='width:300px; height:20px; vertical-align: middle;'></progress>\n",
              "      56.41% [88/156 16:50<13:01 6.9240]\n",
              "    </div>\n",
              "    "
            ],
            "text/plain": [
              "<IPython.core.display.HTML object>"
            ]
          },
          "metadata": {
            "tags": []
          }
        },
        {
          "output_type": "stream",
          "text": [
            "LR Finder is complete, type {learner_name}.recorder.plot() to see the graph.\n",
            "Min numerical gradient: 1.00E-03\n",
            "Min loss divided by 10: 3.31E-03\n"
          ],
          "name": "stdout"
        },
        {
          "output_type": "display_data",
          "data": {
            "image/png": "[encoded data removed]",
            "text/plain": [
              "<Figure size 432x288 with 1 Axes>"
            ]
          },
          "metadata": {
            "tags": [],
            "needs_background": "light"
          }
        }
      ]
    },
    {
      "cell_type": "code",
      "metadata": {
        "id": "fCujuZ5F1r0W",
        "colab_type": "code",
        "colab": {
          "base_uri": "https://localhost:8080/",
          "height": 343
        },
        "outputId": "e47e8466-5e59-450d-81a2-3e1833f95343"
      },
      "source": [
        "learn_wide.fit_one_cycle(10,max_lr=slice(1e-02))"
      ],
      "execution_count": 13,
      "outputs": [
        {
          "output_type": "display_data",
          "data": {
            "text/html": [
              "<table border=\"1\" class=\"dataframe\">\n",
              "  <thead>\n",
              "    <tr style=\"text-align: left;\">\n",
              "      <th>epoch</th>\n",
              "      <th>train_loss</th>\n",
              "      <th>valid_loss</th>\n",
              "      <th>error_rate</th>\n",
              "      <th>f_beta</th>\n",
              "      <th>accuracy</th>\n",
              "      <th>time</th>\n",
              "    </tr>\n",
              "  </thead>\n",
              "  <tbody>\n",
              "    <tr>\n",
              "      <td>0</td>\n",
              "      <td>1.467155</td>\n",
              "      <td>0.748013</td>\n",
              "      <td>0.261600</td>\n",
              "      <td>0.734681</td>\n",
              "      <td>0.738400</td>\n",
              "      <td>21:35</td>\n",
              "    </tr>\n",
              "    <tr>\n",
              "      <td>1</td>\n",
              "      <td>1.028167</td>\n",
              "      <td>0.493138</td>\n",
              "      <td>0.188000</td>\n",
              "      <td>0.812062</td>\n",
              "      <td>0.812000</td>\n",
              "      <td>05:03</td>\n",
              "    </tr>\n",
              "    <tr>\n",
              "      <td>2</td>\n",
              "      <td>0.892125</td>\n",
              "      <td>0.445405</td>\n",
              "      <td>0.164000</td>\n",
              "      <td>0.837215</td>\n",
              "      <td>0.836000</td>\n",
              "      <td>05:03</td>\n",
              "    </tr>\n",
              "    <tr>\n",
              "      <td>3</td>\n",
              "      <td>0.777204</td>\n",
              "      <td>0.254892</td>\n",
              "      <td>0.079200</td>\n",
              "      <td>0.920525</td>\n",
              "      <td>0.920800</td>\n",
              "      <td>05:03</td>\n",
              "    </tr>\n",
              "    <tr>\n",
              "      <td>4</td>\n",
              "      <td>0.673703</td>\n",
              "      <td>0.250621</td>\n",
              "      <td>0.084000</td>\n",
              "      <td>0.916639</td>\n",
              "      <td>0.916000</td>\n",
              "      <td>05:03</td>\n",
              "    </tr>\n",
              "    <tr>\n",
              "      <td>5</td>\n",
              "      <td>0.632849</td>\n",
              "      <td>0.238415</td>\n",
              "      <td>0.078400</td>\n",
              "      <td>0.919797</td>\n",
              "      <td>0.921600</td>\n",
              "      <td>05:03</td>\n",
              "    </tr>\n",
              "    <tr>\n",
              "      <td>6</td>\n",
              "      <td>0.606458</td>\n",
              "      <td>0.216916</td>\n",
              "      <td>0.070400</td>\n",
              "      <td>0.929196</td>\n",
              "      <td>0.929600</td>\n",
              "      <td>05:03</td>\n",
              "    </tr>\n",
              "    <tr>\n",
              "      <td>7</td>\n",
              "      <td>0.572462</td>\n",
              "      <td>0.177560</td>\n",
              "      <td>0.057600</td>\n",
              "      <td>0.942467</td>\n",
              "      <td>0.942400</td>\n",
              "      <td>05:03</td>\n",
              "    </tr>\n",
              "    <tr>\n",
              "      <td>8</td>\n",
              "      <td>0.557347</td>\n",
              "      <td>0.177504</td>\n",
              "      <td>0.052000</td>\n",
              "      <td>0.947838</td>\n",
              "      <td>0.948000</td>\n",
              "      <td>05:03</td>\n",
              "    </tr>\n",
              "    <tr>\n",
              "      <td>9</td>\n",
              "      <td>0.546161</td>\n",
              "      <td>0.175651</td>\n",
              "      <td>0.059200</td>\n",
              "      <td>0.940611</td>\n",
              "      <td>0.940800</td>\n",
              "      <td>05:03</td>\n",
              "    </tr>\n",
              "  </tbody>\n",
              "</table>"
            ],
            "text/plain": [
              "<IPython.core.display.HTML object>"
            ]
          },
          "metadata": {
            "tags": []
          }
        }
      ]
    },
    {
      "cell_type": "code",
      "metadata": {
        "id": "kIc3Wna-F-Lu",
        "colab_type": "code",
        "colab": {
          "base_uri": "https://localhost:8080/",
          "height": 406
        },
        "outputId": "7edebcdd-a954-4594-8967-18fc011c54d6"
      },
      "source": [
        "learn_wide.unfreeze()\n",
        "learn_wide.clip_grad()\n",
        "learn_wide.lr_find()\n",
        "learn_wide.recorder.plot(suggestion=True)"
      ],
      "execution_count": 14,
      "outputs": [
        {
          "output_type": "display_data",
          "data": {
            "text/html": [
              "\n",
              "    <div>\n",
              "        <style>\n",
              "            /* Turns off some styling */\n",
              "            progress {\n",
              "                /* gets rid of default border in Firefox and Opera. */\n",
              "                border: none;\n",
              "                /* Needs to be in here for Safari polyfill so background images work as expected. */\n",
              "                background-size: auto;\n",
              "            }\n",
              "            .progress-bar-interrupted, .progress-bar-interrupted::-webkit-progress-bar {\n",
              "                background: #F44336;\n",
              "            }\n",
              "        </style>\n",
              "      <progress value='0' class='' max='1' style='width:300px; height:20px; vertical-align: middle;'></progress>\n",
              "      0.00% [0/1 00:00<00:00]\n",
              "    </div>\n",
              "    \n",
              "<table border=\"1\" class=\"dataframe\">\n",
              "  <thead>\n",
              "    <tr style=\"text-align: left;\">\n",
              "      <th>epoch</th>\n",
              "      <th>train_loss</th>\n",
              "      <th>valid_loss</th>\n",
              "      <th>error_rate</th>\n",
              "      <th>f_beta</th>\n",
              "      <th>accuracy</th>\n",
              "      <th>time</th>\n",
              "    </tr>\n",
              "  </thead>\n",
              "  <tbody>\n",
              "  </tbody>\n",
              "</table><p>\n",
              "\n",
              "    <div>\n",
              "        <style>\n",
              "            /* Turns off some styling */\n",
              "            progress {\n",
              "                /* gets rid of default border in Firefox and Opera. */\n",
              "                border: none;\n",
              "                /* Needs to be in here for Safari polyfill so background images work as expected. */\n",
              "                background-size: auto;\n",
              "            }\n",
              "            .progress-bar-interrupted, .progress-bar-interrupted::-webkit-progress-bar {\n",
              "                background: #F44336;\n",
              "            }\n",
              "        </style>\n",
              "      <progress value='82' class='' max='156' style='width:300px; height:20px; vertical-align: middle;'></progress>\n",
              "      52.56% [82/156 03:40<03:18 1.8457]\n",
              "    </div>\n",
              "    "
            ],
            "text/plain": [
              "<IPython.core.display.HTML object>"
            ]
          },
          "metadata": {
            "tags": []
          }
        },
        {
          "output_type": "stream",
          "text": [
            "LR Finder is complete, type {learner_name}.recorder.plot() to see the graph.\n",
            "Min numerical gradient: 1.10E-06\n",
            "Min loss divided by 10: 4.79E-07\n"
          ],
          "name": "stdout"
        },
        {
          "output_type": "display_data",
          "data": {
            "image/png": "[encoded data removed]",
            "text/plain": [
              "<Figure size 432x288 with 1 Axes>"
            ]
          },
          "metadata": {
            "tags": [],
            "needs_background": "light"
          }
        }
      ]
    },
    {
      "cell_type": "code",
      "metadata": {
        "id": "xvbahTRCHlWy",
        "colab_type": "code",
        "colab": {}
      },
      "source": [
        "lr=[3e-3/100, 3e-3/20, 3e-3/10]"
      ],
      "execution_count": 0,
      "outputs": []
    },
    {
      "cell_type": "code",
      "metadata": {
        "id": "tGh44MsUH5RT",
        "colab_type": "code",
        "colab": {
          "base_uri": "https://localhost:8080/",
          "height": 402
        },
        "outputId": "07955c5f-a5ab-45e9-e30f-2d9fc1b47d23"
      },
      "source": [
        "learn_wide.fit_one_cycle(12, lr, wd=0.1)"
      ],
      "execution_count": 17,
      "outputs": [
        {
          "output_type": "display_data",
          "data": {
            "text/html": [
              "<table border=\"1\" class=\"dataframe\">\n",
              "  <thead>\n",
              "    <tr style=\"text-align: left;\">\n",
              "      <th>epoch</th>\n",
              "      <th>train_loss</th>\n",
              "      <th>valid_loss</th>\n",
              "      <th>error_rate</th>\n",
              "      <th>f_beta</th>\n",
              "      <th>accuracy</th>\n",
              "      <th>time</th>\n",
              "    </tr>\n",
              "  </thead>\n",
              "  <tbody>\n",
              "    <tr>\n",
              "      <td>0</td>\n",
              "      <td>0.544618</td>\n",
              "      <td>0.182859</td>\n",
              "      <td>0.053600</td>\n",
              "      <td>0.946465</td>\n",
              "      <td>0.946400</td>\n",
              "      <td>07:27</td>\n",
              "    </tr>\n",
              "    <tr>\n",
              "      <td>1</td>\n",
              "      <td>0.620668</td>\n",
              "      <td>0.249570</td>\n",
              "      <td>0.089600</td>\n",
              "      <td>0.909706</td>\n",
              "      <td>0.910400</td>\n",
              "      <td>07:27</td>\n",
              "    </tr>\n",
              "    <tr>\n",
              "      <td>2</td>\n",
              "      <td>0.634457</td>\n",
              "      <td>0.352732</td>\n",
              "      <td>0.115200</td>\n",
              "      <td>0.884323</td>\n",
              "      <td>0.884800</td>\n",
              "      <td>07:27</td>\n",
              "    </tr>\n",
              "    <tr>\n",
              "      <td>3</td>\n",
              "      <td>0.645739</td>\n",
              "      <td>0.361360</td>\n",
              "      <td>0.112800</td>\n",
              "      <td>0.885651</td>\n",
              "      <td>0.887200</td>\n",
              "      <td>07:27</td>\n",
              "    </tr>\n",
              "    <tr>\n",
              "      <td>4</td>\n",
              "      <td>0.598013</td>\n",
              "      <td>0.221740</td>\n",
              "      <td>0.067200</td>\n",
              "      <td>0.932604</td>\n",
              "      <td>0.932800</td>\n",
              "      <td>07:27</td>\n",
              "    </tr>\n",
              "    <tr>\n",
              "      <td>5</td>\n",
              "      <td>0.558989</td>\n",
              "      <td>0.196610</td>\n",
              "      <td>0.067200</td>\n",
              "      <td>0.933554</td>\n",
              "      <td>0.932800</td>\n",
              "      <td>07:26</td>\n",
              "    </tr>\n",
              "    <tr>\n",
              "      <td>6</td>\n",
              "      <td>0.528400</td>\n",
              "      <td>0.190037</td>\n",
              "      <td>0.064000</td>\n",
              "      <td>0.936283</td>\n",
              "      <td>0.936000</td>\n",
              "      <td>07:26</td>\n",
              "    </tr>\n",
              "    <tr>\n",
              "      <td>7</td>\n",
              "      <td>0.485431</td>\n",
              "      <td>0.166803</td>\n",
              "      <td>0.048000</td>\n",
              "      <td>0.952306</td>\n",
              "      <td>0.952000</td>\n",
              "      <td>07:26</td>\n",
              "    </tr>\n",
              "    <tr>\n",
              "      <td>8</td>\n",
              "      <td>0.469151</td>\n",
              "      <td>0.148016</td>\n",
              "      <td>0.044800</td>\n",
              "      <td>0.955407</td>\n",
              "      <td>0.955200</td>\n",
              "      <td>07:27</td>\n",
              "    </tr>\n",
              "    <tr>\n",
              "      <td>9</td>\n",
              "      <td>0.442654</td>\n",
              "      <td>0.130765</td>\n",
              "      <td>0.039200</td>\n",
              "      <td>0.960923</td>\n",
              "      <td>0.960800</td>\n",
              "      <td>07:28</td>\n",
              "    </tr>\n",
              "    <tr>\n",
              "      <td>10</td>\n",
              "      <td>0.432874</td>\n",
              "      <td>0.130673</td>\n",
              "      <td>0.043200</td>\n",
              "      <td>0.957026</td>\n",
              "      <td>0.956800</td>\n",
              "      <td>07:27</td>\n",
              "    </tr>\n",
              "    <tr>\n",
              "      <td>11</td>\n",
              "      <td>0.426680</td>\n",
              "      <td>0.132753</td>\n",
              "      <td>0.041600</td>\n",
              "      <td>0.958516</td>\n",
              "      <td>0.958400</td>\n",
              "      <td>07:27</td>\n",
              "    </tr>\n",
              "  </tbody>\n",
              "</table>"
            ],
            "text/plain": [
              "<IPython.core.display.HTML object>"
            ]
          },
          "metadata": {
            "tags": []
          }
        }
      ]
    },
    {
      "cell_type": "code",
      "metadata": {
        "id": "6-45y0pqcpOQ",
        "colab_type": "code",
        "colab": {}
      },
      "source": [
        "learn_wide.save('widerestnet_249_1306')"
      ],
      "execution_count": 0,
      "outputs": []
    },
    {
      "cell_type": "code",
      "metadata": {
        "id": "ZMMC6GLpitdk",
        "colab_type": "code",
        "colab": {}
      },
      "source": [
        "learn_wide.load('widerestnet_249_1306')"
      ],
      "execution_count": 0,
      "outputs": []
    },
    {
      "cell_type": "code",
      "metadata": {
        "id": "37GRY3lUi5Eu",
        "colab_type": "code",
        "colab": {}
      },
      "source": [
        "data=get_data(349,16)\n",
        "learn_wide=get_learner_wide(data)"
      ],
      "execution_count": 0,
      "outputs": []
    },
    {
      "cell_type": "code",
      "metadata": {
        "id": "Ejz5OhG4j3lw",
        "colab_type": "code",
        "colab": {}
      },
      "source": [
        "learn_wide.freeze();\n",
        "learn_wide.clip_grad();\n",
        "learn_wide.mixup();"
      ],
      "execution_count": 0,
      "outputs": []
    },
    {
      "cell_type": "code",
      "metadata": {
        "id": "OeLM94lekTZ-",
        "colab_type": "code",
        "colab": {}
      },
      "source": [
        "learn_wide.loss_func = FocalLoss()"
      ],
      "execution_count": 0,
      "outputs": []
    },
    {
      "cell_type": "code",
      "metadata": {
        "id": "EAN4ioSEkbUI",
        "colab_type": "code",
        "colab": {
          "base_uri": "https://localhost:8080/",
          "height": 406
        },
        "outputId": "6a54601d-3179-4ae2-9d3f-acdb7710db7c"
      },
      "source": [
        "learn_wide.lr_find()\n",
        "learn_wide.recorder.plot(suggestion=True)"
      ],
      "execution_count": 17,
      "outputs": [
        {
          "output_type": "display_data",
          "data": {
            "text/html": [
              "\n",
              "    <div>\n",
              "        <style>\n",
              "            /* Turns off some styling */\n",
              "            progress {\n",
              "                /* gets rid of default border in Firefox and Opera. */\n",
              "                border: none;\n",
              "                /* Needs to be in here for Safari polyfill so background images work as expected. */\n",
              "                background-size: auto;\n",
              "            }\n",
              "            .progress-bar-interrupted, .progress-bar-interrupted::-webkit-progress-bar {\n",
              "                background: #F44336;\n",
              "            }\n",
              "        </style>\n",
              "      <progress value='0' class='' max='1' style='width:300px; height:20px; vertical-align: middle;'></progress>\n",
              "      0.00% [0/1 00:00<00:00]\n",
              "    </div>\n",
              "    \n",
              "<table border=\"1\" class=\"dataframe\">\n",
              "  <thead>\n",
              "    <tr style=\"text-align: left;\">\n",
              "      <th>epoch</th>\n",
              "      <th>train_loss</th>\n",
              "      <th>valid_loss</th>\n",
              "      <th>error_rate</th>\n",
              "      <th>f_beta</th>\n",
              "      <th>accuracy</th>\n",
              "      <th>time</th>\n",
              "    </tr>\n",
              "  </thead>\n",
              "  <tbody>\n",
              "  </tbody>\n",
              "</table><p>\n",
              "\n",
              "    <div>\n",
              "        <style>\n",
              "            /* Turns off some styling */\n",
              "            progress {\n",
              "                /* gets rid of default border in Firefox and Opera. */\n",
              "                border: none;\n",
              "                /* Needs to be in here for Safari polyfill so background images work as expected. */\n",
              "                background-size: auto;\n",
              "            }\n",
              "            .progress-bar-interrupted, .progress-bar-interrupted::-webkit-progress-bar {\n",
              "                background: #F44336;\n",
              "            }\n",
              "        </style>\n",
              "      <progress value='83' class='' max='312' style='width:300px; height:20px; vertical-align: middle;'></progress>\n",
              "      26.60% [83/312 02:39<07:19 1.0524]\n",
              "    </div>\n",
              "    "
            ],
            "text/plain": [
              "<IPython.core.display.HTML object>"
            ]
          },
          "metadata": {
            "tags": []
          }
        },
        {
          "output_type": "stream",
          "text": [
            "LR Finder is complete, type {learner_name}.recorder.plot() to see the graph.\n",
            "Min numerical gradient: 6.31E-05\n",
            "Min loss divided by 10: 1.10E-03\n"
          ],
          "name": "stdout"
        },
        {
          "output_type": "display_data",
          "data": {
            "image/png": "[encoded data removed]",
            "text/plain": [
              "<Figure size 432x288 with 1 Axes>"
            ]
          },
          "metadata": {
            "tags": [],
            "needs_background": "light"
          }
        }
      ]
    },
    {
      "cell_type": "code",
      "metadata": {
        "id": "KwJD2u-um3Gy",
        "colab_type": "code",
        "colab": {
          "base_uri": "https://localhost:8080/",
          "height": 343
        },
        "outputId": "a9ab0bb8-6d6e-4cc8-eade-76b7c03a45e0"
      },
      "source": [
        "learn_wide.fit_one_cycle(10,max_lr=slice(2e-04))"
      ],
      "execution_count": 19,
      "outputs": [
        {
          "output_type": "display_data",
          "data": {
            "text/html": [
              "<table border=\"1\" class=\"dataframe\">\n",
              "  <thead>\n",
              "    <tr style=\"text-align: left;\">\n",
              "      <th>epoch</th>\n",
              "      <th>train_loss</th>\n",
              "      <th>valid_loss</th>\n",
              "      <th>error_rate</th>\n",
              "      <th>f_beta</th>\n",
              "      <th>accuracy</th>\n",
              "      <th>time</th>\n",
              "    </tr>\n",
              "  </thead>\n",
              "  <tbody>\n",
              "    <tr>\n",
              "      <td>0</td>\n",
              "      <td>0.429370</td>\n",
              "      <td>0.068544</td>\n",
              "      <td>0.036000</td>\n",
              "      <td>0.964183</td>\n",
              "      <td>0.964000</td>\n",
              "      <td>10:49</td>\n",
              "    </tr>\n",
              "    <tr>\n",
              "      <td>1</td>\n",
              "      <td>0.328409</td>\n",
              "      <td>0.060461</td>\n",
              "      <td>0.042400</td>\n",
              "      <td>0.957769</td>\n",
              "      <td>0.957600</td>\n",
              "      <td>10:45</td>\n",
              "    </tr>\n",
              "    <tr>\n",
              "      <td>2</td>\n",
              "      <td>0.304015</td>\n",
              "      <td>0.076126</td>\n",
              "      <td>0.039200</td>\n",
              "      <td>0.960972</td>\n",
              "      <td>0.960800</td>\n",
              "      <td>10:44</td>\n",
              "    </tr>\n",
              "    <tr>\n",
              "      <td>3</td>\n",
              "      <td>0.313848</td>\n",
              "      <td>0.083458</td>\n",
              "      <td>0.035200</td>\n",
              "      <td>0.965005</td>\n",
              "      <td>0.964800</td>\n",
              "      <td>10:45</td>\n",
              "    </tr>\n",
              "    <tr>\n",
              "      <td>4</td>\n",
              "      <td>0.301235</td>\n",
              "      <td>0.088032</td>\n",
              "      <td>0.040000</td>\n",
              "      <td>0.960177</td>\n",
              "      <td>0.960000</td>\n",
              "      <td>10:45</td>\n",
              "    </tr>\n",
              "    <tr>\n",
              "      <td>5</td>\n",
              "      <td>0.312359</td>\n",
              "      <td>0.085192</td>\n",
              "      <td>0.044800</td>\n",
              "      <td>0.955422</td>\n",
              "      <td>0.955200</td>\n",
              "      <td>10:44</td>\n",
              "    </tr>\n",
              "    <tr>\n",
              "      <td>6</td>\n",
              "      <td>0.300634</td>\n",
              "      <td>0.089839</td>\n",
              "      <td>0.035200</td>\n",
              "      <td>0.964941</td>\n",
              "      <td>0.964800</td>\n",
              "      <td>10:44</td>\n",
              "    </tr>\n",
              "    <tr>\n",
              "      <td>7</td>\n",
              "      <td>0.299145</td>\n",
              "      <td>0.089740</td>\n",
              "      <td>0.040800</td>\n",
              "      <td>0.959363</td>\n",
              "      <td>0.959200</td>\n",
              "      <td>10:48</td>\n",
              "    </tr>\n",
              "    <tr>\n",
              "      <td>8</td>\n",
              "      <td>0.292893</td>\n",
              "      <td>0.093123</td>\n",
              "      <td>0.042400</td>\n",
              "      <td>0.957729</td>\n",
              "      <td>0.957600</td>\n",
              "      <td>10:46</td>\n",
              "    </tr>\n",
              "    <tr>\n",
              "      <td>9</td>\n",
              "      <td>0.303142</td>\n",
              "      <td>0.087176</td>\n",
              "      <td>0.036000</td>\n",
              "      <td>0.964131</td>\n",
              "      <td>0.964000</td>\n",
              "      <td>10:45</td>\n",
              "    </tr>\n",
              "  </tbody>\n",
              "</table>"
            ],
            "text/plain": [
              "<IPython.core.display.HTML object>"
            ]
          },
          "metadata": {
            "tags": []
          }
        }
      ]
    },
    {
      "cell_type": "code",
      "metadata": {
        "id": "4XRpR6OrAUte",
        "colab_type": "code",
        "colab": {}
      },
      "source": [
        "learn_wide.save('widerestnet_249__349_1306')"
      ],
      "execution_count": 0,
      "outputs": []
    },
    {
      "cell_type": "code",
      "metadata": {
        "id": "Foe96xHiAfpV",
        "colab_type": "code",
        "colab": {
          "base_uri": "https://localhost:8080/",
          "height": 406
        },
        "outputId": "65300cc8-88fc-45e0-ffd9-b4571ba9974b"
      },
      "source": [
        "learn_wide.unfreeze()\n",
        "learn_wide.clip_grad()\n",
        "learn_wide.lr_find()\n",
        "learn_wide.recorder.plot(suggestion=True)"
      ],
      "execution_count": 21,
      "outputs": [
        {
          "output_type": "display_data",
          "data": {
            "text/html": [
              "\n",
              "    <div>\n",
              "        <style>\n",
              "            /* Turns off some styling */\n",
              "            progress {\n",
              "                /* gets rid of default border in Firefox and Opera. */\n",
              "                border: none;\n",
              "                /* Needs to be in here for Safari polyfill so background images work as expected. */\n",
              "                background-size: auto;\n",
              "            }\n",
              "            .progress-bar-interrupted, .progress-bar-interrupted::-webkit-progress-bar {\n",
              "                background: #F44336;\n",
              "            }\n",
              "        </style>\n",
              "      <progress value='0' class='' max='1' style='width:300px; height:20px; vertical-align: middle;'></progress>\n",
              "      0.00% [0/1 00:00<00:00]\n",
              "    </div>\n",
              "    \n",
              "<table border=\"1\" class=\"dataframe\">\n",
              "  <thead>\n",
              "    <tr style=\"text-align: left;\">\n",
              "      <th>epoch</th>\n",
              "      <th>train_loss</th>\n",
              "      <th>valid_loss</th>\n",
              "      <th>error_rate</th>\n",
              "      <th>f_beta</th>\n",
              "      <th>accuracy</th>\n",
              "      <th>time</th>\n",
              "    </tr>\n",
              "  </thead>\n",
              "  <tbody>\n",
              "  </tbody>\n",
              "</table><p>\n",
              "\n",
              "    <div>\n",
              "        <style>\n",
              "            /* Turns off some styling */\n",
              "            progress {\n",
              "                /* gets rid of default border in Firefox and Opera. */\n",
              "                border: none;\n",
              "                /* Needs to be in here for Safari polyfill so background images work as expected. */\n",
              "                background-size: auto;\n",
              "            }\n",
              "            .progress-bar-interrupted, .progress-bar-interrupted::-webkit-progress-bar {\n",
              "                background: #F44336;\n",
              "            }\n",
              "        </style>\n",
              "      <progress value='80' class='' max='312' style='width:300px; height:20px; vertical-align: middle;'></progress>\n",
              "      25.64% [80/312 03:39<10:35 1.0052]\n",
              "    </div>\n",
              "    "
            ],
            "text/plain": [
              "<IPython.core.display.HTML object>"
            ]
          },
          "metadata": {
            "tags": []
          }
        },
        {
          "output_type": "stream",
          "text": [
            "LR Finder is complete, type {learner_name}.recorder.plot() to see the graph.\n",
            "Min numerical gradient: 1.10E-06\n",
            "Min loss divided by 10: 3.31E-07\n"
          ],
          "name": "stdout"
        },
        {
          "output_type": "display_data",
          "data": {
            "image/png": "[encoded data removed]",
            "text/plain": [
              "<Figure size 432x288 with 1 Axes>"
            ]
          },
          "metadata": {
            "tags": [],
            "needs_background": "light"
          }
        }
      ]
    },
    {
      "cell_type": "code",
      "metadata": {
        "id": "jbcJsH82do-J",
        "colab_type": "code",
        "colab": {
          "base_uri": "https://localhost:8080/",
          "height": 17
        },
        "outputId": "a98bd7e1-ff58-4150-859f-0ef221d3bbde"
      },
      "source": [
        "predsTTA, _ = learn_res_152.TTA(ds_type=DatasetType.Test)"
      ],
      "execution_count": 25,
      "outputs": [
        {
          "output_type": "display_data",
          "data": {
            "text/html": [
              ""
            ],
            "text/plain": [
              "<IPython.core.display.HTML object>"
            ]
          },
          "metadata": {
            "tags": []
          }
        },
        {
          "output_type": "display_data",
          "data": {
            "text/html": [
              ""
            ],
            "text/plain": [
              "<IPython.core.display.HTML object>"
            ]
          },
          "metadata": {
            "tags": []
          }
        }
      ]
    },
    {
      "cell_type": "code",
      "metadata": {
        "id": "nqd0B139eHsD",
        "colab_type": "code",
        "colab": {}
      },
      "source": [
        "predTTA_df = pd.DataFrame(predsTTA.numpy(), columns=data.classes)\n",
        "preds_class_TTA = np.argmax(predTTA_df.values, axis=1)\n",
        "preds_class_TTA += 1"
      ],
      "execution_count": 0,
      "outputs": []
    },
    {
      "cell_type": "code",
      "metadata": {
        "id": "UpEkh-5qeKcH",
        "colab_type": "code",
        "colab": {}
      },
      "source": [
        "#num_class={1:'Cargo',2:'Military', 3:'Carrier', 4:'Cruiser', 5:'Tanks'}"
      ],
      "execution_count": 0,
      "outputs": []
    },
    {
      "cell_type": "code",
      "metadata": {
        "id": "URT_4n6LeN-T",
        "colab_type": "code",
        "colab": {}
      },
      "source": [
        "def write_submission(preds, filename):\n",
        "    sub = pd.read_csv('/content/drive/My Drive/DSL/test_ApKoW4T.csv')\n",
        "    sub['category'] = preds\n",
        "    sub.to_csv(filename, index=False)"
      ],
      "execution_count": 0,
      "outputs": []
    },
    {
      "cell_type": "code",
      "metadata": {
        "id": "6jwXZLxleRDr",
        "colab_type": "code",
        "colab": {}
      },
      "source": [
        "write_submission(preds_class_TTA, 'TTA_wideresnet_.csv')"
      ],
      "execution_count": 0,
      "outputs": []
    },
    {
      "cell_type": "code",
      "metadata": {
        "id": "qs-KUFQ6qvNo",
        "colab_type": "code",
        "colab": {}
      },
      "source": [
        ""
      ],
      "execution_count": 0,
      "outputs": []
    },
    {
      "cell_type": "markdown",
      "metadata": {
        "id": "o0yMuJoeqwDI",
        "colab_type": "text"
      },
      "source": [
        "Resnet 152\n",
        "\n"
      ]
    },
    {
      "cell_type": "code",
      "metadata": {
        "id": "z7OKPfh3qynH",
        "colab_type": "code",
        "colab": {}
      },
      "source": [
        "def resnet101(pretrained=False):\n",
        "    pretrained = 'imagenet' if pretrained else None\n",
        "    model = torchvision.models.resnet101(pretrained=pretrained)\n",
        "    return nn.Sequential(*list(model.children()))\n",
        "\n",
        "def get_learner_res_101(data):\n",
        "    learn = cnn_learner(data, resnet101, pretrained=True, cut=-2,\n",
        "                        split_on=lambda m: (m[0][3], m[1]), \n",
        "                        metrics=[error_rate, f_score, accuracy])\n",
        "    return learn"
      ],
      "execution_count": 0,
      "outputs": []
    },
    {
      "cell_type": "code",
      "metadata": {
        "id": "cr9P5w4LrVct",
        "colab_type": "code",
        "colab": {
          "base_uri": "https://localhost:8080/",
          "height": 82,
          "referenced_widgets": [
            "1a546f50ff614969b4fe7b33919eb174",
            "80c25c4600e64d72b02f1769004e5230",
            "e8081f8e05e2475da9e00f0b8094b9de",
            "ea8a9dfcf72b4d97a5662d6ac7ab8db2",
            "d3578cd9a16040a582872d8d81fa59a7",
            "c494a26a60444e8db4e8192ed418a751",
            "c6aa9d620cda4179a3f967d072f8d60c",
            "710694c8a9bc4069be31f10d36b3c484"
          ]
        },
        "outputId": "1b6b7f2e-1b17-47d8-fd0d-b5ba2484cfaf"
      },
      "source": [
        "data=get_data(224,64)\n",
        "learn_res_101=get_learner_res_101(data)"
      ],
      "execution_count": 14,
      "outputs": [
        {
          "output_type": "stream",
          "text": [
            "Downloading: \"https://download.pytorch.org/models/resnet101-5d3b4d8f.pth\" to /root/.cache/torch/checkpoints/resnet101-5d3b4d8f.pth\n"
          ],
          "name": "stderr"
        },
        {
          "output_type": "display_data",
          "data": {
            "application/vnd.jupyter.widget-view+json": {
              "model_id": "1a546f50ff614969b4fe7b33919eb174",
              "version_minor": 0,
              "version_major": 2
            },
            "text/plain": [
              "HBox(children=(FloatProgress(value=0.0, max=178728960.0), HTML(value='')))"
            ]
          },
          "metadata": {
            "tags": []
          }
        },
        {
          "output_type": "stream",
          "text": [
            "\n"
          ],
          "name": "stdout"
        }
      ]
    },
    {
      "cell_type": "code",
      "metadata": {
        "id": "6JeAl_o-rlbf",
        "colab_type": "code",
        "colab": {}
      },
      "source": [
        "learn_res_101.mixup()\n",
        "#learn_res_101.lr_find()\n",
        "#learn_res_101.recorder.plot(suggestion=True)"
      ],
      "execution_count": 0,
      "outputs": []
    },
    {
      "cell_type": "code",
      "metadata": {
        "id": "nMuX2euVtqgU",
        "colab_type": "code",
        "colab": {
          "base_uri": "https://localhost:8080/",
          "height": 402
        },
        "outputId": "1be96166-0665-4203-9309-a800b6263192"
      },
      "source": [
        "learn_res_101.fit_one_cycle(12,max_lr=slice(3e-02))"
      ],
      "execution_count": 16,
      "outputs": [
        {
          "output_type": "display_data",
          "data": {
            "text/html": [
              "<table border=\"1\" class=\"dataframe\">\n",
              "  <thead>\n",
              "    <tr style=\"text-align: left;\">\n",
              "      <th>epoch</th>\n",
              "      <th>train_loss</th>\n",
              "      <th>valid_loss</th>\n",
              "      <th>error_rate</th>\n",
              "      <th>f_beta</th>\n",
              "      <th>accuracy</th>\n",
              "      <th>time</th>\n",
              "    </tr>\n",
              "  </thead>\n",
              "  <tbody>\n",
              "    <tr>\n",
              "      <td>0</td>\n",
              "      <td>1.276793</td>\n",
              "      <td>0.422332</td>\n",
              "      <td>0.167200</td>\n",
              "      <td>0.830199</td>\n",
              "      <td>0.832800</td>\n",
              "      <td>32:42</td>\n",
              "    </tr>\n",
              "    <tr>\n",
              "      <td>1</td>\n",
              "      <td>0.958463</td>\n",
              "      <td>0.421394</td>\n",
              "      <td>0.138400</td>\n",
              "      <td>0.861198</td>\n",
              "      <td>0.861600</td>\n",
              "      <td>00:49</td>\n",
              "    </tr>\n",
              "    <tr>\n",
              "      <td>2</td>\n",
              "      <td>0.848452</td>\n",
              "      <td>0.302695</td>\n",
              "      <td>0.099200</td>\n",
              "      <td>0.900781</td>\n",
              "      <td>0.900800</td>\n",
              "      <td>00:47</td>\n",
              "    </tr>\n",
              "    <tr>\n",
              "      <td>3</td>\n",
              "      <td>0.731348</td>\n",
              "      <td>0.253706</td>\n",
              "      <td>0.092800</td>\n",
              "      <td>0.906874</td>\n",
              "      <td>0.907200</td>\n",
              "      <td>00:47</td>\n",
              "    </tr>\n",
              "    <tr>\n",
              "      <td>4</td>\n",
              "      <td>0.663997</td>\n",
              "      <td>0.265154</td>\n",
              "      <td>0.082400</td>\n",
              "      <td>0.918697</td>\n",
              "      <td>0.917600</td>\n",
              "      <td>00:47</td>\n",
              "    </tr>\n",
              "    <tr>\n",
              "      <td>5</td>\n",
              "      <td>0.628651</td>\n",
              "      <td>0.263184</td>\n",
              "      <td>0.081600</td>\n",
              "      <td>0.918902</td>\n",
              "      <td>0.918400</td>\n",
              "      <td>00:46</td>\n",
              "    </tr>\n",
              "    <tr>\n",
              "      <td>6</td>\n",
              "      <td>0.610359</td>\n",
              "      <td>0.226864</td>\n",
              "      <td>0.077600</td>\n",
              "      <td>0.923137</td>\n",
              "      <td>0.922400</td>\n",
              "      <td>00:47</td>\n",
              "    </tr>\n",
              "    <tr>\n",
              "      <td>7</td>\n",
              "      <td>0.585407</td>\n",
              "      <td>0.210942</td>\n",
              "      <td>0.064800</td>\n",
              "      <td>0.935046</td>\n",
              "      <td>0.935200</td>\n",
              "      <td>00:47</td>\n",
              "    </tr>\n",
              "    <tr>\n",
              "      <td>8</td>\n",
              "      <td>0.535995</td>\n",
              "      <td>0.170653</td>\n",
              "      <td>0.049600</td>\n",
              "      <td>0.950387</td>\n",
              "      <td>0.950400</td>\n",
              "      <td>00:46</td>\n",
              "    </tr>\n",
              "    <tr>\n",
              "      <td>9</td>\n",
              "      <td>0.515960</td>\n",
              "      <td>0.166898</td>\n",
              "      <td>0.052000</td>\n",
              "      <td>0.947917</td>\n",
              "      <td>0.948000</td>\n",
              "      <td>00:46</td>\n",
              "    </tr>\n",
              "    <tr>\n",
              "      <td>10</td>\n",
              "      <td>0.503493</td>\n",
              "      <td>0.156588</td>\n",
              "      <td>0.046400</td>\n",
              "      <td>0.953672</td>\n",
              "      <td>0.953600</td>\n",
              "      <td>00:46</td>\n",
              "    </tr>\n",
              "    <tr>\n",
              "      <td>11</td>\n",
              "      <td>0.487652</td>\n",
              "      <td>0.158349</td>\n",
              "      <td>0.048000</td>\n",
              "      <td>0.952097</td>\n",
              "      <td>0.952000</td>\n",
              "      <td>00:46</td>\n",
              "    </tr>\n",
              "  </tbody>\n",
              "</table>"
            ],
            "text/plain": [
              "<IPython.core.display.HTML object>"
            ]
          },
          "metadata": {
            "tags": []
          }
        }
      ]
    },
    {
      "cell_type": "code",
      "metadata": {
        "id": "GgDgn-FNs-E9",
        "colab_type": "code",
        "colab": {
          "base_uri": "https://localhost:8080/",
          "height": 435
        },
        "outputId": "9bfd0c19-d0cd-4c7d-e527-47cfc538f5df"
      },
      "source": [
        "learn_res_101.unfreeze()\n",
        "learn_res_101.clip_grad()\n",
        "learn_res_101.lr_find()\n",
        "learn_res_101.recorder.plot(suggestion=True)"
      ],
      "execution_count": 17,
      "outputs": [
        {
          "output_type": "display_data",
          "data": {
            "text/html": [
              "\n",
              "    <div>\n",
              "        <style>\n",
              "            /* Turns off some styling */\n",
              "            progress {\n",
              "                /* gets rid of default border in Firefox and Opera. */\n",
              "                border: none;\n",
              "                /* Needs to be in here for Safari polyfill so background images work as expected. */\n",
              "                background-size: auto;\n",
              "            }\n",
              "            .progress-bar-interrupted, .progress-bar-interrupted::-webkit-progress-bar {\n",
              "                background: #F44336;\n",
              "            }\n",
              "        </style>\n",
              "      <progress value='1' class='' max='2' style='width:300px; height:20px; vertical-align: middle;'></progress>\n",
              "      50.00% [1/2 00:51<00:51]\n",
              "    </div>\n",
              "    \n",
              "<table border=\"1\" class=\"dataframe\">\n",
              "  <thead>\n",
              "    <tr style=\"text-align: left;\">\n",
              "      <th>epoch</th>\n",
              "      <th>train_loss</th>\n",
              "      <th>valid_loss</th>\n",
              "      <th>error_rate</th>\n",
              "      <th>f_beta</th>\n",
              "      <th>accuracy</th>\n",
              "      <th>time</th>\n",
              "    </tr>\n",
              "  </thead>\n",
              "  <tbody>\n",
              "    <tr>\n",
              "      <td>0</td>\n",
              "      <td>1.113492</td>\n",
              "      <td>#na#</td>\n",
              "      <td>00:51</td>\n",
              "    </tr>\n",
              "  </tbody>\n",
              "</table><p>\n",
              "\n",
              "    <div>\n",
              "        <style>\n",
              "            /* Turns off some styling */\n",
              "            progress {\n",
              "                /* gets rid of default border in Firefox and Opera. */\n",
              "                border: none;\n",
              "                /* Needs to be in here for Safari polyfill so background images work as expected. */\n",
              "                background-size: auto;\n",
              "            }\n",
              "            .progress-bar-interrupted, .progress-bar-interrupted::-webkit-progress-bar {\n",
              "                background: #F44336;\n",
              "            }\n",
              "        </style>\n",
              "      <progress value='5' class='' max='78' style='width:300px; height:20px; vertical-align: middle;'></progress>\n",
              "      6.41% [5/78 00:04<01:00 1.7971]\n",
              "    </div>\n",
              "    "
            ],
            "text/plain": [
              "<IPython.core.display.HTML object>"
            ]
          },
          "metadata": {
            "tags": []
          }
        },
        {
          "output_type": "stream",
          "text": [
            "LR Finder is complete, type {learner_name}.recorder.plot() to see the graph.\n",
            "Min numerical gradient: 6.31E-07\n",
            "Min loss divided by 10: 1.58E-07\n"
          ],
          "name": "stdout"
        },
        {
          "output_type": "display_data",
          "data": {
            "image/png": "[encoded data removed]",
            "text/plain": [
              "<Figure size 432x288 with 1 Axes>"
            ]
          },
          "metadata": {
            "tags": [],
            "needs_background": "light"
          }
        }
      ]
    },
    {
      "cell_type": "code",
      "metadata": {
        "id": "M-ZfJi1-1VWA",
        "colab_type": "code",
        "colab": {}
      },
      "source": [
        "lr=[3e-3/100, 3e-3/20, 3e-3/10]"
      ],
      "execution_count": 0,
      "outputs": []
    },
    {
      "cell_type": "code",
      "metadata": {
        "id": "xK2o7m801b-t",
        "colab_type": "code",
        "colab": {
          "base_uri": "https://localhost:8080/",
          "height": 639
        },
        "outputId": "5460dfbf-6069-4cb2-aadd-9d2987767abf"
      },
      "source": [
        "learn_res_101.fit_one_cycle(20, lr )"
      ],
      "execution_count": 20,
      "outputs": [
        {
          "output_type": "display_data",
          "data": {
            "text/html": [
              "<table border=\"1\" class=\"dataframe\">\n",
              "  <thead>\n",
              "    <tr style=\"text-align: left;\">\n",
              "      <th>epoch</th>\n",
              "      <th>train_loss</th>\n",
              "      <th>valid_loss</th>\n",
              "      <th>error_rate</th>\n",
              "      <th>f_beta</th>\n",
              "      <th>accuracy</th>\n",
              "      <th>time</th>\n",
              "    </tr>\n",
              "  </thead>\n",
              "  <tbody>\n",
              "    <tr>\n",
              "      <td>0</td>\n",
              "      <td>0.493714</td>\n",
              "      <td>0.157852</td>\n",
              "      <td>0.046400</td>\n",
              "      <td>0.953650</td>\n",
              "      <td>0.953600</td>\n",
              "      <td>00:58</td>\n",
              "    </tr>\n",
              "    <tr>\n",
              "      <td>1</td>\n",
              "      <td>0.496271</td>\n",
              "      <td>0.188442</td>\n",
              "      <td>0.057600</td>\n",
              "      <td>0.942788</td>\n",
              "      <td>0.942400</td>\n",
              "      <td>00:58</td>\n",
              "    </tr>\n",
              "    <tr>\n",
              "      <td>2</td>\n",
              "      <td>0.501030</td>\n",
              "      <td>0.222464</td>\n",
              "      <td>0.078400</td>\n",
              "      <td>0.921340</td>\n",
              "      <td>0.921600</td>\n",
              "      <td>00:58</td>\n",
              "    </tr>\n",
              "    <tr>\n",
              "      <td>3</td>\n",
              "      <td>0.523252</td>\n",
              "      <td>0.201294</td>\n",
              "      <td>0.065600</td>\n",
              "      <td>0.934192</td>\n",
              "      <td>0.934400</td>\n",
              "      <td>00:58</td>\n",
              "    </tr>\n",
              "    <tr>\n",
              "      <td>4</td>\n",
              "      <td>0.545877</td>\n",
              "      <td>0.309275</td>\n",
              "      <td>0.092800</td>\n",
              "      <td>0.908489</td>\n",
              "      <td>0.907200</td>\n",
              "      <td>00:58</td>\n",
              "    </tr>\n",
              "    <tr>\n",
              "      <td>5</td>\n",
              "      <td>0.532738</td>\n",
              "      <td>0.212287</td>\n",
              "      <td>0.072000</td>\n",
              "      <td>0.928457</td>\n",
              "      <td>0.928000</td>\n",
              "      <td>00:58</td>\n",
              "    </tr>\n",
              "    <tr>\n",
              "      <td>6</td>\n",
              "      <td>0.525151</td>\n",
              "      <td>0.501205</td>\n",
              "      <td>0.149600</td>\n",
              "      <td>0.836294</td>\n",
              "      <td>0.850400</td>\n",
              "      <td>00:58</td>\n",
              "    </tr>\n",
              "    <tr>\n",
              "      <td>7</td>\n",
              "      <td>0.503085</td>\n",
              "      <td>0.218099</td>\n",
              "      <td>0.061600</td>\n",
              "      <td>0.938102</td>\n",
              "      <td>0.938400</td>\n",
              "      <td>00:58</td>\n",
              "    </tr>\n",
              "    <tr>\n",
              "      <td>8</td>\n",
              "      <td>0.495890</td>\n",
              "      <td>0.220774</td>\n",
              "      <td>0.067200</td>\n",
              "      <td>0.932823</td>\n",
              "      <td>0.932800</td>\n",
              "      <td>00:58</td>\n",
              "    </tr>\n",
              "    <tr>\n",
              "      <td>9</td>\n",
              "      <td>0.484925</td>\n",
              "      <td>0.234059</td>\n",
              "      <td>0.074400</td>\n",
              "      <td>0.924946</td>\n",
              "      <td>0.925600</td>\n",
              "      <td>00:58</td>\n",
              "    </tr>\n",
              "    <tr>\n",
              "      <td>10</td>\n",
              "      <td>0.478827</td>\n",
              "      <td>0.227933</td>\n",
              "      <td>0.064000</td>\n",
              "      <td>0.935194</td>\n",
              "      <td>0.936000</td>\n",
              "      <td>00:58</td>\n",
              "    </tr>\n",
              "    <tr>\n",
              "      <td>11</td>\n",
              "      <td>0.458446</td>\n",
              "      <td>0.169920</td>\n",
              "      <td>0.050400</td>\n",
              "      <td>0.949661</td>\n",
              "      <td>0.949600</td>\n",
              "      <td>00:58</td>\n",
              "    </tr>\n",
              "    <tr>\n",
              "      <td>12</td>\n",
              "      <td>0.448395</td>\n",
              "      <td>0.175429</td>\n",
              "      <td>0.048800</td>\n",
              "      <td>0.951304</td>\n",
              "      <td>0.951200</td>\n",
              "      <td>00:58</td>\n",
              "    </tr>\n",
              "    <tr>\n",
              "      <td>13</td>\n",
              "      <td>0.430706</td>\n",
              "      <td>0.164367</td>\n",
              "      <td>0.048000</td>\n",
              "      <td>0.952161</td>\n",
              "      <td>0.952000</td>\n",
              "      <td>00:58</td>\n",
              "    </tr>\n",
              "    <tr>\n",
              "      <td>14</td>\n",
              "      <td>0.422034</td>\n",
              "      <td>0.146452</td>\n",
              "      <td>0.036000</td>\n",
              "      <td>0.963938</td>\n",
              "      <td>0.964000</td>\n",
              "      <td>00:58</td>\n",
              "    </tr>\n",
              "    <tr>\n",
              "      <td>15</td>\n",
              "      <td>0.406675</td>\n",
              "      <td>0.150066</td>\n",
              "      <td>0.040800</td>\n",
              "      <td>0.959167</td>\n",
              "      <td>0.959200</td>\n",
              "      <td>00:58</td>\n",
              "    </tr>\n",
              "    <tr>\n",
              "      <td>16</td>\n",
              "      <td>0.408918</td>\n",
              "      <td>0.151331</td>\n",
              "      <td>0.039200</td>\n",
              "      <td>0.960883</td>\n",
              "      <td>0.960800</td>\n",
              "      <td>00:58</td>\n",
              "    </tr>\n",
              "    <tr>\n",
              "      <td>17</td>\n",
              "      <td>0.401326</td>\n",
              "      <td>0.148753</td>\n",
              "      <td>0.037600</td>\n",
              "      <td>0.962448</td>\n",
              "      <td>0.962400</td>\n",
              "      <td>00:58</td>\n",
              "    </tr>\n",
              "    <tr>\n",
              "      <td>18</td>\n",
              "      <td>0.392978</td>\n",
              "      <td>0.145517</td>\n",
              "      <td>0.039200</td>\n",
              "      <td>0.960866</td>\n",
              "      <td>0.960800</td>\n",
              "      <td>00:58</td>\n",
              "    </tr>\n",
              "    <tr>\n",
              "      <td>19</td>\n",
              "      <td>0.394169</td>\n",
              "      <td>0.144442</td>\n",
              "      <td>0.040800</td>\n",
              "      <td>0.959284</td>\n",
              "      <td>0.959200</td>\n",
              "      <td>00:58</td>\n",
              "    </tr>\n",
              "  </tbody>\n",
              "</table>"
            ],
            "text/plain": [
              "<IPython.core.display.HTML object>"
            ]
          },
          "metadata": {
            "tags": []
          }
        }
      ]
    },
    {
      "cell_type": "code",
      "metadata": {
        "id": "E1_7CRGXCxJM",
        "colab_type": "code",
        "colab": {}
      },
      "source": [
        "learn_res_101.save('resnet_101_224')"
      ],
      "execution_count": 0,
      "outputs": []
    },
    {
      "cell_type": "code",
      "metadata": {
        "id": "RFeVcGTAFM9Y",
        "colab_type": "code",
        "colab": {}
      },
      "source": [
        "\n",
        "learn_res_101.freeze_to(-3)"
      ],
      "execution_count": 0,
      "outputs": []
    },
    {
      "cell_type": "code",
      "metadata": {
        "id": "UE7CvNyLFUvh",
        "colab_type": "code",
        "colab": {
          "base_uri": "https://localhost:8080/",
          "height": 435
        },
        "outputId": "a5df7ae3-3bc0-4aae-debd-cbe0eeb257fb"
      },
      "source": [
        "learn_res_101.lr_find()\n",
        "learn_res_101.recorder.plot(suggestion=True)"
      ],
      "execution_count": 24,
      "outputs": [
        {
          "output_type": "display_data",
          "data": {
            "text/html": [
              "\n",
              "    <div>\n",
              "        <style>\n",
              "            /* Turns off some styling */\n",
              "            progress {\n",
              "                /* gets rid of default border in Firefox and Opera. */\n",
              "                border: none;\n",
              "                /* Needs to be in here for Safari polyfill so background images work as expected. */\n",
              "                background-size: auto;\n",
              "            }\n",
              "            .progress-bar-interrupted, .progress-bar-interrupted::-webkit-progress-bar {\n",
              "                background: #F44336;\n",
              "            }\n",
              "        </style>\n",
              "      <progress value='1' class='' max='2' style='width:300px; height:20px; vertical-align: middle;'></progress>\n",
              "      50.00% [1/2 00:51<00:51]\n",
              "    </div>\n",
              "    \n",
              "<table border=\"1\" class=\"dataframe\">\n",
              "  <thead>\n",
              "    <tr style=\"text-align: left;\">\n",
              "      <th>epoch</th>\n",
              "      <th>train_loss</th>\n",
              "      <th>valid_loss</th>\n",
              "      <th>error_rate</th>\n",
              "      <th>f_beta</th>\n",
              "      <th>accuracy</th>\n",
              "      <th>time</th>\n",
              "    </tr>\n",
              "  </thead>\n",
              "  <tbody>\n",
              "    <tr>\n",
              "      <td>0</td>\n",
              "      <td>1.009089</td>\n",
              "      <td>#na#</td>\n",
              "      <td>00:51</td>\n",
              "    </tr>\n",
              "  </tbody>\n",
              "</table><p>\n",
              "\n",
              "    <div>\n",
              "        <style>\n",
              "            /* Turns off some styling */\n",
              "            progress {\n",
              "                /* gets rid of default border in Firefox and Opera. */\n",
              "                border: none;\n",
              "                /* Needs to be in here for Safari polyfill so background images work as expected. */\n",
              "                background-size: auto;\n",
              "            }\n",
              "            .progress-bar-interrupted, .progress-bar-interrupted::-webkit-progress-bar {\n",
              "                background: #F44336;\n",
              "            }\n",
              "        </style>\n",
              "      <progress value='3' class='' max='78' style='width:300px; height:20px; vertical-align: middle;'></progress>\n",
              "      3.85% [3/78 00:02<01:12 1.2171]\n",
              "    </div>\n",
              "    "
            ],
            "text/plain": [
              "<IPython.core.display.HTML object>"
            ]
          },
          "metadata": {
            "tags": []
          }
        },
        {
          "output_type": "stream",
          "text": [
            "LR Finder is complete, type {learner_name}.recorder.plot() to see the graph.\n",
            "Min numerical gradient: 6.31E-07\n",
            "Min loss divided by 10: 6.92E-07\n"
          ],
          "name": "stdout"
        },
        {
          "output_type": "display_data",
          "data": {
            "image/png": "[encoded data removed]",
            "text/plain": [
              "<Figure size 432x288 with 1 Axes>"
            ]
          },
          "metadata": {
            "tags": [],
            "needs_background": "light"
          }
        }
      ]
    },
    {
      "cell_type": "code",
      "metadata": {
        "id": "dj5byFr9F4m0",
        "colab_type": "code",
        "colab": {
          "base_uri": "https://localhost:8080/",
          "height": 225
        },
        "outputId": "97fb4df4-afb3-4739-f433-044243762ea2"
      },
      "source": [
        "learn_res_101.fit_one_cycle(6, slice(1e-06, 1e-04),wd=0.1)"
      ],
      "execution_count": 25,
      "outputs": [
        {
          "output_type": "display_data",
          "data": {
            "text/html": [
              "<table border=\"1\" class=\"dataframe\">\n",
              "  <thead>\n",
              "    <tr style=\"text-align: left;\">\n",
              "      <th>epoch</th>\n",
              "      <th>train_loss</th>\n",
              "      <th>valid_loss</th>\n",
              "      <th>error_rate</th>\n",
              "      <th>f_beta</th>\n",
              "      <th>accuracy</th>\n",
              "      <th>time</th>\n",
              "    </tr>\n",
              "  </thead>\n",
              "  <tbody>\n",
              "    <tr>\n",
              "      <td>0</td>\n",
              "      <td>0.411914</td>\n",
              "      <td>0.142696</td>\n",
              "      <td>0.039200</td>\n",
              "      <td>0.960847</td>\n",
              "      <td>0.960800</td>\n",
              "      <td>00:57</td>\n",
              "    </tr>\n",
              "    <tr>\n",
              "      <td>1</td>\n",
              "      <td>0.395679</td>\n",
              "      <td>0.139256</td>\n",
              "      <td>0.034400</td>\n",
              "      <td>0.965619</td>\n",
              "      <td>0.965600</td>\n",
              "      <td>00:57</td>\n",
              "    </tr>\n",
              "    <tr>\n",
              "      <td>2</td>\n",
              "      <td>0.397473</td>\n",
              "      <td>0.141723</td>\n",
              "      <td>0.036000</td>\n",
              "      <td>0.964002</td>\n",
              "      <td>0.964000</td>\n",
              "      <td>00:57</td>\n",
              "    </tr>\n",
              "    <tr>\n",
              "      <td>3</td>\n",
              "      <td>0.401476</td>\n",
              "      <td>0.146098</td>\n",
              "      <td>0.036000</td>\n",
              "      <td>0.964101</td>\n",
              "      <td>0.964000</td>\n",
              "      <td>00:58</td>\n",
              "    </tr>\n",
              "    <tr>\n",
              "      <td>4</td>\n",
              "      <td>0.400007</td>\n",
              "      <td>0.144373</td>\n",
              "      <td>0.038400</td>\n",
              "      <td>0.961679</td>\n",
              "      <td>0.961600</td>\n",
              "      <td>00:57</td>\n",
              "    </tr>\n",
              "    <tr>\n",
              "      <td>5</td>\n",
              "      <td>0.394615</td>\n",
              "      <td>0.145913</td>\n",
              "      <td>0.040800</td>\n",
              "      <td>0.959183</td>\n",
              "      <td>0.959200</td>\n",
              "      <td>00:57</td>\n",
              "    </tr>\n",
              "  </tbody>\n",
              "</table>"
            ],
            "text/plain": [
              "<IPython.core.display.HTML object>"
            ]
          },
          "metadata": {
            "tags": []
          }
        }
      ]
    },
    {
      "cell_type": "code",
      "metadata": {
        "id": "25NRqiBxIJFa",
        "colab_type": "code",
        "colab": {}
      },
      "source": [
        "learn_res_101.freeze_to(-2)"
      ],
      "execution_count": 0,
      "outputs": []
    },
    {
      "cell_type": "code",
      "metadata": {
        "id": "R7vJoRnHIRE3",
        "colab_type": "code",
        "colab": {
          "base_uri": "https://localhost:8080/",
          "height": 225
        },
        "outputId": "9f7d0d1b-3ff9-4dd4-b8e5-a3f1f2e773e3"
      },
      "source": [
        "learn_res_101.fit_one_cycle(6, slice(5e-07, 1e-04/20),wd=0.1)"
      ],
      "execution_count": 27,
      "outputs": [
        {
          "output_type": "display_data",
          "data": {
            "text/html": [
              "<table border=\"1\" class=\"dataframe\">\n",
              "  <thead>\n",
              "    <tr style=\"text-align: left;\">\n",
              "      <th>epoch</th>\n",
              "      <th>train_loss</th>\n",
              "      <th>valid_loss</th>\n",
              "      <th>error_rate</th>\n",
              "      <th>f_beta</th>\n",
              "      <th>accuracy</th>\n",
              "      <th>time</th>\n",
              "    </tr>\n",
              "  </thead>\n",
              "  <tbody>\n",
              "    <tr>\n",
              "      <td>0</td>\n",
              "      <td>0.396021</td>\n",
              "      <td>0.150318</td>\n",
              "      <td>0.037600</td>\n",
              "      <td>0.962437</td>\n",
              "      <td>0.962400</td>\n",
              "      <td>00:57</td>\n",
              "    </tr>\n",
              "    <tr>\n",
              "      <td>1</td>\n",
              "      <td>0.394688</td>\n",
              "      <td>0.148053</td>\n",
              "      <td>0.038400</td>\n",
              "      <td>0.961622</td>\n",
              "      <td>0.961600</td>\n",
              "      <td>00:57</td>\n",
              "    </tr>\n",
              "    <tr>\n",
              "      <td>2</td>\n",
              "      <td>0.406025</td>\n",
              "      <td>0.148619</td>\n",
              "      <td>0.040000</td>\n",
              "      <td>0.960028</td>\n",
              "      <td>0.960000</td>\n",
              "      <td>00:57</td>\n",
              "    </tr>\n",
              "    <tr>\n",
              "      <td>3</td>\n",
              "      <td>0.393746</td>\n",
              "      <td>0.143968</td>\n",
              "      <td>0.036000</td>\n",
              "      <td>0.964129</td>\n",
              "      <td>0.964000</td>\n",
              "      <td>00:57</td>\n",
              "    </tr>\n",
              "    <tr>\n",
              "      <td>4</td>\n",
              "      <td>0.394992</td>\n",
              "      <td>0.143969</td>\n",
              "      <td>0.037600</td>\n",
              "      <td>0.962398</td>\n",
              "      <td>0.962400</td>\n",
              "      <td>00:57</td>\n",
              "    </tr>\n",
              "    <tr>\n",
              "      <td>5</td>\n",
              "      <td>0.392006</td>\n",
              "      <td>0.148244</td>\n",
              "      <td>0.039200</td>\n",
              "      <td>0.960833</td>\n",
              "      <td>0.960800</td>\n",
              "      <td>00:57</td>\n",
              "    </tr>\n",
              "  </tbody>\n",
              "</table>"
            ],
            "text/plain": [
              "<IPython.core.display.HTML object>"
            ]
          },
          "metadata": {
            "tags": []
          }
        }
      ]
    },
    {
      "cell_type": "code",
      "metadata": {
        "id": "Pg5OuKtfIbpe",
        "colab_type": "code",
        "colab": {}
      },
      "source": [
        "learn_res_101.freeze_to(-1)"
      ],
      "execution_count": 0,
      "outputs": []
    },
    {
      "cell_type": "code",
      "metadata": {
        "id": "NewxiUG2JffS",
        "colab_type": "code",
        "colab": {
          "base_uri": "https://localhost:8080/",
          "height": 195
        },
        "outputId": "2b6ca840-5ae6-4b67-ae6f-61e5bcaa011e"
      },
      "source": [
        "learn_res_101.fit_one_cycle(5, slice(1e-07, 1e-04/30),wd=0.05)"
      ],
      "execution_count": 29,
      "outputs": [
        {
          "output_type": "display_data",
          "data": {
            "text/html": [
              "<table border=\"1\" class=\"dataframe\">\n",
              "  <thead>\n",
              "    <tr style=\"text-align: left;\">\n",
              "      <th>epoch</th>\n",
              "      <th>train_loss</th>\n",
              "      <th>valid_loss</th>\n",
              "      <th>error_rate</th>\n",
              "      <th>f_beta</th>\n",
              "      <th>accuracy</th>\n",
              "      <th>time</th>\n",
              "    </tr>\n",
              "  </thead>\n",
              "  <tbody>\n",
              "    <tr>\n",
              "      <td>0</td>\n",
              "      <td>0.385966</td>\n",
              "      <td>0.142850</td>\n",
              "      <td>0.034400</td>\n",
              "      <td>0.965672</td>\n",
              "      <td>0.965600</td>\n",
              "      <td>00:46</td>\n",
              "    </tr>\n",
              "    <tr>\n",
              "      <td>1</td>\n",
              "      <td>0.389131</td>\n",
              "      <td>0.142140</td>\n",
              "      <td>0.037600</td>\n",
              "      <td>0.962484</td>\n",
              "      <td>0.962400</td>\n",
              "      <td>00:46</td>\n",
              "    </tr>\n",
              "    <tr>\n",
              "      <td>2</td>\n",
              "      <td>0.390483</td>\n",
              "      <td>0.142973</td>\n",
              "      <td>0.036000</td>\n",
              "      <td>0.964029</td>\n",
              "      <td>0.964000</td>\n",
              "      <td>00:46</td>\n",
              "    </tr>\n",
              "    <tr>\n",
              "      <td>3</td>\n",
              "      <td>0.391241</td>\n",
              "      <td>0.142293</td>\n",
              "      <td>0.036000</td>\n",
              "      <td>0.964054</td>\n",
              "      <td>0.964000</td>\n",
              "      <td>00:46</td>\n",
              "    </tr>\n",
              "    <tr>\n",
              "      <td>4</td>\n",
              "      <td>0.388141</td>\n",
              "      <td>0.145684</td>\n",
              "      <td>0.037600</td>\n",
              "      <td>0.962471</td>\n",
              "      <td>0.962400</td>\n",
              "      <td>00:46</td>\n",
              "    </tr>\n",
              "  </tbody>\n",
              "</table>"
            ],
            "text/plain": [
              "<IPython.core.display.HTML object>"
            ]
          },
          "metadata": {
            "tags": []
          }
        }
      ]
    },
    {
      "cell_type": "code",
      "metadata": {
        "id": "vnuCBq3EKApv",
        "colab_type": "code",
        "colab": {}
      },
      "source": [
        "learn_res_101.save('resnet_101_224_14-06')"
      ],
      "execution_count": 0,
      "outputs": []
    },
    {
      "cell_type": "code",
      "metadata": {
        "id": "BoWctKn1KrkI",
        "colab_type": "code",
        "colab": {}
      },
      "source": [
        "data=get_data(299,32)\n",
        "learn_res_101=get_learner_res_101(data)"
      ],
      "execution_count": 0,
      "outputs": []
    },
    {
      "cell_type": "code",
      "metadata": {
        "id": "qYJn1ifIKxi7",
        "colab_type": "code",
        "colab": {}
      },
      "source": [
        "learn_res_101.load('resnet_101_224_14-06')"
      ],
      "execution_count": 0,
      "outputs": []
    },
    {
      "cell_type": "code",
      "metadata": {
        "id": "Mp_dneNqK37K",
        "colab_type": "code",
        "colab": {
          "base_uri": "https://localhost:8080/",
          "height": 406
        },
        "outputId": "10dbd1bf-951e-4f9b-d72d-3a8e2ee14546"
      },
      "source": [
        "learn_res_101.freeze();\n",
        "learn_res_101.clip_grad();\n",
        "learn_res_101.lr_find()\n",
        "learn_res_101.recorder.plot(suggestion=True)"
      ],
      "execution_count": 45,
      "outputs": [
        {
          "output_type": "display_data",
          "data": {
            "text/html": [
              "\n",
              "    <div>\n",
              "        <style>\n",
              "            /* Turns off some styling */\n",
              "            progress {\n",
              "                /* gets rid of default border in Firefox and Opera. */\n",
              "                border: none;\n",
              "                /* Needs to be in here for Safari polyfill so background images work as expected. */\n",
              "                background-size: auto;\n",
              "            }\n",
              "            .progress-bar-interrupted, .progress-bar-interrupted::-webkit-progress-bar {\n",
              "                background: #F44336;\n",
              "            }\n",
              "        </style>\n",
              "      <progress value='0' class='' max='1' style='width:300px; height:20px; vertical-align: middle;'></progress>\n",
              "      0.00% [0/1 00:00<00:00]\n",
              "    </div>\n",
              "    \n",
              "<table border=\"1\" class=\"dataframe\">\n",
              "  <thead>\n",
              "    <tr style=\"text-align: left;\">\n",
              "      <th>epoch</th>\n",
              "      <th>train_loss</th>\n",
              "      <th>valid_loss</th>\n",
              "      <th>error_rate</th>\n",
              "      <th>f_beta</th>\n",
              "      <th>accuracy</th>\n",
              "      <th>time</th>\n",
              "    </tr>\n",
              "  </thead>\n",
              "  <tbody>\n",
              "  </tbody>\n",
              "</table><p>\n",
              "\n",
              "    <div>\n",
              "        <style>\n",
              "            /* Turns off some styling */\n",
              "            progress {\n",
              "                /* gets rid of default border in Firefox and Opera. */\n",
              "                border: none;\n",
              "                /* Needs to be in here for Safari polyfill so background images work as expected. */\n",
              "                background-size: auto;\n",
              "            }\n",
              "            .progress-bar-interrupted, .progress-bar-interrupted::-webkit-progress-bar {\n",
              "                background: #F44336;\n",
              "            }\n",
              "        </style>\n",
              "      <progress value='75' class='' max='156' style='width:300px; height:20px; vertical-align: middle;'></progress>\n",
              "      48.08% [75/156 00:32<00:34 0.2415]\n",
              "    </div>\n",
              "    "
            ],
            "text/plain": [
              "<IPython.core.display.HTML object>"
            ]
          },
          "metadata": {
            "tags": []
          }
        },
        {
          "output_type": "stream",
          "text": [
            "LR Finder is complete, type {learner_name}.recorder.plot() to see the graph.\n",
            "Min numerical gradient: 6.31E-07\n",
            "Min loss divided by 10: 1.91E-03\n"
          ],
          "name": "stdout"
        },
        {
          "output_type": "display_data",
          "data": {
            "image/png": "[encoded data removed]",
            "text/plain": [
              "<Figure size 432x288 with 1 Axes>"
            ]
          },
          "metadata": {
            "tags": [],
            "needs_background": "light"
          }
        }
      ]
    },
    {
      "cell_type": "code",
      "metadata": {
        "id": "ihwbFjCjL1x5",
        "colab_type": "code",
        "colab": {
          "base_uri": "https://localhost:8080/",
          "height": 343
        },
        "outputId": "727de5fe-c779-48b1-e242-0f89b87871c6"
      },
      "source": [
        "learn_res_101.fit_one_cycle(10, max_lr=slice(2e-03))"
      ],
      "execution_count": 46,
      "outputs": [
        {
          "output_type": "display_data",
          "data": {
            "text/html": [
              "<table border=\"1\" class=\"dataframe\">\n",
              "  <thead>\n",
              "    <tr style=\"text-align: left;\">\n",
              "      <th>epoch</th>\n",
              "      <th>train_loss</th>\n",
              "      <th>valid_loss</th>\n",
              "      <th>error_rate</th>\n",
              "      <th>f_beta</th>\n",
              "      <th>accuracy</th>\n",
              "      <th>time</th>\n",
              "    </tr>\n",
              "  </thead>\n",
              "  <tbody>\n",
              "    <tr>\n",
              "      <td>0</td>\n",
              "      <td>0.044461</td>\n",
              "      <td>0.136391</td>\n",
              "      <td>0.039200</td>\n",
              "      <td>0.960840</td>\n",
              "      <td>0.960800</td>\n",
              "      <td>01:17</td>\n",
              "    </tr>\n",
              "    <tr>\n",
              "      <td>1</td>\n",
              "      <td>0.016245</td>\n",
              "      <td>0.182872</td>\n",
              "      <td>0.035200</td>\n",
              "      <td>0.964815</td>\n",
              "      <td>0.964800</td>\n",
              "      <td>01:15</td>\n",
              "    </tr>\n",
              "    <tr>\n",
              "      <td>2</td>\n",
              "      <td>0.012792</td>\n",
              "      <td>0.209128</td>\n",
              "      <td>0.036000</td>\n",
              "      <td>0.963996</td>\n",
              "      <td>0.964000</td>\n",
              "      <td>01:14</td>\n",
              "    </tr>\n",
              "    <tr>\n",
              "      <td>3</td>\n",
              "      <td>0.004515</td>\n",
              "      <td>0.284465</td>\n",
              "      <td>0.033600</td>\n",
              "      <td>0.966516</td>\n",
              "      <td>0.966400</td>\n",
              "      <td>01:15</td>\n",
              "    </tr>\n",
              "    <tr>\n",
              "      <td>4</td>\n",
              "      <td>0.010886</td>\n",
              "      <td>0.284136</td>\n",
              "      <td>0.037600</td>\n",
              "      <td>0.962320</td>\n",
              "      <td>0.962400</td>\n",
              "      <td>01:15</td>\n",
              "    </tr>\n",
              "    <tr>\n",
              "      <td>5</td>\n",
              "      <td>0.011829</td>\n",
              "      <td>0.303089</td>\n",
              "      <td>0.034400</td>\n",
              "      <td>0.965627</td>\n",
              "      <td>0.965600</td>\n",
              "      <td>01:14</td>\n",
              "    </tr>\n",
              "    <tr>\n",
              "      <td>6</td>\n",
              "      <td>0.013296</td>\n",
              "      <td>0.303936</td>\n",
              "      <td>0.035200</td>\n",
              "      <td>0.964779</td>\n",
              "      <td>0.964800</td>\n",
              "      <td>01:15</td>\n",
              "    </tr>\n",
              "    <tr>\n",
              "      <td>7</td>\n",
              "      <td>0.007990</td>\n",
              "      <td>0.318170</td>\n",
              "      <td>0.035200</td>\n",
              "      <td>0.964839</td>\n",
              "      <td>0.964800</td>\n",
              "      <td>01:15</td>\n",
              "    </tr>\n",
              "    <tr>\n",
              "      <td>8</td>\n",
              "      <td>0.013375</td>\n",
              "      <td>0.321901</td>\n",
              "      <td>0.035200</td>\n",
              "      <td>0.964830</td>\n",
              "      <td>0.964800</td>\n",
              "      <td>01:15</td>\n",
              "    </tr>\n",
              "    <tr>\n",
              "      <td>9</td>\n",
              "      <td>0.010587</td>\n",
              "      <td>0.311472</td>\n",
              "      <td>0.034400</td>\n",
              "      <td>0.965630</td>\n",
              "      <td>0.965600</td>\n",
              "      <td>01:15</td>\n",
              "    </tr>\n",
              "  </tbody>\n",
              "</table>"
            ],
            "text/plain": [
              "<IPython.core.display.HTML object>"
            ]
          },
          "metadata": {
            "tags": []
          }
        }
      ]
    },
    {
      "cell_type": "code",
      "metadata": {
        "id": "Z39saE2tLtiB",
        "colab_type": "code",
        "colab": {
          "base_uri": "https://localhost:8080/",
          "height": 389
        },
        "outputId": "468650be-1ed7-46f6-b5e6-39036b3479b2"
      },
      "source": [
        "learn_res_101.unfreeze()\n",
        "learn_res_101.lr_find()\n",
        "learn_res_101.recorder.plot(suggestion=True)"
      ],
      "execution_count": 49,
      "outputs": [
        {
          "output_type": "display_data",
          "data": {
            "text/html": [
              "\n",
              "    <div>\n",
              "        <style>\n",
              "            /* Turns off some styling */\n",
              "            progress {\n",
              "                /* gets rid of default border in Firefox and Opera. */\n",
              "                border: none;\n",
              "                /* Needs to be in here for Safari polyfill so background images work as expected. */\n",
              "                background-size: auto;\n",
              "            }\n",
              "            .progress-bar-interrupted, .progress-bar-interrupted::-webkit-progress-bar {\n",
              "                background: #F44336;\n",
              "            }\n",
              "        </style>\n",
              "      <progress value='0' class='' max='1' style='width:300px; height:20px; vertical-align: middle;'></progress>\n",
              "      0.00% [0/1 00:00<00:00]\n",
              "    </div>\n",
              "    \n",
              "<table border=\"1\" class=\"dataframe\">\n",
              "  <thead>\n",
              "    <tr style=\"text-align: left;\">\n",
              "      <th>epoch</th>\n",
              "      <th>train_loss</th>\n",
              "      <th>valid_loss</th>\n",
              "      <th>error_rate</th>\n",
              "      <th>f_beta</th>\n",
              "      <th>accuracy</th>\n",
              "      <th>time</th>\n",
              "    </tr>\n",
              "  </thead>\n",
              "  <tbody>\n",
              "  </tbody>\n",
              "</table><p>\n",
              "\n",
              "    <div>\n",
              "        <style>\n",
              "            /* Turns off some styling */\n",
              "            progress {\n",
              "                /* gets rid of default border in Firefox and Opera. */\n",
              "                border: none;\n",
              "                /* Needs to be in here for Safari polyfill so background images work as expected. */\n",
              "                background-size: auto;\n",
              "            }\n",
              "            .progress-bar-interrupted, .progress-bar-interrupted::-webkit-progress-bar {\n",
              "                background: #F44336;\n",
              "            }\n",
              "        </style>\n",
              "      <progress value='1' class='' max='156' style='width:300px; height:20px; vertical-align: middle;'></progress>\n",
              "      0.64% [1/156 00:01<03:20 0.0034]\n",
              "    </div>\n",
              "    "
            ],
            "text/plain": [
              "<IPython.core.display.HTML object>"
            ]
          },
          "metadata": {
            "tags": []
          }
        },
        {
          "output_type": "stream",
          "text": [
            "LR Finder is complete, type {learner_name}.recorder.plot() to see the graph.\n",
            "Failed to compute the gradients, there might not be enough points.\n"
          ],
          "name": "stdout"
        },
        {
          "output_type": "display_data",
          "data": {
            "image/png": "[encoded data removed]",
            "text/plain": [
              "<Figure size 432x288 with 1 Axes>"
            ]
          },
          "metadata": {
            "tags": [],
            "needs_background": "light"
          }
        }
      ]
    },
    {
      "cell_type": "code",
      "metadata": {
        "id": "eHA2foGUP3yJ",
        "colab_type": "code",
        "colab": {
          "base_uri": "https://localhost:8080/",
          "height": 491
        },
        "outputId": "3c2591b0-0427-40b7-ee4d-343f0766dc63"
      },
      "source": [
        "learn_res_101.fit_one_cycle(15,slice(1e-05,3e-03/8),wd=0.15)"
      ],
      "execution_count": 50,
      "outputs": [
        {
          "output_type": "display_data",
          "data": {
            "text/html": [
              "<table border=\"1\" class=\"dataframe\">\n",
              "  <thead>\n",
              "    <tr style=\"text-align: left;\">\n",
              "      <th>epoch</th>\n",
              "      <th>train_loss</th>\n",
              "      <th>valid_loss</th>\n",
              "      <th>error_rate</th>\n",
              "      <th>f_beta</th>\n",
              "      <th>accuracy</th>\n",
              "      <th>time</th>\n",
              "    </tr>\n",
              "  </thead>\n",
              "  <tbody>\n",
              "    <tr>\n",
              "      <td>0</td>\n",
              "      <td>0.009867</td>\n",
              "      <td>0.286944</td>\n",
              "      <td>0.032000</td>\n",
              "      <td>0.968003</td>\n",
              "      <td>0.968000</td>\n",
              "      <td>01:36</td>\n",
              "    </tr>\n",
              "    <tr>\n",
              "      <td>1</td>\n",
              "      <td>0.016439</td>\n",
              "      <td>0.292246</td>\n",
              "      <td>0.035200</td>\n",
              "      <td>0.964793</td>\n",
              "      <td>0.964800</td>\n",
              "      <td>01:36</td>\n",
              "    </tr>\n",
              "    <tr>\n",
              "      <td>2</td>\n",
              "      <td>0.045528</td>\n",
              "      <td>0.295139</td>\n",
              "      <td>0.039200</td>\n",
              "      <td>0.960771</td>\n",
              "      <td>0.960800</td>\n",
              "      <td>01:36</td>\n",
              "    </tr>\n",
              "    <tr>\n",
              "      <td>3</td>\n",
              "      <td>0.043560</td>\n",
              "      <td>0.532027</td>\n",
              "      <td>0.064000</td>\n",
              "      <td>0.934640</td>\n",
              "      <td>0.936000</td>\n",
              "      <td>01:37</td>\n",
              "    </tr>\n",
              "    <tr>\n",
              "      <td>4</td>\n",
              "      <td>0.078436</td>\n",
              "      <td>0.506431</td>\n",
              "      <td>0.063200</td>\n",
              "      <td>0.937228</td>\n",
              "      <td>0.936800</td>\n",
              "      <td>01:37</td>\n",
              "    </tr>\n",
              "    <tr>\n",
              "      <td>5</td>\n",
              "      <td>0.065056</td>\n",
              "      <td>0.355942</td>\n",
              "      <td>0.047200</td>\n",
              "      <td>0.952842</td>\n",
              "      <td>0.952800</td>\n",
              "      <td>01:38</td>\n",
              "    </tr>\n",
              "    <tr>\n",
              "      <td>6</td>\n",
              "      <td>0.054290</td>\n",
              "      <td>0.387665</td>\n",
              "      <td>0.047200</td>\n",
              "      <td>0.952816</td>\n",
              "      <td>0.952800</td>\n",
              "      <td>01:37</td>\n",
              "    </tr>\n",
              "    <tr>\n",
              "      <td>7</td>\n",
              "      <td>0.032340</td>\n",
              "      <td>0.317467</td>\n",
              "      <td>0.048800</td>\n",
              "      <td>0.951396</td>\n",
              "      <td>0.951200</td>\n",
              "      <td>01:37</td>\n",
              "    </tr>\n",
              "    <tr>\n",
              "      <td>8</td>\n",
              "      <td>0.031657</td>\n",
              "      <td>0.281685</td>\n",
              "      <td>0.040000</td>\n",
              "      <td>0.960238</td>\n",
              "      <td>0.960000</td>\n",
              "      <td>01:38</td>\n",
              "    </tr>\n",
              "    <tr>\n",
              "      <td>9</td>\n",
              "      <td>0.019327</td>\n",
              "      <td>0.316547</td>\n",
              "      <td>0.040800</td>\n",
              "      <td>0.959335</td>\n",
              "      <td>0.959200</td>\n",
              "      <td>01:37</td>\n",
              "    </tr>\n",
              "    <tr>\n",
              "      <td>10</td>\n",
              "      <td>0.006992</td>\n",
              "      <td>0.319111</td>\n",
              "      <td>0.041600</td>\n",
              "      <td>0.958413</td>\n",
              "      <td>0.958400</td>\n",
              "      <td>01:36</td>\n",
              "    </tr>\n",
              "    <tr>\n",
              "      <td>11</td>\n",
              "      <td>0.010305</td>\n",
              "      <td>0.304719</td>\n",
              "      <td>0.041600</td>\n",
              "      <td>0.958479</td>\n",
              "      <td>0.958400</td>\n",
              "      <td>01:36</td>\n",
              "    </tr>\n",
              "    <tr>\n",
              "      <td>12</td>\n",
              "      <td>0.007042</td>\n",
              "      <td>0.346137</td>\n",
              "      <td>0.041600</td>\n",
              "      <td>0.958514</td>\n",
              "      <td>0.958400</td>\n",
              "      <td>01:38</td>\n",
              "    </tr>\n",
              "    <tr>\n",
              "      <td>13</td>\n",
              "      <td>0.002037</td>\n",
              "      <td>0.347628</td>\n",
              "      <td>0.040800</td>\n",
              "      <td>0.959208</td>\n",
              "      <td>0.959200</td>\n",
              "      <td>01:37</td>\n",
              "    </tr>\n",
              "    <tr>\n",
              "      <td>14</td>\n",
              "      <td>0.000888</td>\n",
              "      <td>0.342031</td>\n",
              "      <td>0.040000</td>\n",
              "      <td>0.960030</td>\n",
              "      <td>0.960000</td>\n",
              "      <td>01:36</td>\n",
              "    </tr>\n",
              "  </tbody>\n",
              "</table>"
            ],
            "text/plain": [
              "<IPython.core.display.HTML object>"
            ]
          },
          "metadata": {
            "tags": []
          }
        }
      ]
    },
    {
      "cell_type": "code",
      "metadata": {
        "id": "5kGHQQxeLRsR",
        "colab_type": "code",
        "colab": {}
      },
      "source": [
        "learn_res_101.freeze_to(-3)"
      ],
      "execution_count": 0,
      "outputs": []
    },
    {
      "cell_type": "code",
      "metadata": {
        "id": "g7CFEeHCV9lh",
        "colab_type": "code",
        "colab": {
          "base_uri": "https://localhost:8080/",
          "height": 389
        },
        "outputId": "d4cc4fd4-69f2-4f73-960b-afb286f40d64"
      },
      "source": [
        "learn_res_101.lr_find()\n",
        "learn_res_101.recorder.plot(suggestion=True)"
      ],
      "execution_count": 52,
      "outputs": [
        {
          "output_type": "display_data",
          "data": {
            "text/html": [
              "\n",
              "    <div>\n",
              "        <style>\n",
              "            /* Turns off some styling */\n",
              "            progress {\n",
              "                /* gets rid of default border in Firefox and Opera. */\n",
              "                border: none;\n",
              "                /* Needs to be in here for Safari polyfill so background images work as expected. */\n",
              "                background-size: auto;\n",
              "            }\n",
              "            .progress-bar-interrupted, .progress-bar-interrupted::-webkit-progress-bar {\n",
              "                background: #F44336;\n",
              "            }\n",
              "        </style>\n",
              "      <progress value='0' class='' max='1' style='width:300px; height:20px; vertical-align: middle;'></progress>\n",
              "      0.00% [0/1 00:00<00:00]\n",
              "    </div>\n",
              "    \n",
              "<table border=\"1\" class=\"dataframe\">\n",
              "  <thead>\n",
              "    <tr style=\"text-align: left;\">\n",
              "      <th>epoch</th>\n",
              "      <th>train_loss</th>\n",
              "      <th>valid_loss</th>\n",
              "      <th>error_rate</th>\n",
              "      <th>f_beta</th>\n",
              "      <th>accuracy</th>\n",
              "      <th>time</th>\n",
              "    </tr>\n",
              "  </thead>\n",
              "  <tbody>\n",
              "  </tbody>\n",
              "</table><p>\n",
              "\n",
              "    <div>\n",
              "        <style>\n",
              "            /* Turns off some styling */\n",
              "            progress {\n",
              "                /* gets rid of default border in Firefox and Opera. */\n",
              "                border: none;\n",
              "                /* Needs to be in here for Safari polyfill so background images work as expected. */\n",
              "                background-size: auto;\n",
              "            }\n",
              "            .progress-bar-interrupted, .progress-bar-interrupted::-webkit-progress-bar {\n",
              "                background: #F44336;\n",
              "            }\n",
              "        </style>\n",
              "      <progress value='1' class='' max='156' style='width:300px; height:20px; vertical-align: middle;'></progress>\n",
              "      0.64% [1/156 00:01<03:28 0.0000]\n",
              "    </div>\n",
              "    "
            ],
            "text/plain": [
              "<IPython.core.display.HTML object>"
            ]
          },
          "metadata": {
            "tags": []
          }
        },
        {
          "output_type": "stream",
          "text": [
            "LR Finder is complete, type {learner_name}.recorder.plot() to see the graph.\n",
            "Failed to compute the gradients, there might not be enough points.\n"
          ],
          "name": "stdout"
        },
        {
          "output_type": "display_data",
          "data": {
            "image/png": "[encoded data removed]",
            "text/plain": [
              "<Figure size 432x288 with 1 Axes>"
            ]
          },
          "metadata": {
            "tags": [],
            "needs_background": "light"
          }
        }
      ]
    },
    {
      "cell_type": "code",
      "metadata": {
        "id": "gT6DZvgBWCNH",
        "colab_type": "code",
        "colab": {
          "base_uri": "https://localhost:8080/",
          "height": 225
        },
        "outputId": "2ce63105-013c-4c53-9185-d082ab4011dd"
      },
      "source": [
        "learn_res_101.fit_one_cycle(6, slice(1e-06, 3e-03/10),wd=0.1)"
      ],
      "execution_count": 53,
      "outputs": [
        {
          "output_type": "display_data",
          "data": {
            "text/html": [
              "<table border=\"1\" class=\"dataframe\">\n",
              "  <thead>\n",
              "    <tr style=\"text-align: left;\">\n",
              "      <th>epoch</th>\n",
              "      <th>train_loss</th>\n",
              "      <th>valid_loss</th>\n",
              "      <th>error_rate</th>\n",
              "      <th>f_beta</th>\n",
              "      <th>accuracy</th>\n",
              "      <th>time</th>\n",
              "    </tr>\n",
              "  </thead>\n",
              "  <tbody>\n",
              "    <tr>\n",
              "      <td>0</td>\n",
              "      <td>0.001148</td>\n",
              "      <td>0.310239</td>\n",
              "      <td>0.038400</td>\n",
              "      <td>0.961624</td>\n",
              "      <td>0.961600</td>\n",
              "      <td>01:37</td>\n",
              "    </tr>\n",
              "    <tr>\n",
              "      <td>1</td>\n",
              "      <td>0.007286</td>\n",
              "      <td>0.348276</td>\n",
              "      <td>0.040800</td>\n",
              "      <td>0.959221</td>\n",
              "      <td>0.959200</td>\n",
              "      <td>01:37</td>\n",
              "    </tr>\n",
              "    <tr>\n",
              "      <td>2</td>\n",
              "      <td>0.001607</td>\n",
              "      <td>0.337621</td>\n",
              "      <td>0.043200</td>\n",
              "      <td>0.956784</td>\n",
              "      <td>0.956800</td>\n",
              "      <td>01:37</td>\n",
              "    </tr>\n",
              "    <tr>\n",
              "      <td>3</td>\n",
              "      <td>0.006254</td>\n",
              "      <td>0.321867</td>\n",
              "      <td>0.041600</td>\n",
              "      <td>0.958482</td>\n",
              "      <td>0.958400</td>\n",
              "      <td>01:36</td>\n",
              "    </tr>\n",
              "    <tr>\n",
              "      <td>4</td>\n",
              "      <td>0.000654</td>\n",
              "      <td>0.318767</td>\n",
              "      <td>0.037600</td>\n",
              "      <td>0.962435</td>\n",
              "      <td>0.962400</td>\n",
              "      <td>01:36</td>\n",
              "    </tr>\n",
              "    <tr>\n",
              "      <td>5</td>\n",
              "      <td>0.000085</td>\n",
              "      <td>0.317867</td>\n",
              "      <td>0.037600</td>\n",
              "      <td>0.962431</td>\n",
              "      <td>0.962400</td>\n",
              "      <td>01:36</td>\n",
              "    </tr>\n",
              "  </tbody>\n",
              "</table>"
            ],
            "text/plain": [
              "<IPython.core.display.HTML object>"
            ]
          },
          "metadata": {
            "tags": []
          }
        }
      ]
    },
    {
      "cell_type": "code",
      "metadata": {
        "id": "c9NJsBwkZnWb",
        "colab_type": "code",
        "colab": {}
      },
      "source": [
        "learn_res_101.freeze_to(-2)"
      ],
      "execution_count": 0,
      "outputs": []
    },
    {
      "cell_type": "code",
      "metadata": {
        "id": "PWHi6YJLZtIv",
        "colab_type": "code",
        "colab": {
          "base_uri": "https://localhost:8080/",
          "height": 225
        },
        "outputId": "88775e33-2258-43b4-c658-6471df7ebc80"
      },
      "source": [
        "learn_res_101.fit_one_cycle(6, slice(5e-07, 3e-3/20),wd=0.1)"
      ],
      "execution_count": 55,
      "outputs": [
        {
          "output_type": "display_data",
          "data": {
            "text/html": [
              "<table border=\"1\" class=\"dataframe\">\n",
              "  <thead>\n",
              "    <tr style=\"text-align: left;\">\n",
              "      <th>epoch</th>\n",
              "      <th>train_loss</th>\n",
              "      <th>valid_loss</th>\n",
              "      <th>error_rate</th>\n",
              "      <th>f_beta</th>\n",
              "      <th>accuracy</th>\n",
              "      <th>time</th>\n",
              "    </tr>\n",
              "  </thead>\n",
              "  <tbody>\n",
              "    <tr>\n",
              "      <td>0</td>\n",
              "      <td>0.000206</td>\n",
              "      <td>0.322360</td>\n",
              "      <td>0.038400</td>\n",
              "      <td>0.961689</td>\n",
              "      <td>0.961600</td>\n",
              "      <td>01:37</td>\n",
              "    </tr>\n",
              "    <tr>\n",
              "      <td>1</td>\n",
              "      <td>0.000320</td>\n",
              "      <td>0.323249</td>\n",
              "      <td>0.040800</td>\n",
              "      <td>0.959181</td>\n",
              "      <td>0.959200</td>\n",
              "      <td>01:36</td>\n",
              "    </tr>\n",
              "    <tr>\n",
              "      <td>2</td>\n",
              "      <td>0.002085</td>\n",
              "      <td>0.316569</td>\n",
              "      <td>0.035200</td>\n",
              "      <td>0.964777</td>\n",
              "      <td>0.964800</td>\n",
              "      <td>01:36</td>\n",
              "    </tr>\n",
              "    <tr>\n",
              "      <td>3</td>\n",
              "      <td>0.000179</td>\n",
              "      <td>0.307680</td>\n",
              "      <td>0.038400</td>\n",
              "      <td>0.961607</td>\n",
              "      <td>0.961600</td>\n",
              "      <td>01:36</td>\n",
              "    </tr>\n",
              "    <tr>\n",
              "      <td>4</td>\n",
              "      <td>0.000323</td>\n",
              "      <td>0.303116</td>\n",
              "      <td>0.036000</td>\n",
              "      <td>0.963995</td>\n",
              "      <td>0.964000</td>\n",
              "      <td>01:35</td>\n",
              "    </tr>\n",
              "    <tr>\n",
              "      <td>5</td>\n",
              "      <td>0.001591</td>\n",
              "      <td>0.310071</td>\n",
              "      <td>0.036800</td>\n",
              "      <td>0.963249</td>\n",
              "      <td>0.963200</td>\n",
              "      <td>01:35</td>\n",
              "    </tr>\n",
              "  </tbody>\n",
              "</table>"
            ],
            "text/plain": [
              "<IPython.core.display.HTML object>"
            ]
          },
          "metadata": {
            "tags": []
          }
        }
      ]
    },
    {
      "cell_type": "code",
      "metadata": {
        "id": "Szx_H6oncHC0",
        "colab_type": "code",
        "colab": {}
      },
      "source": [
        "learn_res_101.freeze_to(-1)"
      ],
      "execution_count": 0,
      "outputs": []
    },
    {
      "cell_type": "code",
      "metadata": {
        "id": "mlDq-4uEcMJw",
        "colab_type": "code",
        "colab": {
          "base_uri": "https://localhost:8080/",
          "height": 195
        },
        "outputId": "05d2bfe7-b62b-4239-b03b-6a66e516bd0e"
      },
      "source": [
        "learn_res_101.fit_one_cycle(5, slice(1e-07, 3e-3/30),wd=0.1)"
      ],
      "execution_count": 56,
      "outputs": [
        {
          "output_type": "display_data",
          "data": {
            "text/html": [
              "<table border=\"1\" class=\"dataframe\">\n",
              "  <thead>\n",
              "    <tr style=\"text-align: left;\">\n",
              "      <th>epoch</th>\n",
              "      <th>train_loss</th>\n",
              "      <th>valid_loss</th>\n",
              "      <th>error_rate</th>\n",
              "      <th>f_beta</th>\n",
              "      <th>accuracy</th>\n",
              "      <th>time</th>\n",
              "    </tr>\n",
              "  </thead>\n",
              "  <tbody>\n",
              "    <tr>\n",
              "      <td>0</td>\n",
              "      <td>0.000054</td>\n",
              "      <td>0.310602</td>\n",
              "      <td>0.037600</td>\n",
              "      <td>0.962422</td>\n",
              "      <td>0.962400</td>\n",
              "      <td>01:36</td>\n",
              "    </tr>\n",
              "    <tr>\n",
              "      <td>1</td>\n",
              "      <td>0.000147</td>\n",
              "      <td>0.318964</td>\n",
              "      <td>0.034400</td>\n",
              "      <td>0.965638</td>\n",
              "      <td>0.965600</td>\n",
              "      <td>01:36</td>\n",
              "    </tr>\n",
              "    <tr>\n",
              "      <td>2</td>\n",
              "      <td>0.000261</td>\n",
              "      <td>0.319280</td>\n",
              "      <td>0.036800</td>\n",
              "      <td>0.963191</td>\n",
              "      <td>0.963200</td>\n",
              "      <td>01:35</td>\n",
              "    </tr>\n",
              "    <tr>\n",
              "      <td>3</td>\n",
              "      <td>0.000095</td>\n",
              "      <td>0.315874</td>\n",
              "      <td>0.036800</td>\n",
              "      <td>0.963201</td>\n",
              "      <td>0.963200</td>\n",
              "      <td>01:35</td>\n",
              "    </tr>\n",
              "    <tr>\n",
              "      <td>4</td>\n",
              "      <td>0.000420</td>\n",
              "      <td>0.319535</td>\n",
              "      <td>0.036800</td>\n",
              "      <td>0.963229</td>\n",
              "      <td>0.963200</td>\n",
              "      <td>01:35</td>\n",
              "    </tr>\n",
              "  </tbody>\n",
              "</table>"
            ],
            "text/plain": [
              "<IPython.core.display.HTML object>"
            ]
          },
          "metadata": {
            "tags": []
          }
        }
      ]
    },
    {
      "cell_type": "code",
      "metadata": {
        "id": "62Z6BwMwjIbR",
        "colab_type": "code",
        "colab": {}
      },
      "source": [
        "learn_res_101.save('resnet_101_final')"
      ],
      "execution_count": 0,
      "outputs": []
    },
    {
      "cell_type": "code",
      "metadata": {
        "id": "RSDXHan6khdY",
        "colab_type": "code",
        "colab": {
          "base_uri": "https://localhost:8080/",
          "height": 400
        },
        "outputId": "e66fff49-86be-45fb-c66c-69a97c3f788c"
      },
      "source": [
        "interp = ClassificationInterpretation.from_learner(learn_res_101)\n",
        "interp.plot_top_losses(9, figsize=(7,6))"
      ],
      "execution_count": 62,
      "outputs": [
        {
          "output_type": "display_data",
          "data": {
            "text/html": [
              ""
            ],
            "text/plain": [
              "<IPython.core.display.HTML object>"
            ]
          },
          "metadata": {
            "tags": []
          }
        },
        {
          "output_type": "display_data",
          "data": {
            "image/png": "[encoded data removed]",
            "text/plain": [
              "<Figure size 504x432 with 9 Axes>"
            ]
          },
          "metadata": {
            "tags": [],
            "needs_background": "light"
          }
        }
      ]
    },
    {
      "cell_type": "code",
      "metadata": {
        "id": "aX9OXFi4lB5F",
        "colab_type": "code",
        "colab": {
          "base_uri": "https://localhost:8080/",
          "height": 383
        },
        "outputId": "d274978f-c655-4643-ca74-83270627e32b"
      },
      "source": [
        "\n",
        "interp.plot_confusion_matrix(figsize=(6,6), dpi=60)"
      ],
      "execution_count": 64,
      "outputs": [
        {
          "output_type": "display_data",
          "data": {
            "image/png": "[encoded data removed]",
            "text/plain": [
              "<Figure size 360x360 with 1 Axes>"
            ]
          },
          "metadata": {
            "tags": [],
            "needs_background": "light"
          }
        }
      ]
    },
    {
      "cell_type": "markdown",
      "metadata": {
        "id": "MpU-o2ISsZkg",
        "colab_type": "text"
      },
      "source": [
        "Resnet 152"
      ]
    },
    {
      "cell_type": "code",
      "metadata": {
        "id": "dKNLeP6ysXd3",
        "colab_type": "code",
        "colab": {}
      },
      "source": [
        "def resnet152(pretrained=False):\n",
        "    pretrained = 'imagenet' if pretrained else None\n",
        "    model = torchvision.models.resnet152(pretrained=pretrained)\n",
        "    return nn.Sequential(*list(model.children()))\n",
        "\n",
        "def get_learner_res_152(data):\n",
        "    learn = cnn_learner(data, resnet152, pretrained=True, cut=-2,\n",
        "                        split_on=lambda m: (m[0][3], m[1]), \n",
        "                        metrics=[error_rate, f_score, accuracy])\n",
        "    return learn"
      ],
      "execution_count": 0,
      "outputs": []
    },
    {
      "cell_type": "code",
      "metadata": {
        "id": "AMZsMd7OtKyq",
        "colab_type": "code",
        "colab": {}
      },
      "source": [
        "data=get_data(299,32)\n",
        "learn_res_152=get_learner_res_152(data)"
      ],
      "execution_count": 0,
      "outputs": []
    },
    {
      "cell_type": "code",
      "metadata": {
        "id": "jgb8fFY7th-8",
        "colab_type": "code",
        "colab": {
          "base_uri": "https://localhost:8080/",
          "height": 406
        },
        "outputId": "020faabe-af99-4b7c-883e-1ff9fc397535"
      },
      "source": [
        "learn_res_152.mixup()\n",
        "learn_res_152.lr_find()\n",
        "learn_res_152.recorder.plot(suggestion=True)"
      ],
      "execution_count": 11,
      "outputs": [
        {
          "output_type": "display_data",
          "data": {
            "text/html": [
              "\n",
              "    <div>\n",
              "        <style>\n",
              "            /* Turns off some styling */\n",
              "            progress {\n",
              "                /* gets rid of default border in Firefox and Opera. */\n",
              "                border: none;\n",
              "                /* Needs to be in here for Safari polyfill so background images work as expected. */\n",
              "                background-size: auto;\n",
              "            }\n",
              "            .progress-bar-interrupted, .progress-bar-interrupted::-webkit-progress-bar {\n",
              "                background: #F44336;\n",
              "            }\n",
              "        </style>\n",
              "      <progress value='0' class='' max='1' style='width:300px; height:20px; vertical-align: middle;'></progress>\n",
              "      0.00% [0/1 00:00<00:00]\n",
              "    </div>\n",
              "    \n",
              "<table border=\"1\" class=\"dataframe\">\n",
              "  <thead>\n",
              "    <tr style=\"text-align: left;\">\n",
              "      <th>epoch</th>\n",
              "      <th>train_loss</th>\n",
              "      <th>valid_loss</th>\n",
              "      <th>error_rate</th>\n",
              "      <th>f_beta</th>\n",
              "      <th>accuracy</th>\n",
              "      <th>time</th>\n",
              "    </tr>\n",
              "  </thead>\n",
              "  <tbody>\n",
              "  </tbody>\n",
              "</table><p>\n",
              "\n",
              "    <div>\n",
              "        <style>\n",
              "            /* Turns off some styling */\n",
              "            progress {\n",
              "                /* gets rid of default border in Firefox and Opera. */\n",
              "                border: none;\n",
              "                /* Needs to be in here for Safari polyfill so background images work as expected. */\n",
              "                background-size: auto;\n",
              "            }\n",
              "            .progress-bar-interrupted, .progress-bar-interrupted::-webkit-progress-bar {\n",
              "                background: #F44336;\n",
              "            }\n",
              "        </style>\n",
              "      <progress value='88' class='' max='156' style='width:300px; height:20px; vertical-align: middle;'></progress>\n",
              "      56.41% [88/156 00:50<00:38 6.4685]\n",
              "    </div>\n",
              "    "
            ],
            "text/plain": [
              "<IPython.core.display.HTML object>"
            ]
          },
          "metadata": {
            "tags": []
          }
        },
        {
          "output_type": "stream",
          "text": [
            "LR Finder is complete, type {learner_name}.recorder.plot() to see the graph.\n",
            "Min numerical gradient: 1.91E-04\n",
            "Min loss divided by 10: 1.10E-03\n"
          ],
          "name": "stdout"
        },
        {
          "output_type": "display_data",
          "data": {
            "image/png": "[encoded data removed]",
            "text/plain": [
              "<Figure size 432x288 with 1 Axes>"
            ]
          },
          "metadata": {
            "tags": [],
            "needs_background": "light"
          }
        }
      ]
    },
    {
      "cell_type": "code",
      "metadata": {
        "id": "tAjC8CxluOii",
        "colab_type": "code",
        "colab": {
          "base_uri": "https://localhost:8080/",
          "height": 343
        },
        "outputId": "cf8f2b7b-dcb8-4121-8600-253840c43b41"
      },
      "source": [
        "learn_res_152.fit_one_cycle(10, max_lr=slice(1e-02))"
      ],
      "execution_count": 12,
      "outputs": [
        {
          "output_type": "display_data",
          "data": {
            "text/html": [
              "<table border=\"1\" class=\"dataframe\">\n",
              "  <thead>\n",
              "    <tr style=\"text-align: left;\">\n",
              "      <th>epoch</th>\n",
              "      <th>train_loss</th>\n",
              "      <th>valid_loss</th>\n",
              "      <th>error_rate</th>\n",
              "      <th>f_beta</th>\n",
              "      <th>accuracy</th>\n",
              "      <th>time</th>\n",
              "    </tr>\n",
              "  </thead>\n",
              "  <tbody>\n",
              "    <tr>\n",
              "      <td>0</td>\n",
              "      <td>1.328841</td>\n",
              "      <td>0.491092</td>\n",
              "      <td>0.178400</td>\n",
              "      <td>0.821661</td>\n",
              "      <td>0.821600</td>\n",
              "      <td>01:37</td>\n",
              "    </tr>\n",
              "    <tr>\n",
              "      <td>1</td>\n",
              "      <td>0.886393</td>\n",
              "      <td>0.337352</td>\n",
              "      <td>0.116800</td>\n",
              "      <td>0.882660</td>\n",
              "      <td>0.883200</td>\n",
              "      <td>01:35</td>\n",
              "    </tr>\n",
              "    <tr>\n",
              "      <td>2</td>\n",
              "      <td>0.817891</td>\n",
              "      <td>0.269221</td>\n",
              "      <td>0.091200</td>\n",
              "      <td>0.908573</td>\n",
              "      <td>0.908800</td>\n",
              "      <td>01:34</td>\n",
              "    </tr>\n",
              "    <tr>\n",
              "      <td>3</td>\n",
              "      <td>0.707106</td>\n",
              "      <td>0.246524</td>\n",
              "      <td>0.080000</td>\n",
              "      <td>0.919896</td>\n",
              "      <td>0.920000</td>\n",
              "      <td>01:34</td>\n",
              "    </tr>\n",
              "    <tr>\n",
              "      <td>4</td>\n",
              "      <td>0.640995</td>\n",
              "      <td>0.193437</td>\n",
              "      <td>0.056800</td>\n",
              "      <td>0.943270</td>\n",
              "      <td>0.943200</td>\n",
              "      <td>01:34</td>\n",
              "    </tr>\n",
              "    <tr>\n",
              "      <td>5</td>\n",
              "      <td>0.593493</td>\n",
              "      <td>0.211384</td>\n",
              "      <td>0.064800</td>\n",
              "      <td>0.935728</td>\n",
              "      <td>0.935200</td>\n",
              "      <td>01:34</td>\n",
              "    </tr>\n",
              "    <tr>\n",
              "      <td>6</td>\n",
              "      <td>0.565707</td>\n",
              "      <td>0.172795</td>\n",
              "      <td>0.052800</td>\n",
              "      <td>0.947574</td>\n",
              "      <td>0.947200</td>\n",
              "      <td>01:34</td>\n",
              "    </tr>\n",
              "    <tr>\n",
              "      <td>7</td>\n",
              "      <td>0.527276</td>\n",
              "      <td>0.170076</td>\n",
              "      <td>0.052000</td>\n",
              "      <td>0.948000</td>\n",
              "      <td>0.948000</td>\n",
              "      <td>01:34</td>\n",
              "    </tr>\n",
              "    <tr>\n",
              "      <td>8</td>\n",
              "      <td>0.504962</td>\n",
              "      <td>0.168070</td>\n",
              "      <td>0.052800</td>\n",
              "      <td>0.947131</td>\n",
              "      <td>0.947200</td>\n",
              "      <td>01:34</td>\n",
              "    </tr>\n",
              "    <tr>\n",
              "      <td>9</td>\n",
              "      <td>0.500295</td>\n",
              "      <td>0.164766</td>\n",
              "      <td>0.049600</td>\n",
              "      <td>0.950325</td>\n",
              "      <td>0.950400</td>\n",
              "      <td>01:34</td>\n",
              "    </tr>\n",
              "  </tbody>\n",
              "</table>"
            ],
            "text/plain": [
              "<IPython.core.display.HTML object>"
            ]
          },
          "metadata": {
            "tags": []
          }
        }
      ]
    },
    {
      "cell_type": "code",
      "metadata": {
        "id": "u4wgEUUgyY-E",
        "colab_type": "code",
        "colab": {
          "base_uri": "https://localhost:8080/",
          "height": 406
        },
        "outputId": "55fd332c-d5f0-4da5-8447-ff24e074d0aa"
      },
      "source": [
        "learn_res_152.unfreeze()\n",
        "learn_res_152.clip_grad()\n",
        "learn_res_152.lr_find()\n",
        "learn_res_152.recorder.plot(suggestion=True)"
      ],
      "execution_count": 13,
      "outputs": [
        {
          "output_type": "display_data",
          "data": {
            "text/html": [
              "\n",
              "    <div>\n",
              "        <style>\n",
              "            /* Turns off some styling */\n",
              "            progress {\n",
              "                /* gets rid of default border in Firefox and Opera. */\n",
              "                border: none;\n",
              "                /* Needs to be in here for Safari polyfill so background images work as expected. */\n",
              "                background-size: auto;\n",
              "            }\n",
              "            .progress-bar-interrupted, .progress-bar-interrupted::-webkit-progress-bar {\n",
              "                background: #F44336;\n",
              "            }\n",
              "        </style>\n",
              "      <progress value='0' class='' max='1' style='width:300px; height:20px; vertical-align: middle;'></progress>\n",
              "      0.00% [0/1 00:00<00:00]\n",
              "    </div>\n",
              "    \n",
              "<table border=\"1\" class=\"dataframe\">\n",
              "  <thead>\n",
              "    <tr style=\"text-align: left;\">\n",
              "      <th>epoch</th>\n",
              "      <th>train_loss</th>\n",
              "      <th>valid_loss</th>\n",
              "      <th>error_rate</th>\n",
              "      <th>f_beta</th>\n",
              "      <th>accuracy</th>\n",
              "      <th>time</th>\n",
              "    </tr>\n",
              "  </thead>\n",
              "  <tbody>\n",
              "  </tbody>\n",
              "</table><p>\n",
              "\n",
              "    <div>\n",
              "        <style>\n",
              "            /* Turns off some styling */\n",
              "            progress {\n",
              "                /* gets rid of default border in Firefox and Opera. */\n",
              "                border: none;\n",
              "                /* Needs to be in here for Safari polyfill so background images work as expected. */\n",
              "                background-size: auto;\n",
              "            }\n",
              "            .progress-bar-interrupted, .progress-bar-interrupted::-webkit-progress-bar {\n",
              "                background: #F44336;\n",
              "            }\n",
              "        </style>\n",
              "      <progress value='81' class='' max='156' style='width:300px; height:20px; vertical-align: middle;'></progress>\n",
              "      51.92% [81/156 01:02<00:57 1.5795]\n",
              "    </div>\n",
              "    "
            ],
            "text/plain": [
              "<IPython.core.display.HTML object>"
            ]
          },
          "metadata": {
            "tags": []
          }
        },
        {
          "output_type": "stream",
          "text": [
            "LR Finder is complete, type {learner_name}.recorder.plot() to see the graph.\n",
            "Min numerical gradient: 3.98E-06\n",
            "Min loss divided by 10: 8.32E-07\n"
          ],
          "name": "stdout"
        },
        {
          "output_type": "display_data",
          "data": {
            "image/png": "[encoded data removed]",
            "text/plain": [
              "<Figure size 432x288 with 1 Axes>"
            ]
          },
          "metadata": {
            "tags": [],
            "needs_background": "light"
          }
        }
      ]
    },
    {
      "cell_type": "code",
      "metadata": {
        "id": "S4L1WLkLy999",
        "colab_type": "code",
        "colab": {
          "base_uri": "https://localhost:8080/",
          "height": 521
        },
        "outputId": "93bbe7fc-4859-424b-af83-eb3a0d45fb1a"
      },
      "source": [
        "learn_res_152.fit_one_cycle(16, max_lr=slice(1e-06, 1e-05), wd=0.1)"
      ],
      "execution_count": 15,
      "outputs": [
        {
          "output_type": "display_data",
          "data": {
            "text/html": [
              "<table border=\"1\" class=\"dataframe\">\n",
              "  <thead>\n",
              "    <tr style=\"text-align: left;\">\n",
              "      <th>epoch</th>\n",
              "      <th>train_loss</th>\n",
              "      <th>valid_loss</th>\n",
              "      <th>error_rate</th>\n",
              "      <th>f_beta</th>\n",
              "      <th>accuracy</th>\n",
              "      <th>time</th>\n",
              "    </tr>\n",
              "  </thead>\n",
              "  <tbody>\n",
              "    <tr>\n",
              "      <td>0</td>\n",
              "      <td>0.507500</td>\n",
              "      <td>0.167784</td>\n",
              "      <td>0.051200</td>\n",
              "      <td>0.949018</td>\n",
              "      <td>0.948800</td>\n",
              "      <td>02:09</td>\n",
              "    </tr>\n",
              "    <tr>\n",
              "      <td>1</td>\n",
              "      <td>0.508062</td>\n",
              "      <td>0.165942</td>\n",
              "      <td>0.047200</td>\n",
              "      <td>0.952986</td>\n",
              "      <td>0.952800</td>\n",
              "      <td>02:08</td>\n",
              "    </tr>\n",
              "    <tr>\n",
              "      <td>2</td>\n",
              "      <td>0.494176</td>\n",
              "      <td>0.166804</td>\n",
              "      <td>0.049600</td>\n",
              "      <td>0.950364</td>\n",
              "      <td>0.950400</td>\n",
              "      <td>02:09</td>\n",
              "    </tr>\n",
              "    <tr>\n",
              "      <td>3</td>\n",
              "      <td>0.506837</td>\n",
              "      <td>0.165593</td>\n",
              "      <td>0.050400</td>\n",
              "      <td>0.949782</td>\n",
              "      <td>0.949600</td>\n",
              "      <td>02:08</td>\n",
              "    </tr>\n",
              "    <tr>\n",
              "      <td>4</td>\n",
              "      <td>0.480865</td>\n",
              "      <td>0.166248</td>\n",
              "      <td>0.049600</td>\n",
              "      <td>0.950590</td>\n",
              "      <td>0.950400</td>\n",
              "      <td>02:08</td>\n",
              "    </tr>\n",
              "    <tr>\n",
              "      <td>5</td>\n",
              "      <td>0.473109</td>\n",
              "      <td>0.164858</td>\n",
              "      <td>0.044000</td>\n",
              "      <td>0.955920</td>\n",
              "      <td>0.956000</td>\n",
              "      <td>02:08</td>\n",
              "    </tr>\n",
              "    <tr>\n",
              "      <td>6</td>\n",
              "      <td>0.495612</td>\n",
              "      <td>0.162532</td>\n",
              "      <td>0.044000</td>\n",
              "      <td>0.956030</td>\n",
              "      <td>0.956000</td>\n",
              "      <td>02:09</td>\n",
              "    </tr>\n",
              "    <tr>\n",
              "      <td>7</td>\n",
              "      <td>0.470698</td>\n",
              "      <td>0.158861</td>\n",
              "      <td>0.044800</td>\n",
              "      <td>0.955199</td>\n",
              "      <td>0.955200</td>\n",
              "      <td>02:08</td>\n",
              "    </tr>\n",
              "    <tr>\n",
              "      <td>8</td>\n",
              "      <td>0.473549</td>\n",
              "      <td>0.160807</td>\n",
              "      <td>0.044800</td>\n",
              "      <td>0.955258</td>\n",
              "      <td>0.955200</td>\n",
              "      <td>02:09</td>\n",
              "    </tr>\n",
              "    <tr>\n",
              "      <td>9</td>\n",
              "      <td>0.467443</td>\n",
              "      <td>0.158352</td>\n",
              "      <td>0.044000</td>\n",
              "      <td>0.955978</td>\n",
              "      <td>0.956000</td>\n",
              "      <td>02:08</td>\n",
              "    </tr>\n",
              "    <tr>\n",
              "      <td>10</td>\n",
              "      <td>0.481975</td>\n",
              "      <td>0.157419</td>\n",
              "      <td>0.044000</td>\n",
              "      <td>0.955905</td>\n",
              "      <td>0.956000</td>\n",
              "      <td>02:08</td>\n",
              "    </tr>\n",
              "    <tr>\n",
              "      <td>11</td>\n",
              "      <td>0.468612</td>\n",
              "      <td>0.156095</td>\n",
              "      <td>0.046400</td>\n",
              "      <td>0.953676</td>\n",
              "      <td>0.953600</td>\n",
              "      <td>02:08</td>\n",
              "    </tr>\n",
              "    <tr>\n",
              "      <td>12</td>\n",
              "      <td>0.472988</td>\n",
              "      <td>0.153394</td>\n",
              "      <td>0.044000</td>\n",
              "      <td>0.955990</td>\n",
              "      <td>0.956000</td>\n",
              "      <td>02:08</td>\n",
              "    </tr>\n",
              "    <tr>\n",
              "      <td>13</td>\n",
              "      <td>0.458193</td>\n",
              "      <td>0.154253</td>\n",
              "      <td>0.042400</td>\n",
              "      <td>0.957615</td>\n",
              "      <td>0.957600</td>\n",
              "      <td>02:09</td>\n",
              "    </tr>\n",
              "    <tr>\n",
              "      <td>14</td>\n",
              "      <td>0.464734</td>\n",
              "      <td>0.154176</td>\n",
              "      <td>0.041600</td>\n",
              "      <td>0.958404</td>\n",
              "      <td>0.958400</td>\n",
              "      <td>02:08</td>\n",
              "    </tr>\n",
              "    <tr>\n",
              "      <td>15</td>\n",
              "      <td>0.472082</td>\n",
              "      <td>0.154929</td>\n",
              "      <td>0.044000</td>\n",
              "      <td>0.956028</td>\n",
              "      <td>0.956000</td>\n",
              "      <td>02:09</td>\n",
              "    </tr>\n",
              "  </tbody>\n",
              "</table>"
            ],
            "text/plain": [
              "<IPython.core.display.HTML object>"
            ]
          },
          "metadata": {
            "tags": []
          }
        }
      ]
    },
    {
      "cell_type": "code",
      "metadata": {
        "id": "RisGWdC451K_",
        "colab_type": "code",
        "colab": {}
      },
      "source": [
        "learn_res_152.save('resnet_152_299')"
      ],
      "execution_count": 0,
      "outputs": []
    },
    {
      "cell_type": "code",
      "metadata": {
        "id": "rtKWgRXJ5uu0",
        "colab_type": "code",
        "colab": {}
      },
      "source": [
        "learn_res_152.freeze_to(-3)"
      ],
      "execution_count": 0,
      "outputs": []
    },
    {
      "cell_type": "code",
      "metadata": {
        "id": "5ku1-v8P7N3a",
        "colab_type": "code",
        "colab": {
          "base_uri": "https://localhost:8080/",
          "height": 406
        },
        "outputId": "07a2df02-0731-4e99-dc5c-645da3dfefc5"
      },
      "source": [
        "learn_res_152.lr_find()\n",
        "learn_res_152.recorder.plot(suggestion=True)"
      ],
      "execution_count": 21,
      "outputs": [
        {
          "output_type": "display_data",
          "data": {
            "text/html": [
              "\n",
              "    <div>\n",
              "        <style>\n",
              "            /* Turns off some styling */\n",
              "            progress {\n",
              "                /* gets rid of default border in Firefox and Opera. */\n",
              "                border: none;\n",
              "                /* Needs to be in here for Safari polyfill so background images work as expected. */\n",
              "                background-size: auto;\n",
              "            }\n",
              "            .progress-bar-interrupted, .progress-bar-interrupted::-webkit-progress-bar {\n",
              "                background: #F44336;\n",
              "            }\n",
              "        </style>\n",
              "      <progress value='0' class='' max='1' style='width:300px; height:20px; vertical-align: middle;'></progress>\n",
              "      0.00% [0/1 00:00<00:00]\n",
              "    </div>\n",
              "    \n",
              "<table border=\"1\" class=\"dataframe\">\n",
              "  <thead>\n",
              "    <tr style=\"text-align: left;\">\n",
              "      <th>epoch</th>\n",
              "      <th>train_loss</th>\n",
              "      <th>valid_loss</th>\n",
              "      <th>error_rate</th>\n",
              "      <th>f_beta</th>\n",
              "      <th>accuracy</th>\n",
              "      <th>time</th>\n",
              "    </tr>\n",
              "  </thead>\n",
              "  <tbody>\n",
              "  </tbody>\n",
              "</table><p>\n",
              "\n",
              "    <div>\n",
              "        <style>\n",
              "            /* Turns off some styling */\n",
              "            progress {\n",
              "                /* gets rid of default border in Firefox and Opera. */\n",
              "                border: none;\n",
              "                /* Needs to be in here for Safari polyfill so background images work as expected. */\n",
              "                background-size: auto;\n",
              "            }\n",
              "            .progress-bar-interrupted, .progress-bar-interrupted::-webkit-progress-bar {\n",
              "                background: #F44336;\n",
              "            }\n",
              "        </style>\n",
              "      <progress value='78' class='' max='156' style='width:300px; height:20px; vertical-align: middle;'></progress>\n",
              "      50.00% [78/156 00:59<00:59 1.2404]\n",
              "    </div>\n",
              "    "
            ],
            "text/plain": [
              "<IPython.core.display.HTML object>"
            ]
          },
          "metadata": {
            "tags": []
          }
        },
        {
          "output_type": "stream",
          "text": [
            "LR Finder is complete, type {learner_name}.recorder.plot() to see the graph.\n",
            "Min numerical gradient: 2.75E-06\n",
            "Min loss divided by 10: 4.79E-07\n"
          ],
          "name": "stdout"
        },
        {
          "output_type": "display_data",
          "data": {
            "image/png": "[encoded data removed]",
            "text/plain": [
              "<Figure size 432x288 with 1 Axes>"
            ]
          },
          "metadata": {
            "tags": [],
            "needs_background": "light"
          }
        }
      ]
    },
    {
      "cell_type": "code",
      "metadata": {
        "id": "KXoO3lGW74Q4",
        "colab_type": "code",
        "colab": {
          "base_uri": "https://localhost:8080/",
          "height": 225
        },
        "outputId": "a8f1765f-dc3e-4579-ddc5-0692106616af"
      },
      "source": [
        "learn_res_152.fit_one_cycle(6, slice(4e-06, 3e-03/10),wd=0.1)"
      ],
      "execution_count": 22,
      "outputs": [
        {
          "output_type": "display_data",
          "data": {
            "text/html": [
              "<table border=\"1\" class=\"dataframe\">\n",
              "  <thead>\n",
              "    <tr style=\"text-align: left;\">\n",
              "      <th>epoch</th>\n",
              "      <th>train_loss</th>\n",
              "      <th>valid_loss</th>\n",
              "      <th>error_rate</th>\n",
              "      <th>f_beta</th>\n",
              "      <th>accuracy</th>\n",
              "      <th>time</th>\n",
              "    </tr>\n",
              "  </thead>\n",
              "  <tbody>\n",
              "    <tr>\n",
              "      <td>0</td>\n",
              "      <td>0.458202</td>\n",
              "      <td>0.156536</td>\n",
              "      <td>0.046400</td>\n",
              "      <td>0.953609</td>\n",
              "      <td>0.953600</td>\n",
              "      <td>02:09</td>\n",
              "    </tr>\n",
              "    <tr>\n",
              "      <td>1</td>\n",
              "      <td>0.495099</td>\n",
              "      <td>0.161745</td>\n",
              "      <td>0.047200</td>\n",
              "      <td>0.952867</td>\n",
              "      <td>0.952800</td>\n",
              "      <td>02:09</td>\n",
              "    </tr>\n",
              "    <tr>\n",
              "      <td>2</td>\n",
              "      <td>0.480537</td>\n",
              "      <td>0.151982</td>\n",
              "      <td>0.034400</td>\n",
              "      <td>0.965574</td>\n",
              "      <td>0.965600</td>\n",
              "      <td>02:09</td>\n",
              "    </tr>\n",
              "    <tr>\n",
              "      <td>3</td>\n",
              "      <td>0.459459</td>\n",
              "      <td>0.151584</td>\n",
              "      <td>0.039200</td>\n",
              "      <td>0.960807</td>\n",
              "      <td>0.960800</td>\n",
              "      <td>02:09</td>\n",
              "    </tr>\n",
              "    <tr>\n",
              "      <td>4</td>\n",
              "      <td>0.443474</td>\n",
              "      <td>0.154611</td>\n",
              "      <td>0.040800</td>\n",
              "      <td>0.959110</td>\n",
              "      <td>0.959200</td>\n",
              "      <td>02:09</td>\n",
              "    </tr>\n",
              "    <tr>\n",
              "      <td>5</td>\n",
              "      <td>0.444805</td>\n",
              "      <td>0.138522</td>\n",
              "      <td>0.034400</td>\n",
              "      <td>0.965552</td>\n",
              "      <td>0.965600</td>\n",
              "      <td>02:09</td>\n",
              "    </tr>\n",
              "  </tbody>\n",
              "</table>"
            ],
            "text/plain": [
              "<IPython.core.display.HTML object>"
            ]
          },
          "metadata": {
            "tags": []
          }
        }
      ]
    },
    {
      "cell_type": "code",
      "metadata": {
        "id": "K0EFGRXh-6aE",
        "colab_type": "code",
        "colab": {
          "base_uri": "https://localhost:8080/",
          "height": 195
        },
        "outputId": "97e58091-a28f-4539-965b-34b308fc0866"
      },
      "source": [
        "learn_res_152.freeze_to(-2)\n",
        "learn_res_152.fit_one_cycle(5, slice(4e-07, 3e-03/20),wd=0.05)"
      ],
      "execution_count": 23,
      "outputs": [
        {
          "output_type": "display_data",
          "data": {
            "text/html": [
              "<table border=\"1\" class=\"dataframe\">\n",
              "  <thead>\n",
              "    <tr style=\"text-align: left;\">\n",
              "      <th>epoch</th>\n",
              "      <th>train_loss</th>\n",
              "      <th>valid_loss</th>\n",
              "      <th>error_rate</th>\n",
              "      <th>f_beta</th>\n",
              "      <th>accuracy</th>\n",
              "      <th>time</th>\n",
              "    </tr>\n",
              "  </thead>\n",
              "  <tbody>\n",
              "    <tr>\n",
              "      <td>0</td>\n",
              "      <td>0.438602</td>\n",
              "      <td>0.136275</td>\n",
              "      <td>0.032800</td>\n",
              "      <td>0.967190</td>\n",
              "      <td>0.967200</td>\n",
              "      <td>02:10</td>\n",
              "    </tr>\n",
              "    <tr>\n",
              "      <td>1</td>\n",
              "      <td>0.436017</td>\n",
              "      <td>0.137894</td>\n",
              "      <td>0.035200</td>\n",
              "      <td>0.964776</td>\n",
              "      <td>0.964800</td>\n",
              "      <td>02:09</td>\n",
              "    </tr>\n",
              "    <tr>\n",
              "      <td>2</td>\n",
              "      <td>0.439419</td>\n",
              "      <td>0.133986</td>\n",
              "      <td>0.037600</td>\n",
              "      <td>0.962374</td>\n",
              "      <td>0.962400</td>\n",
              "      <td>02:08</td>\n",
              "    </tr>\n",
              "    <tr>\n",
              "      <td>3</td>\n",
              "      <td>0.427657</td>\n",
              "      <td>0.138631</td>\n",
              "      <td>0.039200</td>\n",
              "      <td>0.960649</td>\n",
              "      <td>0.960800</td>\n",
              "      <td>02:08</td>\n",
              "    </tr>\n",
              "    <tr>\n",
              "      <td>4</td>\n",
              "      <td>0.449908</td>\n",
              "      <td>0.132552</td>\n",
              "      <td>0.036000</td>\n",
              "      <td>0.964031</td>\n",
              "      <td>0.964000</td>\n",
              "      <td>02:08</td>\n",
              "    </tr>\n",
              "  </tbody>\n",
              "</table>"
            ],
            "text/plain": [
              "<IPython.core.display.HTML object>"
            ]
          },
          "metadata": {
            "tags": []
          }
        }
      ]
    },
    {
      "cell_type": "code",
      "metadata": {
        "id": "Vtbj1eXw_Xix",
        "colab_type": "code",
        "colab": {
          "base_uri": "https://localhost:8080/",
          "height": 195
        },
        "outputId": "e33148bb-9a5e-4f4d-e8d1-8fff52b568bc"
      },
      "source": [
        "learn_res_152.freeze_to(-1)\n",
        "learn_res_152.fit_one_cycle(5, slice(1e-07, 3e-03/30),wd=0.05)"
      ],
      "execution_count": 24,
      "outputs": [
        {
          "output_type": "display_data",
          "data": {
            "text/html": [
              "<table border=\"1\" class=\"dataframe\">\n",
              "  <thead>\n",
              "    <tr style=\"text-align: left;\">\n",
              "      <th>epoch</th>\n",
              "      <th>train_loss</th>\n",
              "      <th>valid_loss</th>\n",
              "      <th>error_rate</th>\n",
              "      <th>f_beta</th>\n",
              "      <th>accuracy</th>\n",
              "      <th>time</th>\n",
              "    </tr>\n",
              "  </thead>\n",
              "  <tbody>\n",
              "    <tr>\n",
              "      <td>0</td>\n",
              "      <td>0.458636</td>\n",
              "      <td>0.133937</td>\n",
              "      <td>0.038400</td>\n",
              "      <td>0.961561</td>\n",
              "      <td>0.961600</td>\n",
              "      <td>01:37</td>\n",
              "    </tr>\n",
              "    <tr>\n",
              "      <td>1</td>\n",
              "      <td>0.417577</td>\n",
              "      <td>0.133880</td>\n",
              "      <td>0.036000</td>\n",
              "      <td>0.963949</td>\n",
              "      <td>0.964000</td>\n",
              "      <td>01:37</td>\n",
              "    </tr>\n",
              "    <tr>\n",
              "      <td>2</td>\n",
              "      <td>0.424280</td>\n",
              "      <td>0.135182</td>\n",
              "      <td>0.036000</td>\n",
              "      <td>0.963931</td>\n",
              "      <td>0.964000</td>\n",
              "      <td>01:37</td>\n",
              "    </tr>\n",
              "    <tr>\n",
              "      <td>3</td>\n",
              "      <td>0.423553</td>\n",
              "      <td>0.132784</td>\n",
              "      <td>0.035200</td>\n",
              "      <td>0.964764</td>\n",
              "      <td>0.964800</td>\n",
              "      <td>01:37</td>\n",
              "    </tr>\n",
              "    <tr>\n",
              "      <td>4</td>\n",
              "      <td>0.434508</td>\n",
              "      <td>0.133818</td>\n",
              "      <td>0.035200</td>\n",
              "      <td>0.964807</td>\n",
              "      <td>0.964800</td>\n",
              "      <td>01:37</td>\n",
              "    </tr>\n",
              "  </tbody>\n",
              "</table>"
            ],
            "text/plain": [
              "<IPython.core.display.HTML object>"
            ]
          },
          "metadata": {
            "tags": []
          }
        }
      ]
    },
    {
      "cell_type": "code",
      "metadata": {
        "id": "6HfyhY8UICGu",
        "colab_type": "code",
        "colab": {}
      },
      "source": [
        "learn_res_152.save('res_152_299')"
      ],
      "execution_count": 0,
      "outputs": []
    }
  ]
}